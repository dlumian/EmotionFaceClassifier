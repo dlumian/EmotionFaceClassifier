{
 "cells": [
  {
   "cell_type": "code",
   "execution_count": null,
   "id": "1fdef18d-019c-4dab-8ec9-cf7389eaa5a9",
   "metadata": {},
   "outputs": [],
   "source": []
  },
  {
   "cell_type": "code",
   "execution_count": 1,
   "id": "7c77e8b1-088f-4b64-ac34-03b66742584d",
   "metadata": {},
   "outputs": [],
   "source": [
    "%load_ext autoreload\n",
    "%autoreload 2"
   ]
  },
  {
   "cell_type": "code",
   "execution_count": 2,
   "id": "4918ba8e-037b-41ba-bc9a-40a77a513076",
   "metadata": {},
   "outputs": [],
   "source": [
    "%matplotlib inline"
   ]
  },
  {
   "cell_type": "code",
   "execution_count": 3,
   "id": "f5f3c3b4-c4f0-4d8a-9ad6-64bf95d2a784",
   "metadata": {},
   "outputs": [],
   "source": [
    "from IPython.display import display"
   ]
  },
  {
   "cell_type": "code",
   "execution_count": 4,
   "id": "f38dfaf6-564d-4e91-a6dd-cad74cce9853",
   "metadata": {},
   "outputs": [],
   "source": [
    "import os\n",
    "import pandas as pd\n",
    "import matplotlib.pyplot as plt"
   ]
  },
  {
   "cell_type": "code",
   "execution_count": 5,
   "id": "6e499233-89a7-4275-b4da-992dfb2164a6",
   "metadata": {},
   "outputs": [],
   "source": [
    "from datascifuncs.tidbit_tools import load_json, write_json, print_json, check_directory_name"
   ]
  },
  {
   "cell_type": "code",
   "execution_count": 6,
   "id": "4afc1100-5676-46fd-a8cc-2391eafa8b6f",
   "metadata": {},
   "outputs": [
    {
     "name": "stdout",
     "output_type": "stream",
     "text": [
      "Directory set to /Users/dsl/Documents/GitHub/EmotionFaceClassifier, matches target dir string EmotionFaceClassifier.\n"
     ]
    },
    {
     "data": {
      "text/plain": [
       "True"
      ]
     },
     "execution_count": 6,
     "metadata": {},
     "output_type": "execute_result"
    }
   ],
   "source": [
    "main_dir = 'EmotionFaceClassifier'\n",
    "check_directory_name(main_dir)"
   ]
  },
  {
   "cell_type": "code",
   "execution_count": 7,
   "id": "ac4cae2d-7850-404f-8f38-58fdb6e4647d",
   "metadata": {},
   "outputs": [],
   "source": [
    "from utils.feature_extraction import perform_unsupervised_analysis"
   ]
  },
  {
   "cell_type": "code",
   "execution_count": 8,
   "id": "84be515d-4697-43cf-a923-0ce72a8d00fc",
   "metadata": {},
   "outputs": [],
   "source": [
    "common_dicts = load_json('./configs/input_mappings.json')"
   ]
  },
  {
   "cell_type": "code",
   "execution_count": 9,
   "id": "ef35a757-af63-4e8c-be10-ba9465ce63e6",
   "metadata": {},
   "outputs": [],
   "source": [
    "emotion_colors = common_dicts['plotly_styles']['Training']['color']"
   ]
  },
  {
   "cell_type": "code",
   "execution_count": 10,
   "id": "b0f4d7c4-98aa-4b2c-8fae-e6f55711db32",
   "metadata": {},
   "outputs": [],
   "source": [
    "# Read in FER 2013 data\n",
    "fer2013_path = 'data/fer2013_paths.csv'\n",
    "fer2013 = pd.read_csv(fer2013_path)"
   ]
  },
  {
   "cell_type": "code",
   "execution_count": 11,
   "id": "8501c100-158b-4c30-b50d-3c8b6f18c6b9",
   "metadata": {},
   "outputs": [
    {
     "data": {
      "text/html": [
       "<div>\n",
       "<style scoped>\n",
       "    .dataframe tbody tr th:only-of-type {\n",
       "        vertical-align: middle;\n",
       "    }\n",
       "\n",
       "    .dataframe tbody tr th {\n",
       "        vertical-align: top;\n",
       "    }\n",
       "\n",
       "    .dataframe thead th {\n",
       "        text-align: right;\n",
       "    }\n",
       "</style>\n",
       "<table border=\"1\" class=\"dataframe\">\n",
       "  <thead>\n",
       "    <tr style=\"text-align: right;\">\n",
       "      <th></th>\n",
       "      <th>emotion_id</th>\n",
       "      <th>pixels</th>\n",
       "      <th>Usage</th>\n",
       "      <th>emotion</th>\n",
       "      <th>image</th>\n",
       "      <th>usage</th>\n",
       "      <th>emo_count_id</th>\n",
       "      <th>img_path</th>\n",
       "      <th>color</th>\n",
       "    </tr>\n",
       "  </thead>\n",
       "  <tbody>\n",
       "    <tr>\n",
       "      <th>0</th>\n",
       "      <td>0</td>\n",
       "      <td>70 80 82 72 58 58 60 63 54 58 60 48 89 115 121...</td>\n",
       "      <td>Training</td>\n",
       "      <td>Angry</td>\n",
       "      <td>[[ 70  80  82 ...  52  43  41]\\n [ 65  61  58 ...</td>\n",
       "      <td>Training</td>\n",
       "      <td>1</td>\n",
       "      <td>data/Training/Angry/Angry-1.jpg</td>\n",
       "      <td>red</td>\n",
       "    </tr>\n",
       "    <tr>\n",
       "      <th>1</th>\n",
       "      <td>0</td>\n",
       "      <td>151 150 147 155 148 133 111 140 170 174 182 15...</td>\n",
       "      <td>Training</td>\n",
       "      <td>Angry</td>\n",
       "      <td>[[151 150 147 ... 129 140 120]\\n [151 149 149 ...</td>\n",
       "      <td>Training</td>\n",
       "      <td>2</td>\n",
       "      <td>data/Training/Angry/Angry-2.jpg</td>\n",
       "      <td>red</td>\n",
       "    </tr>\n",
       "    <tr>\n",
       "      <th>2</th>\n",
       "      <td>2</td>\n",
       "      <td>231 212 156 164 174 138 161 173 182 200 106 38...</td>\n",
       "      <td>Training</td>\n",
       "      <td>Fear</td>\n",
       "      <td>[[231 212 156 ...  44  27  16]\\n [229 175 148 ...</td>\n",
       "      <td>Training</td>\n",
       "      <td>1</td>\n",
       "      <td>data/Training/Fear/Fear-1.jpg</td>\n",
       "      <td>slategray</td>\n",
       "    </tr>\n",
       "    <tr>\n",
       "      <th>3</th>\n",
       "      <td>4</td>\n",
       "      <td>24 32 36 30 32 23 19 20 30 41 21 22 32 34 21 1...</td>\n",
       "      <td>Training</td>\n",
       "      <td>Sad</td>\n",
       "      <td>[[ 24  32  36 ... 173 172 173]\\n [ 25  34  29 ...</td>\n",
       "      <td>Training</td>\n",
       "      <td>1</td>\n",
       "      <td>data/Training/Sad/Sad-1.jpg</td>\n",
       "      <td>blue</td>\n",
       "    </tr>\n",
       "    <tr>\n",
       "      <th>4</th>\n",
       "      <td>6</td>\n",
       "      <td>4 0 0 0 0 0 0 0 0 0 0 0 3 15 23 28 48 50 58 84...</td>\n",
       "      <td>Training</td>\n",
       "      <td>Neutral</td>\n",
       "      <td>[[ 4  0  0 ... 27 24 25]\\n [ 1  0  0 ... 26 23...</td>\n",
       "      <td>Training</td>\n",
       "      <td>1</td>\n",
       "      <td>data/Training/Neutral/Neutral-1.jpg</td>\n",
       "      <td>sienna</td>\n",
       "    </tr>\n",
       "  </tbody>\n",
       "</table>\n",
       "</div>"
      ],
      "text/plain": [
       "   emotion_id                                             pixels     Usage  \\\n",
       "0           0  70 80 82 72 58 58 60 63 54 58 60 48 89 115 121...  Training   \n",
       "1           0  151 150 147 155 148 133 111 140 170 174 182 15...  Training   \n",
       "2           2  231 212 156 164 174 138 161 173 182 200 106 38...  Training   \n",
       "3           4  24 32 36 30 32 23 19 20 30 41 21 22 32 34 21 1...  Training   \n",
       "4           6  4 0 0 0 0 0 0 0 0 0 0 0 3 15 23 28 48 50 58 84...  Training   \n",
       "\n",
       "   emotion                                              image     usage  \\\n",
       "0    Angry  [[ 70  80  82 ...  52  43  41]\\n [ 65  61  58 ...  Training   \n",
       "1    Angry  [[151 150 147 ... 129 140 120]\\n [151 149 149 ...  Training   \n",
       "2     Fear  [[231 212 156 ...  44  27  16]\\n [229 175 148 ...  Training   \n",
       "3      Sad  [[ 24  32  36 ... 173 172 173]\\n [ 25  34  29 ...  Training   \n",
       "4  Neutral  [[ 4  0  0 ... 27 24 25]\\n [ 1  0  0 ... 26 23...  Training   \n",
       "\n",
       "   emo_count_id                             img_path      color  \n",
       "0             1      data/Training/Angry/Angry-1.jpg        red  \n",
       "1             2      data/Training/Angry/Angry-2.jpg        red  \n",
       "2             1        data/Training/Fear/Fear-1.jpg  slategray  \n",
       "3             1          data/Training/Sad/Sad-1.jpg       blue  \n",
       "4             1  data/Training/Neutral/Neutral-1.jpg     sienna  "
      ]
     },
     "execution_count": 11,
     "metadata": {},
     "output_type": "execute_result"
    }
   ],
   "source": [
    "fer2013.head()"
   ]
  },
  {
   "cell_type": "code",
   "execution_count": 12,
   "id": "30a51998-7683-4575-967c-02d878b31c19",
   "metadata": {},
   "outputs": [
    {
     "name": "stdout",
     "output_type": "stream",
     "text": [
      "(35887, 9)\n",
      "(28709, 9)\n"
     ]
    }
   ],
   "source": [
    "# Select training data\n",
    "print(fer2013.shape)\n",
    "train_df = fer2013[fer2013['usage']=='Training']\n",
    "print(train_df.shape)"
   ]
  },
  {
   "cell_type": "code",
   "execution_count": 13,
   "id": "df364a35-d26a-4496-b76a-4942ea0d89ec",
   "metadata": {
    "scrolled": true
   },
   "outputs": [
    {
     "data": {
      "text/plain": [
       "array(['Angry', 'Fear', 'Sad', 'Neutral', 'Happy', 'Surprise', 'Disgust'],\n",
       "      dtype=object)"
      ]
     },
     "execution_count": 13,
     "metadata": {},
     "output_type": "execute_result"
    }
   ],
   "source": [
    "train_df['emotion'].unique()"
   ]
  },
  {
   "cell_type": "code",
   "execution_count": 14,
   "id": "3b546ecf-4f51-4901-8b1a-db8842dd472c",
   "metadata": {},
   "outputs": [],
   "source": [
    "from datascifuncs import load_json"
   ]
  },
  {
   "cell_type": "code",
   "execution_count": 15,
   "id": "ee2234a5-d660-4855-9e49-8c6db10c0bcc",
   "metadata": {},
   "outputs": [],
   "source": [
    "test_dict = load_json('configs/unsupervised_models_test.json')"
   ]
  },
  {
   "cell_type": "code",
   "execution_count": 16,
   "id": "a607ab13-e05d-4391-8362-3aa63876d43f",
   "metadata": {},
   "outputs": [
    {
     "data": {
      "text/plain": [
       "{'FastICA': {'module': 'sklearn.decomposition',\n",
       "  'class': 'FastICA',\n",
       "  'normalization': 'standard',\n",
       "  'total_components': 30,\n",
       "  'components_for_reconstruction': [1, 10, 30],\n",
       "  'params': {'algorithm': 'parallel',\n",
       "   'fun': 'logcosh',\n",
       "   'max_iter': 500,\n",
       "   'tol': 0.0001,\n",
       "   'random_state': 42}},\n",
       " 'NMF': {'module': 'sklearn.decomposition',\n",
       "  'class': 'NMF',\n",
       "  'normalization': 'none',\n",
       "  'total_components': 30,\n",
       "  'components_for_reconstruction': [1, 10, 30],\n",
       "  'params': {'init': 'random',\n",
       "   'solver': 'mu',\n",
       "   'beta_loss': 'frobenius',\n",
       "   'max_iter': 1000,\n",
       "   'tol': 1e-05,\n",
       "   'random_state': 42}},\n",
       " 'PCA': {'module': 'sklearn.decomposition',\n",
       "  'class': 'PCA',\n",
       "  'normalization': 'standard',\n",
       "  'total_components': 30,\n",
       "  'components_for_reconstruction': [1, 10, 30],\n",
       "  'params': {'svd_solver': 'randomized', 'whiten': True, 'random_state': 42}}}"
      ]
     },
     "execution_count": 16,
     "metadata": {},
     "output_type": "execute_result"
    }
   ],
   "source": [
    "test_dict"
   ]
  },
  {
   "cell_type": "code",
   "execution_count": 17,
   "id": "f9aaa500-6bf4-46c2-948e-59334c2233a2",
   "metadata": {},
   "outputs": [
    {
     "data": {
      "text/plain": [
       "{'module': 'sklearn.decomposition',\n",
       " 'class': 'PCA',\n",
       " 'normalization': 'standard',\n",
       " 'total_components': 30,\n",
       " 'components_for_reconstruction': [1, 10, 30],\n",
       " 'params': {'svd_solver': 'randomized', 'whiten': True, 'random_state': 42}}"
      ]
     },
     "execution_count": 17,
     "metadata": {},
     "output_type": "execute_result"
    }
   ],
   "source": [
    "test_dict['PCA']"
   ]
  },
  {
   "cell_type": "code",
   "execution_count": 18,
   "id": "047e70d5-26fd-4212-9676-608670126930",
   "metadata": {},
   "outputs": [],
   "source": [
    "from utils.decomposition_feature_extract import create_X_y"
   ]
  },
  {
   "cell_type": "code",
   "execution_count": 19,
   "id": "3819e1bb-8550-49bc-b5d5-75d43de24dcf",
   "metadata": {},
   "outputs": [],
   "source": [
    "X, y = create_X_y(train_df, 'img_path', 'emotion')"
   ]
  },
  {
   "cell_type": "code",
   "execution_count": 20,
   "id": "b776e7e2-55d4-4595-8df3-484b76fa55e6",
   "metadata": {},
   "outputs": [],
   "source": [
    "from utils.decomposition_feature_extract import run_single_analysis"
   ]
  },
  {
   "cell_type": "code",
   "execution_count": null,
   "id": "2a06f5c4-cc15-4f87-899d-5e21620f4a23",
   "metadata": {},
   "outputs": [],
   "source": []
  },
  {
   "cell_type": "code",
   "execution_count": 21,
   "id": "f0ff0caa-8456-4254-b725-d4601ea97262",
   "metadata": {},
   "outputs": [
    {
     "name": "stdout",
     "output_type": "stream",
     "text": [
      "Analysis type: PCA\n",
      "Normalization: standard\n",
      "Total components: 30\n",
      "Parameters: {'svd_solver': 'randomized', 'whiten': True, 'random_state': 42}\n",
      "Analysis settings saved to models/unsupervised/pca_standard_30/pca_standard_30_info.json\n",
      "Averaged reconstructions saved to models/unsupervised/pca_standard_30/pca_avg_reconstructions.npz\n",
      "Metrics saved to models/unsupervised/pca_standard_30/pca_standard_30_metrics.csv\n"
     ]
    },
    {
     "data": {
      "text/plain": [
       "{'Overall': [array([-1.12383543e-16,  9.57315510e-17,  2.10373515e-18, ...,\n",
       "          3.63319702e-17,  1.26382663e-16,  7.87663192e-17]),\n",
       "  array([-9.93589473e-17,  6.55019596e-17, -9.12649810e-18, ...,\n",
       "          5.09595037e-17,  1.60916403e-16,  7.51621258e-17]),\n",
       "  array([-9.95252352e-17,  6.42683355e-17, -2.49818550e-18, ...,\n",
       "          5.60119485e-17,  1.74331582e-16,  1.20763679e-16])],\n",
       " 'Angry': [array([-0.05150946, -0.04420727, -0.03095065, ..., -0.0705843 ,\n",
       "         -0.06814493, -0.07050149]),\n",
       "  array([-0.05150946, -0.04420727, -0.03095065, ..., -0.0705843 ,\n",
       "         -0.06814493, -0.07050149]),\n",
       "  array([-0.05150946, -0.04420727, -0.03095065, ..., -0.0705843 ,\n",
       "         -0.06814493, -0.07050149])],\n",
       " 'Disgust': [array([-0.14061367, -0.15339212, -0.18702143, ..., -0.05945859,\n",
       "         -0.07754646, -0.08082209]),\n",
       "  array([-0.14061367, -0.15339212, -0.18702143, ..., -0.05945859,\n",
       "         -0.07754646, -0.08082209]),\n",
       "  array([-0.14061367, -0.15339212, -0.18702143, ..., -0.05945859,\n",
       "         -0.07754646, -0.08082209])],\n",
       " 'Fear': [array([0.13066225, 0.12175291, 0.11861566, ..., 0.0964196 , 0.08969753,\n",
       "         0.08682625]),\n",
       "  array([0.13066225, 0.12175291, 0.11861566, ..., 0.0964196 , 0.08969753,\n",
       "         0.08682625]),\n",
       "  array([0.13066225, 0.12175291, 0.11861566, ..., 0.0964196 , 0.08969753,\n",
       "         0.08682625])],\n",
       " 'Happy': [array([-0.016087  , -0.01068966, -0.00976918, ..., -0.03406991,\n",
       "         -0.03162285, -0.03438535]),\n",
       "  array([-0.016087  , -0.01068966, -0.00976918, ..., -0.03406991,\n",
       "         -0.03162285, -0.03438535]),\n",
       "  array([-0.016087  , -0.01068966, -0.00976918, ..., -0.03406991,\n",
       "         -0.03162285, -0.03438535])],\n",
       " 'Neutral': [array([-0.1361961 , -0.1444101 , -0.15003231, ..., -0.03860482,\n",
       "         -0.0359866 , -0.02526893]),\n",
       "  array([-0.1361961 , -0.1444101 , -0.15003231, ..., -0.03860482,\n",
       "         -0.0359866 , -0.02526893]),\n",
       "  array([-0.1361961 , -0.1444101 , -0.15003231, ..., -0.03860482,\n",
       "         -0.0359866 , -0.02526893])],\n",
       " 'Sad': [array([-0.15214002, -0.13682957, -0.11852538, ..., -0.09816474,\n",
       "         -0.10221925, -0.10783012]),\n",
       "  array([-0.15214002, -0.13682957, -0.11852538, ..., -0.09816474,\n",
       "         -0.10221925, -0.10783012]),\n",
       "  array([-0.15214002, -0.13682957, -0.11852538, ..., -0.09816474,\n",
       "         -0.10221925, -0.10783012])],\n",
       " 'Surprise': [array([0.39699852, 0.37832679, 0.34913071, ..., 0.26001266, 0.26461993,\n",
       "         0.26979967]),\n",
       "  array([0.39699852, 0.37832679, 0.34913071, ..., 0.26001266, 0.26461993,\n",
       "         0.26979967]),\n",
       "  array([0.39699852, 0.37832679, 0.34913071, ..., 0.26001266, 0.26461993,\n",
       "         0.26979967])]}"
      ]
     },
     "execution_count": 21,
     "metadata": {},
     "output_type": "execute_result"
    }
   ],
   "source": [
    "run_single_analysis(X, y, test_dict['PCA'])"
   ]
  }
 ],
 "metadata": {
  "kernelspec": {
   "display_name": "Python 3 (ipykernel)",
   "language": "python",
   "name": "python3"
  },
  "language_info": {
   "codemirror_mode": {
    "name": "ipython",
    "version": 3
   },
   "file_extension": ".py",
   "mimetype": "text/x-python",
   "name": "python",
   "nbconvert_exporter": "python",
   "pygments_lexer": "ipython3",
   "version": "3.11.7"
  }
 },
 "nbformat": 4,
 "nbformat_minor": 5
}
