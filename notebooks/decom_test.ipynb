{
 "cells": [
  {
   "cell_type": "code",
   "execution_count": 1,
   "id": "7c77e8b1-088f-4b64-ac34-03b66742584d",
   "metadata": {},
   "outputs": [],
   "source": [
    "%load_ext autoreload\n",
    "%autoreload 2"
   ]
  },
  {
   "cell_type": "code",
   "execution_count": 2,
   "id": "4918ba8e-037b-41ba-bc9a-40a77a513076",
   "metadata": {},
   "outputs": [],
   "source": [
    "%matplotlib inline"
   ]
  },
  {
   "cell_type": "code",
   "execution_count": 3,
   "id": "f5f3c3b4-c4f0-4d8a-9ad6-64bf95d2a784",
   "metadata": {},
   "outputs": [],
   "source": [
    "from IPython.display import display"
   ]
  },
  {
   "cell_type": "code",
   "execution_count": 4,
   "id": "f38dfaf6-564d-4e91-a6dd-cad74cce9853",
   "metadata": {},
   "outputs": [],
   "source": [
    "import os\n",
    "import pandas as pd\n",
    "import matplotlib.pyplot as plt"
   ]
  },
  {
   "cell_type": "code",
   "execution_count": 5,
   "id": "6e499233-89a7-4275-b4da-992dfb2164a6",
   "metadata": {},
   "outputs": [],
   "source": [
    "from datascifuncs.tidbit_tools import load_json, write_json, print_json, check_directory_name"
   ]
  },
  {
   "cell_type": "code",
   "execution_count": 6,
   "id": "4afc1100-5676-46fd-a8cc-2391eafa8b6f",
   "metadata": {},
   "outputs": [
    {
     "name": "stdout",
     "output_type": "stream",
     "text": [
      "Directory set to /Users/dsl/Documents/GitHub/EmotionFaceClassifier, matches target dir string EmotionFaceClassifier.\n"
     ]
    },
    {
     "data": {
      "text/plain": [
       "True"
      ]
     },
     "execution_count": 6,
     "metadata": {},
     "output_type": "execute_result"
    }
   ],
   "source": [
    "main_dir = 'EmotionFaceClassifier'\n",
    "check_directory_name(main_dir)"
   ]
  },
  {
   "cell_type": "code",
   "execution_count": 7,
   "id": "ac4cae2d-7850-404f-8f38-58fdb6e4647d",
   "metadata": {},
   "outputs": [],
   "source": [
    "from utils.decomposition_feature_extract import create_X_y"
   ]
  },
  {
   "cell_type": "code",
   "execution_count": 8,
   "id": "84be515d-4697-43cf-a923-0ce72a8d00fc",
   "metadata": {},
   "outputs": [],
   "source": [
    "common_dicts = load_json('./configs/input_mappings.json')"
   ]
  },
  {
   "cell_type": "code",
   "execution_count": 9,
   "id": "ef35a757-af63-4e8c-be10-ba9465ce63e6",
   "metadata": {},
   "outputs": [],
   "source": [
    "emotion_colors = common_dicts['plotly_styles']['Training']['color']"
   ]
  },
  {
   "cell_type": "code",
   "execution_count": 10,
   "id": "b0f4d7c4-98aa-4b2c-8fae-e6f55711db32",
   "metadata": {},
   "outputs": [],
   "source": [
    "# Read in FER 2013 data\n",
    "fer2013_path = 'data/fer2013_paths.csv'\n",
    "fer2013 = pd.read_csv(fer2013_path)"
   ]
  },
  {
   "cell_type": "code",
   "execution_count": 11,
   "id": "8501c100-158b-4c30-b50d-3c8b6f18c6b9",
   "metadata": {},
   "outputs": [
    {
     "data": {
      "text/html": [
       "<div>\n",
       "<style scoped>\n",
       "    .dataframe tbody tr th:only-of-type {\n",
       "        vertical-align: middle;\n",
       "    }\n",
       "\n",
       "    .dataframe tbody tr th {\n",
       "        vertical-align: top;\n",
       "    }\n",
       "\n",
       "    .dataframe thead th {\n",
       "        text-align: right;\n",
       "    }\n",
       "</style>\n",
       "<table border=\"1\" class=\"dataframe\">\n",
       "  <thead>\n",
       "    <tr style=\"text-align: right;\">\n",
       "      <th></th>\n",
       "      <th>emotion_id</th>\n",
       "      <th>pixels</th>\n",
       "      <th>Usage</th>\n",
       "      <th>emotion</th>\n",
       "      <th>image</th>\n",
       "      <th>usage</th>\n",
       "      <th>emo_count_id</th>\n",
       "      <th>img_path</th>\n",
       "      <th>color</th>\n",
       "    </tr>\n",
       "  </thead>\n",
       "  <tbody>\n",
       "    <tr>\n",
       "      <th>0</th>\n",
       "      <td>0</td>\n",
       "      <td>70 80 82 72 58 58 60 63 54 58 60 48 89 115 121...</td>\n",
       "      <td>Training</td>\n",
       "      <td>Angry</td>\n",
       "      <td>[[ 70  80  82 ...  52  43  41]\\n [ 65  61  58 ...</td>\n",
       "      <td>Training</td>\n",
       "      <td>1</td>\n",
       "      <td>data/Training/Angry/Angry-1.jpg</td>\n",
       "      <td>red</td>\n",
       "    </tr>\n",
       "    <tr>\n",
       "      <th>1</th>\n",
       "      <td>0</td>\n",
       "      <td>151 150 147 155 148 133 111 140 170 174 182 15...</td>\n",
       "      <td>Training</td>\n",
       "      <td>Angry</td>\n",
       "      <td>[[151 150 147 ... 129 140 120]\\n [151 149 149 ...</td>\n",
       "      <td>Training</td>\n",
       "      <td>2</td>\n",
       "      <td>data/Training/Angry/Angry-2.jpg</td>\n",
       "      <td>red</td>\n",
       "    </tr>\n",
       "    <tr>\n",
       "      <th>2</th>\n",
       "      <td>2</td>\n",
       "      <td>231 212 156 164 174 138 161 173 182 200 106 38...</td>\n",
       "      <td>Training</td>\n",
       "      <td>Fear</td>\n",
       "      <td>[[231 212 156 ...  44  27  16]\\n [229 175 148 ...</td>\n",
       "      <td>Training</td>\n",
       "      <td>1</td>\n",
       "      <td>data/Training/Fear/Fear-1.jpg</td>\n",
       "      <td>slategray</td>\n",
       "    </tr>\n",
       "    <tr>\n",
       "      <th>3</th>\n",
       "      <td>4</td>\n",
       "      <td>24 32 36 30 32 23 19 20 30 41 21 22 32 34 21 1...</td>\n",
       "      <td>Training</td>\n",
       "      <td>Sad</td>\n",
       "      <td>[[ 24  32  36 ... 173 172 173]\\n [ 25  34  29 ...</td>\n",
       "      <td>Training</td>\n",
       "      <td>1</td>\n",
       "      <td>data/Training/Sad/Sad-1.jpg</td>\n",
       "      <td>blue</td>\n",
       "    </tr>\n",
       "    <tr>\n",
       "      <th>4</th>\n",
       "      <td>6</td>\n",
       "      <td>4 0 0 0 0 0 0 0 0 0 0 0 3 15 23 28 48 50 58 84...</td>\n",
       "      <td>Training</td>\n",
       "      <td>Neutral</td>\n",
       "      <td>[[ 4  0  0 ... 27 24 25]\\n [ 1  0  0 ... 26 23...</td>\n",
       "      <td>Training</td>\n",
       "      <td>1</td>\n",
       "      <td>data/Training/Neutral/Neutral-1.jpg</td>\n",
       "      <td>sienna</td>\n",
       "    </tr>\n",
       "  </tbody>\n",
       "</table>\n",
       "</div>"
      ],
      "text/plain": [
       "   emotion_id                                             pixels     Usage  \\\n",
       "0           0  70 80 82 72 58 58 60 63 54 58 60 48 89 115 121...  Training   \n",
       "1           0  151 150 147 155 148 133 111 140 170 174 182 15...  Training   \n",
       "2           2  231 212 156 164 174 138 161 173 182 200 106 38...  Training   \n",
       "3           4  24 32 36 30 32 23 19 20 30 41 21 22 32 34 21 1...  Training   \n",
       "4           6  4 0 0 0 0 0 0 0 0 0 0 0 3 15 23 28 48 50 58 84...  Training   \n",
       "\n",
       "   emotion                                              image     usage  \\\n",
       "0    Angry  [[ 70  80  82 ...  52  43  41]\\n [ 65  61  58 ...  Training   \n",
       "1    Angry  [[151 150 147 ... 129 140 120]\\n [151 149 149 ...  Training   \n",
       "2     Fear  [[231 212 156 ...  44  27  16]\\n [229 175 148 ...  Training   \n",
       "3      Sad  [[ 24  32  36 ... 173 172 173]\\n [ 25  34  29 ...  Training   \n",
       "4  Neutral  [[ 4  0  0 ... 27 24 25]\\n [ 1  0  0 ... 26 23...  Training   \n",
       "\n",
       "   emo_count_id                             img_path      color  \n",
       "0             1      data/Training/Angry/Angry-1.jpg        red  \n",
       "1             2      data/Training/Angry/Angry-2.jpg        red  \n",
       "2             1        data/Training/Fear/Fear-1.jpg  slategray  \n",
       "3             1          data/Training/Sad/Sad-1.jpg       blue  \n",
       "4             1  data/Training/Neutral/Neutral-1.jpg     sienna  "
      ]
     },
     "execution_count": 11,
     "metadata": {},
     "output_type": "execute_result"
    }
   ],
   "source": [
    "fer2013.head()"
   ]
  },
  {
   "cell_type": "code",
   "execution_count": 12,
   "id": "30a51998-7683-4575-967c-02d878b31c19",
   "metadata": {},
   "outputs": [
    {
     "name": "stdout",
     "output_type": "stream",
     "text": [
      "(35887, 9)\n",
      "(28709, 9)\n"
     ]
    }
   ],
   "source": [
    "# Select training data\n",
    "print(fer2013.shape)\n",
    "train_df = fer2013[fer2013['usage']=='Training']\n",
    "print(train_df.shape)"
   ]
  },
  {
   "cell_type": "code",
   "execution_count": 13,
   "id": "df364a35-d26a-4496-b76a-4942ea0d89ec",
   "metadata": {
    "scrolled": true
   },
   "outputs": [
    {
     "data": {
      "text/plain": [
       "array(['Angry', 'Fear', 'Sad', 'Neutral', 'Happy', 'Surprise', 'Disgust'],\n",
       "      dtype=object)"
      ]
     },
     "execution_count": 13,
     "metadata": {},
     "output_type": "execute_result"
    }
   ],
   "source": [
    "train_df['emotion'].unique()"
   ]
  },
  {
   "cell_type": "code",
   "execution_count": 14,
   "id": "ee2234a5-d660-4855-9e49-8c6db10c0bcc",
   "metadata": {},
   "outputs": [],
   "source": [
    "test_dict = load_json('configs/unsupervised_models_test.json')"
   ]
  },
  {
   "cell_type": "code",
   "execution_count": 15,
   "id": "a607ab13-e05d-4391-8362-3aa63876d43f",
   "metadata": {},
   "outputs": [
    {
     "name": "stdout",
     "output_type": "stream",
     "text": [
      "{\n",
      "    \"FastICA\": {\n",
      "        \"module\": \"sklearn.decomposition\",\n",
      "        \"class\": \"FastICA\",\n",
      "        \"normalization\": \"standard\",\n",
      "        \"total_components\": 100,\n",
      "        \"components_for_reconstruction\": [\n",
      "            1,\n",
      "            10,\n",
      "            30,\n",
      "            50,\n",
      "            100\n",
      "        ],\n",
      "        \"params\": {\n",
      "            \"algorithm\": \"parallel\",\n",
      "            \"fun\": \"logcosh\",\n",
      "            \"max_iter\": 500,\n",
      "            \"tol\": 0.0001,\n",
      "            \"random_state\": 42\n",
      "        }\n",
      "    },\n",
      "    \"NMF\": {\n",
      "        \"module\": \"sklearn.decomposition\",\n",
      "        \"class\": \"NMF\",\n",
      "        \"normalization\": \"none\",\n",
      "        \"total_components\": 100,\n",
      "        \"components_for_reconstruction\": [\n",
      "            1,\n",
      "            10,\n",
      "            30,\n",
      "            50,\n",
      "            100\n",
      "        ],\n",
      "        \"params\": {\n",
      "            \"init\": \"random\",\n",
      "            \"solver\": \"mu\",\n",
      "            \"beta_loss\": \"frobenius\",\n",
      "            \"max_iter\": 1000,\n",
      "            \"tol\": 1e-05,\n",
      "            \"random_state\": 42\n",
      "        }\n",
      "    },\n",
      "    \"PCA\": {\n",
      "        \"module\": \"sklearn.decomposition\",\n",
      "        \"class\": \"PCA\",\n",
      "        \"normalization\": \"standard\",\n",
      "        \"total_components\": 100,\n",
      "        \"components_for_reconstruction\": [\n",
      "            1,\n",
      "            10,\n",
      "            30,\n",
      "            50,\n",
      "            100\n",
      "        ],\n",
      "        \"params\": {\n",
      "            \"svd_solver\": \"randomized\",\n",
      "            \"whiten\": true,\n",
      "            \"random_state\": 42\n",
      "        }\n",
      "    }\n",
      "}\n"
     ]
    }
   ],
   "source": [
    "print_json(test_dict)"
   ]
  },
  {
   "cell_type": "code",
   "execution_count": 16,
   "id": "f9aaa500-6bf4-46c2-948e-59334c2233a2",
   "metadata": {},
   "outputs": [
    {
     "name": "stdout",
     "output_type": "stream",
     "text": [
      "{\n",
      "    \"module\": \"sklearn.decomposition\",\n",
      "    \"class\": \"PCA\",\n",
      "    \"normalization\": \"standard\",\n",
      "    \"total_components\": 100,\n",
      "    \"components_for_reconstruction\": [\n",
      "        1,\n",
      "        10,\n",
      "        30,\n",
      "        50,\n",
      "        100\n",
      "    ],\n",
      "    \"params\": {\n",
      "        \"svd_solver\": \"randomized\",\n",
      "        \"whiten\": true,\n",
      "        \"random_state\": 42\n",
      "    }\n",
      "}\n"
     ]
    }
   ],
   "source": [
    "print_json(test_dict['PCA'])"
   ]
  },
  {
   "cell_type": "code",
   "execution_count": 17,
   "id": "3819e1bb-8550-49bc-b5d5-75d43de24dcf",
   "metadata": {},
   "outputs": [],
   "source": [
    "X, y = create_X_y(train_df, 'img_path', 'emotion')"
   ]
  },
  {
   "cell_type": "code",
   "execution_count": 18,
   "id": "4a016116-0993-4f16-b335-31eb25cc429a",
   "metadata": {},
   "outputs": [],
   "source": [
    "import numpy as np\n",
    "import matplotlib.pyplot as plt\n",
    "%matplotlib inline"
   ]
  },
  {
   "cell_type": "code",
   "execution_count": 19,
   "id": "b776e7e2-55d4-4595-8df3-484b76fa55e6",
   "metadata": {},
   "outputs": [],
   "source": [
    "from utils.decomposition_feature_extract import run_single_analysis, generate_analysis_paths"
   ]
  },
  {
   "cell_type": "code",
   "execution_count": 20,
   "id": "9a04f0e9-c611-4b03-99ea-4b369b75109e",
   "metadata": {},
   "outputs": [],
   "source": [
    "def display_image(image, title=None):\n",
    "    \"\"\"\n",
    "    Display a single 48x48 grayscale image in a Jupyter notebook.\n",
    "    \n",
    "    :param image: 1D array (length 2304) or 2D array (48x48)\n",
    "    :param title: Title for the image (optional)\n",
    "    \"\"\"\n",
    "    # Reshape if necessary\n",
    "    if image.shape[0] == 2304:\n",
    "        image = image.reshape(48, 48)\n",
    "    \n",
    "    plt.figure(figsize=(5, 5))\n",
    "    plt.imshow(image, cmap='gray')\n",
    "    plt.axis('off')\n",
    "    if title:\n",
    "        plt.title(title)\n",
    "    plt.show()"
   ]
  },
  {
   "cell_type": "code",
   "execution_count": 21,
   "id": "57f6894d-3200-44c8-b095-1d604712f7df",
   "metadata": {},
   "outputs": [],
   "source": [
    "analysis_keys = ['FastICA', 'NMF', 'PCA']"
   ]
  },
  {
   "cell_type": "code",
   "execution_count": 22,
   "id": "90b0386b-f686-4957-a997-72ea4aea81e4",
   "metadata": {
    "scrolled": true
   },
   "outputs": [
    {
     "name": "stdout",
     "output_type": "stream",
     "text": [
      "Analysis settings:\n",
      "{\n",
      "    \"module\": \"sklearn.decomposition\",\n",
      "    \"class\": \"FastICA\",\n",
      "    \"normalization\": \"standard\",\n",
      "    \"total_components\": 100,\n",
      "    \"components_for_reconstruction\": [\n",
      "        1,\n",
      "        10,\n",
      "        30,\n",
      "        50,\n",
      "        100\n",
      "    ],\n",
      "    \"params\": {\n",
      "        \"algorithm\": \"parallel\",\n",
      "        \"fun\": \"logcosh\",\n",
      "        \"max_iter\": 500,\n",
      "        \"tol\": 0.0001,\n",
      "        \"random_state\": 42\n",
      "    },\n",
      "    \"paths\": {\n",
      "        \"base_dir\": \"models/unsupervised\",\n",
      "        \"result_dir\": \"models/unsupervised/fastica_standard_100\",\n",
      "        \"log_dir\": \"models/unsupervised/fastica_standard_100/logs\",\n",
      "        \"log_path\": \"models/unsupervised/fastica_standard_100/logs/log_fastica_standard_100.log\",\n",
      "        \"analysis_json\": \"models/unsupervised/fastica_standard_100/fastica_standard_100_info.json\",\n",
      "        \"metrics_file\": \"models/unsupervised/fastica_standard_100/fastica_standard_100_metrics.csv\",\n",
      "        \"avg_reconstructions_file\": \"models/unsupervised/fastica_standard_100/fastica_avg_reconstructions.npz\"\n",
      "    }\n",
      "}\n"
     ]
    },
    {
     "name": "stderr",
     "output_type": "stream",
     "text": [
      "/opt/anaconda3/lib/python3.11/site-packages/sklearn/decomposition/_fastica.py:542: FutureWarning: Starting in v1.3, whiten='unit-variance' will be used by default.\n",
      "  warnings.warn(\n"
     ]
    },
    {
     "name": "stdout",
     "output_type": "stream",
     "text": [
      "Running category: Overall.\n",
      "Shape of features is: (28709, 100).\n"
     ]
    },
    {
     "name": "stderr",
     "output_type": "stream",
     "text": [
      "/opt/anaconda3/lib/python3.11/site-packages/sklearn/decomposition/_fastica.py:542: FutureWarning: Starting in v1.3, whiten='unit-variance' will be used by default.\n",
      "  warnings.warn(\n"
     ]
    },
    {
     "name": "stdout",
     "output_type": "stream",
     "text": [
      "Running category: Angry.\n",
      "Shape of features is: (3995, 100).\n"
     ]
    },
    {
     "name": "stderr",
     "output_type": "stream",
     "text": [
      "/opt/anaconda3/lib/python3.11/site-packages/sklearn/decomposition/_fastica.py:542: FutureWarning: Starting in v1.3, whiten='unit-variance' will be used by default.\n",
      "  warnings.warn(\n"
     ]
    },
    {
     "name": "stdout",
     "output_type": "stream",
     "text": [
      "Running category: Disgust.\n",
      "Shape of features is: (436, 100).\n"
     ]
    },
    {
     "name": "stderr",
     "output_type": "stream",
     "text": [
      "/opt/anaconda3/lib/python3.11/site-packages/sklearn/decomposition/_fastica.py:542: FutureWarning: Starting in v1.3, whiten='unit-variance' will be used by default.\n",
      "  warnings.warn(\n"
     ]
    },
    {
     "name": "stdout",
     "output_type": "stream",
     "text": [
      "Running category: Fear.\n",
      "Shape of features is: (4097, 100).\n"
     ]
    },
    {
     "name": "stderr",
     "output_type": "stream",
     "text": [
      "/opt/anaconda3/lib/python3.11/site-packages/sklearn/decomposition/_fastica.py:542: FutureWarning: Starting in v1.3, whiten='unit-variance' will be used by default.\n",
      "  warnings.warn(\n"
     ]
    },
    {
     "name": "stdout",
     "output_type": "stream",
     "text": [
      "Running category: Happy.\n",
      "Shape of features is: (7215, 100).\n"
     ]
    },
    {
     "name": "stderr",
     "output_type": "stream",
     "text": [
      "/opt/anaconda3/lib/python3.11/site-packages/sklearn/decomposition/_fastica.py:542: FutureWarning: Starting in v1.3, whiten='unit-variance' will be used by default.\n",
      "  warnings.warn(\n"
     ]
    },
    {
     "name": "stdout",
     "output_type": "stream",
     "text": [
      "Running category: Neutral.\n",
      "Shape of features is: (4965, 100).\n"
     ]
    },
    {
     "name": "stderr",
     "output_type": "stream",
     "text": [
      "/opt/anaconda3/lib/python3.11/site-packages/sklearn/decomposition/_fastica.py:542: FutureWarning: Starting in v1.3, whiten='unit-variance' will be used by default.\n",
      "  warnings.warn(\n"
     ]
    },
    {
     "name": "stdout",
     "output_type": "stream",
     "text": [
      "Running category: Sad.\n",
      "Shape of features is: (4830, 100).\n"
     ]
    },
    {
     "name": "stderr",
     "output_type": "stream",
     "text": [
      "/opt/anaconda3/lib/python3.11/site-packages/sklearn/decomposition/_fastica.py:542: FutureWarning: Starting in v1.3, whiten='unit-variance' will be used by default.\n",
      "  warnings.warn(\n"
     ]
    },
    {
     "name": "stdout",
     "output_type": "stream",
     "text": [
      "Running category: Surprise.\n",
      "Shape of features is: (3171, 100).\n",
      "Analysis settings saved to models/unsupervised/fastica_standard_100/fastica_standard_100_info.json\n",
      "Averaged reconstructions saved to models/unsupervised/fastica_standard_100/fastica_avg_reconstructions.npz\n",
      "Function run_single_analysis Took 266.0888 seconds\n"
     ]
    },
    {
     "ename": "KeyError",
     "evalue": "'avg_recon_images'",
     "output_type": "error",
     "traceback": [
      "\u001b[0;31m---------------------------------------------------------------------------\u001b[0m",
      "\u001b[0;31mKeyError\u001b[0m                                  Traceback (most recent call last)",
      "Cell \u001b[0;32mIn[22], line 7\u001b[0m\n\u001b[1;32m      4\u001b[0m analysis_results \u001b[38;5;241m=\u001b[39m run_single_analysis(X, y, analysis_config)\n\u001b[1;32m      6\u001b[0m l_results \u001b[38;5;241m=\u001b[39m analysis_results\u001b[38;5;241m.\u001b[39mtolist()\n\u001b[0;32m----> 7\u001b[0m \u001b[38;5;28;01mfor\u001b[39;00m img \u001b[38;5;129;01min\u001b[39;00m l_results[\u001b[38;5;241m0\u001b[39m][\u001b[38;5;124m'\u001b[39m\u001b[38;5;124mavg_recon_images\u001b[39m\u001b[38;5;124m'\u001b[39m]:\n\u001b[1;32m      8\u001b[0m     display_image(img)\n\u001b[1;32m      9\u001b[0m \u001b[38;5;28;01mfor\u001b[39;00m img \u001b[38;5;129;01min\u001b[39;00m l_results[\u001b[38;5;241m5\u001b[39m][\u001b[38;5;124m'\u001b[39m\u001b[38;5;124mavg_recon_images\u001b[39m\u001b[38;5;124m'\u001b[39m]:\n",
      "\u001b[0;31mKeyError\u001b[0m: 'avg_recon_images'"
     ]
    }
   ],
   "source": [
    "for ak in analysis_keys:\n",
    "    analysis_config = test_dict[ak]\n",
    "    analysis_config = generate_analysis_paths(analysis_config)\n",
    "    analysis_results = run_single_analysis(X, y, analysis_config)\n",
    "\n",
    "    l_results = analysis_results.tolist()\n",
    "    for img in l_results[0]['avg_recon_images']:\n",
    "        display_image(img)\n",
    "    for img in l_results[5]['avg_recon_images']:\n",
    "        display_image(img)"
   ]
  },
  {
   "cell_type": "code",
   "execution_count": null,
   "id": "acc1fdd8-657e-4517-8761-803132ebdfc1",
   "metadata": {},
   "outputs": [],
   "source": []
  },
  {
   "cell_type": "code",
   "execution_count": null,
   "id": "3b51c9b0-e436-4842-969f-8e656228ce84",
   "metadata": {},
   "outputs": [],
   "source": []
  },
  {
   "cell_type": "code",
   "execution_count": null,
   "id": "1b87ddb9-57d8-4946-8f0b-5941bb852902",
   "metadata": {},
   "outputs": [],
   "source": []
  },
  {
   "cell_type": "code",
   "execution_count": null,
   "id": "988009a6-d205-4dda-b130-0cbf7e242f12",
   "metadata": {},
   "outputs": [],
   "source": []
  }
 ],
 "metadata": {
  "kernelspec": {
   "display_name": "Python 3 (ipykernel)",
   "language": "python",
   "name": "python3"
  },
  "language_info": {
   "codemirror_mode": {
    "name": "ipython",
    "version": 3
   },
   "file_extension": ".py",
   "mimetype": "text/x-python",
   "name": "python",
   "nbconvert_exporter": "python",
   "pygments_lexer": "ipython3",
   "version": "3.11.7"
  }
 },
 "nbformat": 4,
 "nbformat_minor": 5
}
