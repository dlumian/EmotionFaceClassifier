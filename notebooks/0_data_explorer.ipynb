{
 "cells": [
  {
   "cell_type": "markdown",
   "id": "f13af0f6-1c63-4db2-9fcd-933de4d7cf99",
   "metadata": {},
   "source": [
    "# Data Explorer\n",
    "\n",
    "## Emotion Face Classifier Notebook 0\n",
    "\n",
    "Designed to show loaded data used throughout each step.\n",
    "\n",
    "Variable names for each dictionary and dataframe should be consistent across notebooks.\n",
    "\n",
    "**NOTE:** Some files created from running notebooks and can not be explored until generated."
   ]
  },
  {
   "cell_type": "code",
   "execution_count": 2,
   "id": "86132013-d172-4297-8d28-d6b4dea12ea2",
   "metadata": {},
   "outputs": [],
   "source": [
    "%load_ext autoreload\n",
    "%autoreload 2"
   ]
  },
  {
   "cell_type": "code",
   "execution_count": 3,
   "id": "583ace8b-6504-47af-8756-e22c0d673e2a",
   "metadata": {},
   "outputs": [],
   "source": [
    "from datascifuncs import check_directory_name, load_json, print_json"
   ]
  },
  {
   "cell_type": "code",
   "execution_count": 4,
   "id": "0eb5f440-c299-4e6b-9b99-974f1ea0f3d5",
   "metadata": {},
   "outputs": [
    {
     "name": "stdout",
     "output_type": "stream",
     "text": [
      "Directory set to /Users/dsl/Documents/GitHub/EmotionFaceClassifier, matches target dir string EmotionFaceClassifier.\n"
     ]
    },
    {
     "data": {
      "text/plain": [
       "True"
      ]
     },
     "execution_count": 4,
     "metadata": {},
     "output_type": "execute_result"
    }
   ],
   "source": [
    "main_dir = 'EmotionFaceClassifier'\n",
    "check_directory_name(main_dir)"
   ]
  },
  {
   "cell_type": "code",
   "execution_count": 5,
   "id": "d6ebe9c7-bb77-46ed-b341-8146bde539fc",
   "metadata": {},
   "outputs": [],
   "source": [
    "from utils.data_loader import DataLoader"
   ]
  },
  {
   "cell_type": "markdown",
   "id": "28562330-0ca7-4fb8-a418-b70182aeade5",
   "metadata": {},
   "source": [
    "### Data Loader\n",
    "\n",
    "Loads common json and csv files. By default, all following will be loaded. Each item can be set to False to skip. None is returned if file does not exist.\n",
    "\n",
    "settings.json also sets each primary key/value pair as attribute of the class instance.\n",
    "\n",
    "Key JSON files, stored in configs:\n",
    "- settings.json\n",
    "- unsupervised_models.json\n",
    "- vectorized_models.json\n",
    "\n",
    "Key csv files, stored in data:\n",
    "- fer2013.csv\n",
    "- der2013_processed.csv"
   ]
  },
  {
   "cell_type": "code",
   "execution_count": 7,
   "id": "1485163b-a872-4a0a-85ec-223f58e7586d",
   "metadata": {},
   "outputs": [],
   "source": [
    "# Initialize DataLoader with boolean flags\n",
    "data_loader = DataLoader(\n",
    "    settings=True, \n",
    "    unsupervised=True, \n",
    "    vectorized=True, \n",
    "    initial_data=True, \n",
    "    processed_data=True\n",
    ")"
   ]
  },
  {
   "cell_type": "code",
   "execution_count": 8,
   "id": "98758ebc-97ae-4eae-8043-fc32e56b54bf",
   "metadata": {},
   "outputs": [],
   "source": [
    "# Call method to read in data\n",
    "data_loader.load_all_data()"
   ]
  },
  {
   "cell_type": "code",
   "execution_count": 23,
   "id": "8e6db2db-f1ee-4f34-8e80-ff57d7a419f6",
   "metadata": {},
   "outputs": [
    {
     "name": "stdout",
     "output_type": "stream",
     "text": [
      "file_paths\n",
      "load_flags\n",
      "data\n",
      "usage_dict\n",
      "emo_dict\n",
      "category_order\n",
      "color_dict\n",
      "plotly_styles\n",
      "settings\n",
      "unsupervised\n",
      "vectorized\n",
      "initial_data\n",
      "processed_data\n"
     ]
    }
   ],
   "source": [
    "for attr in data_loader.__dict__.keys():\n",
    "    print(f\"{attr}\")"
   ]
  },
  {
   "cell_type": "code",
   "execution_count": 9,
   "id": "a2453ccb-d361-4e88-854b-0f5086868907",
   "metadata": {},
   "outputs": [],
   "source": [
    "\n",
    "# print_json(common_dicts)"
   ]
  },
  {
   "cell_type": "code",
   "execution_count": 10,
   "id": "6cbfb89c-87b9-4766-ad1c-55edbbfc9596",
   "metadata": {},
   "outputs": [],
   "source": [
    "\n",
    "# # Load all data\n",
    "\n",
    "\n",
    "# # Access the loaded data directly as attributes\n",
    "# print(data_loader.initial_csv.head() if data_loader.initial_csv is not None else \"Initial CSV data not loaded\")\n",
    "# print(data_loader.processed_csv.head() if data_loader.processed_csv is not None else \"Processed CSV data not loaded\")\n",
    "# print(data_loader.settings_json if data_loader.settings_json is not None else \"Settings JSON not loaded\")\n",
    "# print(data_loader.unsupervised_json if data_loader.unsupervised_json is not None else \"Unsupervised JSON not loaded\")\n",
    "# print(data_loader.vectorized_json if data_loader.vectorized_json is not None else \"Vectorized JSON not loaded\")"
   ]
  }
 ],
 "metadata": {
  "kernelspec": {
   "display_name": "Python 3 (ipykernel)",
   "language": "python",
   "name": "python3"
  },
  "language_info": {
   "codemirror_mode": {
    "name": "ipython",
    "version": 3
   },
   "file_extension": ".py",
   "mimetype": "text/x-python",
   "name": "python",
   "nbconvert_exporter": "python",
   "pygments_lexer": "ipython3",
   "version": "3.11.7"
  }
 },
 "nbformat": 4,
 "nbformat_minor": 5
}
