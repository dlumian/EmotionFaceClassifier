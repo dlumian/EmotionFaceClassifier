{
 "cells": [
  {
   "cell_type": "markdown",
   "id": "52f3a450-d3f4-4e18-9a97-93f4b4d892be",
   "metadata": {},
   "source": [
    "# Feature Extraction\n",
    "\n",
    "## Emotion Face Classifier Notebook 3\n",
    "\n",
    "Uses unsupervised decomposition models to extract averaged features of images by category."
   ]
  },
  {
   "cell_type": "code",
   "execution_count": 71,
   "id": "4c5ba44f-8d05-4bc3-bc37-8342bf24f808",
   "metadata": {},
   "outputs": [
    {
     "name": "stdout",
     "output_type": "stream",
     "text": [
      "The autoreload extension is already loaded. To reload it, use:\n",
      "  %reload_ext autoreload\n"
     ]
    }
   ],
   "source": [
    "%load_ext autoreload\n",
    "%autoreload 2"
   ]
  },
  {
   "cell_type": "code",
   "execution_count": 3,
   "id": "d7004192-0562-4786-898e-a5a6ee97776a",
   "metadata": {},
   "outputs": [],
   "source": [
    "%matplotlib inline"
   ]
  },
  {
   "cell_type": "code",
   "execution_count": 4,
   "id": "ef616a3f-417d-4c75-b402-70855ccee1ce",
   "metadata": {},
   "outputs": [],
   "source": [
    "from IPython.display import display"
   ]
  },
  {
   "cell_type": "code",
   "execution_count": 5,
   "id": "fe936733-29e0-4b2a-918b-ecc2aaed23a9",
   "metadata": {},
   "outputs": [],
   "source": [
    "import os\n",
    "import pandas as pd\n",
    "import matplotlib.pyplot as plt"
   ]
  },
  {
   "cell_type": "code",
   "execution_count": 6,
   "id": "8d2509a7-8d5d-4e83-beec-8f865dc66399",
   "metadata": {},
   "outputs": [],
   "source": [
    "from datascifuncs.tidbit_tools import load_json, write_json, print_json, check_directory_name"
   ]
  },
  {
   "cell_type": "code",
   "execution_count": 7,
   "id": "0c2ce467-6979-4a59-bc52-da13108c04ed",
   "metadata": {},
   "outputs": [
    {
     "name": "stdout",
     "output_type": "stream",
     "text": [
      "Directory set to /Users/dsl/Documents/GitHub/EmotionFaceClassifier, matches target dir string EmotionFaceClassifier.\n"
     ]
    },
    {
     "data": {
      "text/plain": [
       "True"
      ]
     },
     "execution_count": 7,
     "metadata": {},
     "output_type": "execute_result"
    }
   ],
   "source": [
    "main_dir = 'EmotionFaceClassifier'\n",
    "check_directory_name(main_dir)"
   ]
  },
  {
   "cell_type": "code",
   "execution_count": 8,
   "id": "4ac803d0-d11d-4b75-86f5-8080c99f34e7",
   "metadata": {},
   "outputs": [],
   "source": [
    "from utils.feature_extraction import perform_unsupervised_analysis"
   ]
  },
  {
   "cell_type": "code",
   "execution_count": 9,
   "id": "9f7e2a7b-f031-4568-96f9-88ee82db26b8",
   "metadata": {},
   "outputs": [],
   "source": [
    "common_dicts = load_json('./configs/input_mappings.json')"
   ]
  },
  {
   "cell_type": "code",
   "execution_count": 10,
   "id": "9514b553-0de4-43c1-928f-0e74d12e0e7c",
   "metadata": {},
   "outputs": [],
   "source": [
    "emotion_colors = common_dicts['plotly_styles']['Training']['color']"
   ]
  },
  {
   "cell_type": "code",
   "execution_count": 11,
   "id": "1b85847b-b60a-4250-92fa-9447b7b71d59",
   "metadata": {},
   "outputs": [],
   "source": [
    "# Read in FER 2013 data\n",
    "fer2013_path = 'data/fer2013_paths.csv'\n",
    "fer2013 = pd.read_csv(fer2013_path)"
   ]
  },
  {
   "cell_type": "code",
   "execution_count": 12,
   "id": "2a9cd4ff-8e2c-4bf2-9d23-66848d216000",
   "metadata": {},
   "outputs": [
    {
     "data": {
      "text/html": [
       "<div>\n",
       "<style scoped>\n",
       "    .dataframe tbody tr th:only-of-type {\n",
       "        vertical-align: middle;\n",
       "    }\n",
       "\n",
       "    .dataframe tbody tr th {\n",
       "        vertical-align: top;\n",
       "    }\n",
       "\n",
       "    .dataframe thead th {\n",
       "        text-align: right;\n",
       "    }\n",
       "</style>\n",
       "<table border=\"1\" class=\"dataframe\">\n",
       "  <thead>\n",
       "    <tr style=\"text-align: right;\">\n",
       "      <th></th>\n",
       "      <th>emotion_id</th>\n",
       "      <th>pixels</th>\n",
       "      <th>Usage</th>\n",
       "      <th>emotion</th>\n",
       "      <th>image</th>\n",
       "      <th>usage</th>\n",
       "      <th>emo_count_id</th>\n",
       "      <th>img_path</th>\n",
       "      <th>color</th>\n",
       "    </tr>\n",
       "  </thead>\n",
       "  <tbody>\n",
       "    <tr>\n",
       "      <th>0</th>\n",
       "      <td>0</td>\n",
       "      <td>70 80 82 72 58 58 60 63 54 58 60 48 89 115 121...</td>\n",
       "      <td>Training</td>\n",
       "      <td>Angry</td>\n",
       "      <td>[[ 70  80  82 ...  52  43  41]\\n [ 65  61  58 ...</td>\n",
       "      <td>Training</td>\n",
       "      <td>1</td>\n",
       "      <td>data/Training/Angry/Angry-1.jpg</td>\n",
       "      <td>red</td>\n",
       "    </tr>\n",
       "    <tr>\n",
       "      <th>1</th>\n",
       "      <td>0</td>\n",
       "      <td>151 150 147 155 148 133 111 140 170 174 182 15...</td>\n",
       "      <td>Training</td>\n",
       "      <td>Angry</td>\n",
       "      <td>[[151 150 147 ... 129 140 120]\\n [151 149 149 ...</td>\n",
       "      <td>Training</td>\n",
       "      <td>2</td>\n",
       "      <td>data/Training/Angry/Angry-2.jpg</td>\n",
       "      <td>red</td>\n",
       "    </tr>\n",
       "    <tr>\n",
       "      <th>2</th>\n",
       "      <td>2</td>\n",
       "      <td>231 212 156 164 174 138 161 173 182 200 106 38...</td>\n",
       "      <td>Training</td>\n",
       "      <td>Fear</td>\n",
       "      <td>[[231 212 156 ...  44  27  16]\\n [229 175 148 ...</td>\n",
       "      <td>Training</td>\n",
       "      <td>1</td>\n",
       "      <td>data/Training/Fear/Fear-1.jpg</td>\n",
       "      <td>slategray</td>\n",
       "    </tr>\n",
       "    <tr>\n",
       "      <th>3</th>\n",
       "      <td>4</td>\n",
       "      <td>24 32 36 30 32 23 19 20 30 41 21 22 32 34 21 1...</td>\n",
       "      <td>Training</td>\n",
       "      <td>Sad</td>\n",
       "      <td>[[ 24  32  36 ... 173 172 173]\\n [ 25  34  29 ...</td>\n",
       "      <td>Training</td>\n",
       "      <td>1</td>\n",
       "      <td>data/Training/Sad/Sad-1.jpg</td>\n",
       "      <td>blue</td>\n",
       "    </tr>\n",
       "    <tr>\n",
       "      <th>4</th>\n",
       "      <td>6</td>\n",
       "      <td>4 0 0 0 0 0 0 0 0 0 0 0 3 15 23 28 48 50 58 84...</td>\n",
       "      <td>Training</td>\n",
       "      <td>Neutral</td>\n",
       "      <td>[[ 4  0  0 ... 27 24 25]\\n [ 1  0  0 ... 26 23...</td>\n",
       "      <td>Training</td>\n",
       "      <td>1</td>\n",
       "      <td>data/Training/Neutral/Neutral-1.jpg</td>\n",
       "      <td>sienna</td>\n",
       "    </tr>\n",
       "  </tbody>\n",
       "</table>\n",
       "</div>"
      ],
      "text/plain": [
       "   emotion_id                                             pixels     Usage  \\\n",
       "0           0  70 80 82 72 58 58 60 63 54 58 60 48 89 115 121...  Training   \n",
       "1           0  151 150 147 155 148 133 111 140 170 174 182 15...  Training   \n",
       "2           2  231 212 156 164 174 138 161 173 182 200 106 38...  Training   \n",
       "3           4  24 32 36 30 32 23 19 20 30 41 21 22 32 34 21 1...  Training   \n",
       "4           6  4 0 0 0 0 0 0 0 0 0 0 0 3 15 23 28 48 50 58 84...  Training   \n",
       "\n",
       "   emotion                                              image     usage  \\\n",
       "0    Angry  [[ 70  80  82 ...  52  43  41]\\n [ 65  61  58 ...  Training   \n",
       "1    Angry  [[151 150 147 ... 129 140 120]\\n [151 149 149 ...  Training   \n",
       "2     Fear  [[231 212 156 ...  44  27  16]\\n [229 175 148 ...  Training   \n",
       "3      Sad  [[ 24  32  36 ... 173 172 173]\\n [ 25  34  29 ...  Training   \n",
       "4  Neutral  [[ 4  0  0 ... 27 24 25]\\n [ 1  0  0 ... 26 23...  Training   \n",
       "\n",
       "   emo_count_id                             img_path      color  \n",
       "0             1      data/Training/Angry/Angry-1.jpg        red  \n",
       "1             2      data/Training/Angry/Angry-2.jpg        red  \n",
       "2             1        data/Training/Fear/Fear-1.jpg  slategray  \n",
       "3             1          data/Training/Sad/Sad-1.jpg       blue  \n",
       "4             1  data/Training/Neutral/Neutral-1.jpg     sienna  "
      ]
     },
     "execution_count": 12,
     "metadata": {},
     "output_type": "execute_result"
    }
   ],
   "source": [
    "fer2013.head()"
   ]
  },
  {
   "cell_type": "code",
   "execution_count": 13,
   "id": "48450ff3-1948-4152-8415-c8bb0efb6b39",
   "metadata": {},
   "outputs": [
    {
     "name": "stdout",
     "output_type": "stream",
     "text": [
      "(35887, 9)\n",
      "(28709, 9)\n"
     ]
    }
   ],
   "source": [
    "# Select training data\n",
    "print(fer2013.shape)\n",
    "train_df = fer2013[fer2013['usage']=='Training']\n",
    "print(train_df.shape)"
   ]
  },
  {
   "cell_type": "code",
   "execution_count": 14,
   "id": "8f8c1e96-19fa-4bdd-9a70-f7869844ff5c",
   "metadata": {
    "scrolled": true
   },
   "outputs": [
    {
     "data": {
      "text/plain": [
       "array(['Angry', 'Fear', 'Sad', 'Neutral', 'Happy', 'Surprise', 'Disgust'],\n",
       "      dtype=object)"
      ]
     },
     "execution_count": 14,
     "metadata": {},
     "output_type": "execute_result"
    }
   ],
   "source": [
    "train_df['emotion'].unique()"
   ]
  },
  {
   "cell_type": "code",
   "execution_count": 15,
   "id": "70f828fc-fa5c-477c-8d8d-2ca6e74a0992",
   "metadata": {},
   "outputs": [],
   "source": [
    "from utils.feature_extraction import perform_unsupervised_analysis"
   ]
  },
  {
   "cell_type": "code",
   "execution_count": 16,
   "id": "0155aa6a-cf84-43fc-8ce6-e047684d48fc",
   "metadata": {},
   "outputs": [
    {
     "name": "stdout",
     "output_type": "stream",
     "text": [
      "X shape: (28709, 2304), y shape: (28709,)\n",
      "Total number of analyses to be run: 2\n",
      "\n",
      "Starting analysis 1/2\n",
      "Analysis type: NMF\n",
      "Normalization: minmax\n",
      "Total components: 30\n",
      "Parameters: {'init': 'random', 'solver': 'mu', 'beta_loss': 'frobenius', 'max_iter': 1000, 'tol': 1e-05, 'random_state': 42}\n"
     ]
    },
    {
     "name": "stderr",
     "output_type": "stream",
     "text": [
      "/opt/anaconda3/lib/python3.11/site-packages/sklearn/decomposition/_nmf.py:1665: ConvergenceWarning: Maximum number of iterations 1000 reached. Increase it to improve convergence.\n",
      "  warnings.warn(\n",
      "/opt/anaconda3/lib/python3.11/site-packages/sklearn/decomposition/_nmf.py:1665: ConvergenceWarning: Maximum number of iterations 1000 reached. Increase it to improve convergence.\n",
      "  warnings.warn(\n",
      "/opt/anaconda3/lib/python3.11/site-packages/sklearn/decomposition/_nmf.py:1665: ConvergenceWarning: Maximum number of iterations 1000 reached. Increase it to improve convergence.\n",
      "  warnings.warn(\n",
      "/opt/anaconda3/lib/python3.11/site-packages/sklearn/decomposition/_nmf.py:1665: ConvergenceWarning: Maximum number of iterations 1000 reached. Increase it to improve convergence.\n",
      "  warnings.warn(\n"
     ]
    },
    {
     "name": "stdout",
     "output_type": "stream",
     "text": [
      "Results keys: dict_keys(['model', 'features', 'reconstructions', 'avg_categories', 'unique_categories', 'metrics', 'y', 'component_values', 'n_components', 'model_config'])\n",
      "Unique categories: ['Overall' 'Angry' 'Happy' 'Surprise']\n",
      "Component values: [1, 10, 30]\n",
      "Plotting for NMF with minmax normalization\n",
      "Number of rows (component values): 3\n",
      "Number of columns (categories): 4\n",
      "Plotting row 0, column 0\n",
      "Image shape: ()\n",
      "Image range: 0.0000 to 0.0000\n"
     ]
    },
    {
     "ename": "ValueError",
     "evalue": "cannot reshape array of size 1 into shape (48,48)",
     "output_type": "error",
     "traceback": [
      "\u001b[0;31m---------------------------------------------------------------------------\u001b[0m",
      "\u001b[0;31mValueError\u001b[0m                                Traceback (most recent call last)",
      "Cell \u001b[0;32mIn[16], line 1\u001b[0m\n\u001b[0;32m----> 1\u001b[0m perform_unsupervised_analysis(\n\u001b[1;32m      2\u001b[0m     df\u001b[38;5;241m=\u001b[39mtrain_df,\n\u001b[1;32m      3\u001b[0m     img_path_column\u001b[38;5;241m=\u001b[39m\u001b[38;5;124m'\u001b[39m\u001b[38;5;124mimg_path\u001b[39m\u001b[38;5;124m'\u001b[39m,\n\u001b[1;32m      4\u001b[0m     label_column\u001b[38;5;241m=\u001b[39m\u001b[38;5;124m'\u001b[39m\u001b[38;5;124memotion\u001b[39m\u001b[38;5;124m'\u001b[39m,\n\u001b[1;32m      5\u001b[0m     config_path\u001b[38;5;241m=\u001b[39m\u001b[38;5;124m'\u001b[39m\u001b[38;5;124mconfigs/unsupervised_models_test.json\u001b[39m\u001b[38;5;124m'\u001b[39m,\n\u001b[1;32m      6\u001b[0m     analysis_types\u001b[38;5;241m=\u001b[39m[\u001b[38;5;124m'\u001b[39m\u001b[38;5;124mNMF\u001b[39m\u001b[38;5;124m'\u001b[39m, \u001b[38;5;124m'\u001b[39m\u001b[38;5;124mFastICA\u001b[39m\u001b[38;5;124m'\u001b[39m],\n\u001b[1;32m      7\u001b[0m     \u001b[38;5;66;03m# analysis_types=['PCA', 'NMF', 'FastICA'],\u001b[39;00m\n\u001b[1;32m      8\u001b[0m     emotion_colors\u001b[38;5;241m=\u001b[39memotion_colors,\n\u001b[1;32m      9\u001b[0m     flatten\u001b[38;5;241m=\u001b[39m\u001b[38;5;28;01mTrue\u001b[39;00m,\n\u001b[1;32m     10\u001b[0m     img_size\u001b[38;5;241m=\u001b[39m\u001b[38;5;28;01mNone\u001b[39;00m\n\u001b[1;32m     11\u001b[0m )\n",
      "File \u001b[0;32m~/Documents/GitHub/EmotionFaceClassifier/utils/feature_extraction.py:264\u001b[0m, in \u001b[0;36mperform_unsupervised_analysis\u001b[0;34m(df, img_path_column, label_column, config_path, analysis_types, emotion_colors, flatten, img_size)\u001b[0m\n\u001b[1;32m    261\u001b[0m \u001b[38;5;28mprint\u001b[39m(\u001b[38;5;124m\"\u001b[39m\u001b[38;5;124mComponent values:\u001b[39m\u001b[38;5;124m\"\u001b[39m, results[\u001b[38;5;124m'\u001b[39m\u001b[38;5;124mcomponent_values\u001b[39m\u001b[38;5;124m'\u001b[39m])\n\u001b[1;32m    263\u001b[0m \u001b[38;5;66;03m# Save plot\u001b[39;00m\n\u001b[0;32m--> 264\u001b[0m fig \u001b[38;5;241m=\u001b[39m create_enhanced_matrix_plot(results, analysis_type, emotion_colors, normalizer)\n\u001b[1;32m    265\u001b[0m fig\u001b[38;5;241m.\u001b[39msavefig(os\u001b[38;5;241m.\u001b[39mpath\u001b[38;5;241m.\u001b[39mjoin(result_dir, \u001b[38;5;124mf\u001b[39m\u001b[38;5;124m\"\u001b[39m\u001b[38;5;132;01m{\u001b[39;00mdir_name\u001b[38;5;132;01m}\u001b[39;00m\u001b[38;5;124m_plot.png\u001b[39m\u001b[38;5;124m\"\u001b[39m), dpi\u001b[38;5;241m=\u001b[39m\u001b[38;5;241m300\u001b[39m, bbox_inches\u001b[38;5;241m=\u001b[39m\u001b[38;5;124m'\u001b[39m\u001b[38;5;124mtight\u001b[39m\u001b[38;5;124m'\u001b[39m)\n\u001b[1;32m    266\u001b[0m plt\u001b[38;5;241m.\u001b[39mclose(fig)\n",
      "File \u001b[0;32m~/Documents/GitHub/EmotionFaceClassifier/utils/feature_extraction.py:189\u001b[0m, in \u001b[0;36mcreate_enhanced_matrix_plot\u001b[0;34m(results, analysis_type, emotion_colors, normalizer)\u001b[0m\n\u001b[1;32m    186\u001b[0m \u001b[38;5;28mprint\u001b[39m(\u001b[38;5;124mf\u001b[39m\u001b[38;5;124m\"\u001b[39m\u001b[38;5;124mImage range: \u001b[39m\u001b[38;5;132;01m{\u001b[39;00mavg_image\u001b[38;5;241m.\u001b[39mmin()\u001b[38;5;132;01m:\u001b[39;00m\u001b[38;5;124m.4f\u001b[39m\u001b[38;5;132;01m}\u001b[39;00m\u001b[38;5;124m to \u001b[39m\u001b[38;5;132;01m{\u001b[39;00mavg_image\u001b[38;5;241m.\u001b[39mmax()\u001b[38;5;132;01m:\u001b[39;00m\u001b[38;5;124m.4f\u001b[39m\u001b[38;5;132;01m}\u001b[39;00m\u001b[38;5;124m\"\u001b[39m)\n\u001b[1;32m    188\u001b[0m ax \u001b[38;5;241m=\u001b[39m axes[i, j]\n\u001b[0;32m--> 189\u001b[0m im \u001b[38;5;241m=\u001b[39m ax\u001b[38;5;241m.\u001b[39mimshow(avg_image\u001b[38;5;241m.\u001b[39mreshape(\u001b[38;5;241m48\u001b[39m, \u001b[38;5;241m48\u001b[39m), cmap\u001b[38;5;241m=\u001b[39m\u001b[38;5;124m'\u001b[39m\u001b[38;5;124mgray\u001b[39m\u001b[38;5;124m'\u001b[39m)\n\u001b[1;32m    191\u001b[0m \u001b[38;5;28;01mif\u001b[39;00m j \u001b[38;5;241m==\u001b[39m \u001b[38;5;241m0\u001b[39m:  \u001b[38;5;66;03m# First column\u001b[39;00m\n\u001b[1;32m    192\u001b[0m     ax\u001b[38;5;241m.\u001b[39mset_ylabel(\u001b[38;5;124mf\u001b[39m\u001b[38;5;124m'\u001b[39m\u001b[38;5;132;01m{\u001b[39;00mcomponent_values[i]\u001b[38;5;132;01m}\u001b[39;00m\u001b[38;5;124m'\u001b[39m, fontsize\u001b[38;5;241m=\u001b[39m\u001b[38;5;241m24\u001b[39m, rotation\u001b[38;5;241m=\u001b[39m\u001b[38;5;241m0\u001b[39m, ha\u001b[38;5;241m=\u001b[39m\u001b[38;5;124m'\u001b[39m\u001b[38;5;124mright\u001b[39m\u001b[38;5;124m'\u001b[39m, va\u001b[38;5;241m=\u001b[39m\u001b[38;5;124m'\u001b[39m\u001b[38;5;124mcenter\u001b[39m\u001b[38;5;124m'\u001b[39m)\n",
      "\u001b[0;31mValueError\u001b[0m: cannot reshape array of size 1 into shape (48,48)"
     ]
    },
    {
     "data": {
      "image/png": "[encoded data removed]",
      "text/plain": [
       "<Figure size 1200x900 with 12 Axes>"
      ]
     },
     "metadata": {},
     "output_type": "display_data"
    }
   ],
   "source": [
    "perform_unsupervised_analysis(\n",
    "    df=train_df,\n",
    "    img_path_column='img_path',\n",
    "    label_column='emotion',\n",
    "    config_path='configs/unsupervised_models_test.json',\n",
    "    analysis_types=['NMF', 'FastICA'],\n",
    "    # analysis_types=['PCA', 'NMF', 'FastICA'],\n",
    "    emotion_colors=emotion_colors,\n",
    "    flatten=True,\n",
    "    img_size=None\n",
    ")"
   ]
  },
  {
   "cell_type": "code",
   "execution_count": null,
   "id": "b65f9c99-ba32-4dbc-b102-afef7f9fdbb9",
   "metadata": {},
   "outputs": [],
   "source": [
    "# from utils.feature_extraction import load_avg_reconstructions"
   ]
  },
  {
   "cell_type": "code",
   "execution_count": null,
   "id": "1a91a2b4-59f8-4356-8d27-1c3d0a32e570",
   "metadata": {},
   "outputs": [],
   "source": [
    "# file_path = \"results/NMF_avg_reconstructions.npz\""
   ]
  },
  {
   "cell_type": "code",
   "execution_count": 17,
   "id": "f0698ec1-b3c2-4109-8053-d9c57ed88ea1",
   "metadata": {},
   "outputs": [],
   "source": [
    "# avg_categories, unique_categories, component_values = load_avg_reconstructions(file_path)"
   ]
  },
  {
   "cell_type": "code",
   "execution_count": null,
   "id": "a548771a-6eae-496e-9f1d-b7e8cded7e9e",
   "metadata": {},
   "outputs": [],
   "source": []
  },
  {
   "cell_type": "code",
   "execution_count": null,
   "id": "95e1ca32-bce0-467a-8434-57e0bd1e1aa6",
   "metadata": {},
   "outputs": [],
   "source": []
  },
  {
   "cell_type": "code",
   "execution_count": null,
   "id": "f06f09ba-cd50-4fbb-8c3f-cbf6d91e745c",
   "metadata": {},
   "outputs": [],
   "source": []
  },
  {
   "cell_type": "code",
   "execution_count": null,
   "id": "cb9b9f92-a675-4ce6-93ad-6af87ce64b95",
   "metadata": {},
   "outputs": [],
   "source": []
  },
  {
   "cell_type": "code",
   "execution_count": null,
   "id": "d93b8b87-10e5-4acc-9f51-c5aac4e430c2",
   "metadata": {},
   "outputs": [],
   "source": []
  },
  {
   "cell_type": "code",
   "execution_count": 38,
   "id": "545b30a5-4c5e-44b5-8033-0117db6ea9c4",
   "metadata": {},
   "outputs": [
    {
     "name": "stdout",
     "output_type": "stream",
     "text": [
      "[[  1   2   3  22  25]\n",
      " [  4   5   6  55  66]\n",
      " [  7   8   9  99 100]\n",
      " [ 10  11  12  21  23]]\n"
     ]
    }
   ],
   "source": [
    "import numpy as np\n",
    "\n",
    "# Create a sample array\n",
    "arr = np.array([[1, 2, 3, 22, 25], [4, 5, 6, 55, 66], [7, 8, 9, 99, 100], [10, 11, 12, 21, 23]])\n",
    "\n",
    "print(arr)"
   ]
  },
  {
   "cell_type": "code",
   "execution_count": 40,
   "id": "20d48bec-30ba-40fe-9542-c0365a764d46",
   "metadata": {},
   "outputs": [
    {
     "data": {
      "text/plain": [
       "(4, 5)"
      ]
     },
     "execution_count": 40,
     "metadata": {},
     "output_type": "execute_result"
    }
   ],
   "source": [
    "arr.shape"
   ]
  },
  {
   "cell_type": "code",
   "execution_count": 42,
   "id": "efdfdcfa-b73a-4574-a712-144162ea609e",
   "metadata": {},
   "outputs": [],
   "source": [
    "arr[:,2:]=0"
   ]
  },
  {
   "cell_type": "code",
   "execution_count": 44,
   "id": "e74bd835-103d-46d9-995b-5b289c529610",
   "metadata": {},
   "outputs": [
    {
     "data": {
      "text/plain": [
       "array([[ 1,  2,  0,  0,  0],\n",
       "       [ 4,  5,  0,  0,  0],\n",
       "       [ 7,  8,  0,  0,  0],\n",
       "       [10, 11,  0,  0,  0]])"
      ]
     },
     "execution_count": 44,
     "metadata": {},
     "output_type": "execute_result"
    }
   ],
   "source": [
    "arr"
   ]
  },
  {
   "cell_type": "code",
   "execution_count": null,
   "id": "406b522e-1677-4bb1-92cd-38346068a57f",
   "metadata": {},
   "outputs": [],
   "source": [
    "from datascifuncs import load_json"
   ]
  },
  {
   "cell_type": "code",
   "execution_count": 46,
   "id": "85706661-8253-4e08-94d6-c99d4eb2305f",
   "metadata": {},
   "outputs": [],
   "source": [
    "test_dict = load_json('configs/unsupervised_models_test.json')"
   ]
  },
  {
   "cell_type": "code",
   "execution_count": 51,
   "id": "093ed8b9-f778-49a0-85c1-676275f18782",
   "metadata": {},
   "outputs": [
    {
     "data": {
      "text/plain": [
       "{'FastICA': {'module': 'sklearn.decomposition',\n",
       "  'class': 'FastICA',\n",
       "  'normalization': 'standard',\n",
       "  'total_components': 30,\n",
       "  'components_for_reconstruction': [1, 10, 30],\n",
       "  'params': {'algorithm': 'parallel',\n",
       "   'fun': 'logcosh',\n",
       "   'max_iter': 500,\n",
       "   'tol': 0.0001,\n",
       "   'random_state': 42}},\n",
       " 'NMF': {'module': 'sklearn.decomposition',\n",
       "  'class': 'NMF',\n",
       "  'normalization': 'none',\n",
       "  'total_components': 30,\n",
       "  'components_for_reconstruction': [1, 10, 30],\n",
       "  'params': {'init': 'random',\n",
       "   'solver': 'mu',\n",
       "   'beta_loss': 'frobenius',\n",
       "   'max_iter': 1000,\n",
       "   'tol': 1e-05,\n",
       "   'random_state': 42}},\n",
       " 'PCA': {'module': 'sklearn.decomposition',\n",
       "  'class': 'PCA',\n",
       "  'normalization': 'standard',\n",
       "  'total_components': 30,\n",
       "  'components_for_reconstruction': [1, 10, 30],\n",
       "  'params': {'svd_solver': 'randomized', 'whiten': True, 'random_state': 42}}}"
      ]
     },
     "execution_count": 51,
     "metadata": {},
     "output_type": "execute_result"
    }
   ],
   "source": [
    "test_dict"
   ]
  },
  {
   "cell_type": "code",
   "execution_count": 53,
   "id": "3a6d2895-3283-4c10-a28d-30c6f3892f8b",
   "metadata": {},
   "outputs": [
    {
     "data": {
      "text/plain": [
       "{'module': 'sklearn.decomposition',\n",
       " 'class': 'PCA',\n",
       " 'normalization': 'standard',\n",
       " 'total_components': 30,\n",
       " 'components_for_reconstruction': [1, 10, 30],\n",
       " 'params': {'svd_solver': 'randomized', 'whiten': True, 'random_state': 42}}"
      ]
     },
     "execution_count": 53,
     "metadata": {},
     "output_type": "execute_result"
    }
   ],
   "source": [
    "test_dict['PCA']"
   ]
  },
  {
   "cell_type": "code",
   "execution_count": null,
   "id": "98a94152-c8a1-423f-ac8e-52307b23acc7",
   "metadata": {},
   "outputs": [],
   "source": []
  },
  {
   "cell_type": "code",
   "execution_count": null,
   "id": "1f8b57ee-4072-4dd9-ad4e-18a89f84dca1",
   "metadata": {},
   "outputs": [],
   "source": []
  },
  {
   "cell_type": "code",
   "execution_count": null,
   "id": "231a1542-3292-412a-a6eb-bc4e43524906",
   "metadata": {},
   "outputs": [],
   "source": []
  },
  {
   "cell_type": "code",
   "execution_count": 63,
   "id": "0bafbe03-f2a1-4c4e-8915-874eb756b5d3",
   "metadata": {},
   "outputs": [],
   "source": [
    "from utils.decomposition_feature_extract import create_X_y"
   ]
  },
  {
   "cell_type": "code",
   "execution_count": 59,
   "id": "cc309c97-1878-4858-af6a-a3938c7609a9",
   "metadata": {},
   "outputs": [],
   "source": [
    "X, y = create_X_y(train_df, 'img_path', 'emotion')"
   ]
  },
  {
   "cell_type": "code",
   "execution_count": 67,
   "id": "f27bdc56-c8fa-4845-8d96-277ae5c89ba3",
   "metadata": {},
   "outputs": [],
   "source": [
    "from utils.decomposition_feature_extract import run_single_analysis"
   ]
  },
  {
   "cell_type": "code",
   "execution_count": null,
   "id": "63e23c5a-7bf0-4599-9a80-cfc0157864e0",
   "metadata": {},
   "outputs": [],
   "source": []
  },
  {
   "cell_type": "code",
   "execution_count": 69,
   "id": "355a8897-f06b-4481-808e-45a42058a9fe",
   "metadata": {},
   "outputs": [
    {
     "name": "stdout",
     "output_type": "stream",
     "text": [
      "Analysis type: PCA\n",
      "Normalization: standard\n",
      "Total components: 30\n",
      "Parameters: {'svd_solver': 'randomized', 'whiten': True, 'random_state': 42, 'n_componenets': 30, 'n_components': 30}\n"
     ]
    },
    {
     "ename": "TypeError",
     "evalue": "PCA.__init__() got an unexpected keyword argument 'n_componenets'",
     "output_type": "error",
     "traceback": [
      "\u001b[0;31m---------------------------------------------------------------------------\u001b[0m",
      "\u001b[0;31mTypeError\u001b[0m                                 Traceback (most recent call last)",
      "Cell \u001b[0;32mIn[69], line 1\u001b[0m\n\u001b[0;32m----> 1\u001b[0m run_single_analysis(X, y, test_dict[\u001b[38;5;124m'\u001b[39m\u001b[38;5;124mPCA\u001b[39m\u001b[38;5;124m'\u001b[39m])\n",
      "File \u001b[0;32m~/Documents/GitHub/EmotionFaceClassifier/utils/decomposition_feature_extract.py:100\u001b[0m, in \u001b[0;36mrun_single_analysis\u001b[0;34m(X, y, analysis_config)\u001b[0m\n\u001b[1;32m     97\u001b[0m os\u001b[38;5;241m.\u001b[39mmakedirs(result_dir, exist_ok\u001b[38;5;241m=\u001b[39m\u001b[38;5;28;01mTrue\u001b[39;00m)\n\u001b[1;32m     99\u001b[0m analysis_config[\u001b[38;5;124m'\u001b[39m\u001b[38;5;124mparams\u001b[39m\u001b[38;5;124m'\u001b[39m][\u001b[38;5;124m'\u001b[39m\u001b[38;5;124mn_components\u001b[39m\u001b[38;5;124m'\u001b[39m] \u001b[38;5;241m=\u001b[39m total_components\n\u001b[0;32m--> 100\u001b[0m model \u001b[38;5;241m=\u001b[39m instantiate_model(analysis_config)\n\u001b[1;32m    101\u001b[0m X_normalized \u001b[38;5;241m=\u001b[39m normalize_data(X, normalizer)\n\u001b[1;32m    103\u001b[0m category_results \u001b[38;5;241m=\u001b[39m []\n",
      "File \u001b[0;32m~/Documents/GitHub/EmotionFaceClassifier/utils/analysis_tools.py:9\u001b[0m, in \u001b[0;36minstantiate_model\u001b[0;34m(model_config)\u001b[0m\n\u001b[1;32m      7\u001b[0m module \u001b[38;5;241m=\u001b[39m importlib\u001b[38;5;241m.\u001b[39mimport_module(model_config[\u001b[38;5;124m'\u001b[39m\u001b[38;5;124mmodule\u001b[39m\u001b[38;5;124m'\u001b[39m])\n\u001b[1;32m      8\u001b[0m model_class \u001b[38;5;241m=\u001b[39m \u001b[38;5;28mgetattr\u001b[39m(module, model_config[\u001b[38;5;124m'\u001b[39m\u001b[38;5;124mclass\u001b[39m\u001b[38;5;124m'\u001b[39m])\n\u001b[0;32m----> 9\u001b[0m model\u001b[38;5;241m=\u001b[39m model_class(\u001b[38;5;241m*\u001b[39m\u001b[38;5;241m*\u001b[39mmodel_config[\u001b[38;5;124m'\u001b[39m\u001b[38;5;124mparams\u001b[39m\u001b[38;5;124m'\u001b[39m])\n\u001b[1;32m     10\u001b[0m \u001b[38;5;28;01mreturn\u001b[39;00m model\n",
      "\u001b[0;31mTypeError\u001b[0m: PCA.__init__() got an unexpected keyword argument 'n_componenets'"
     ]
    }
   ],
   "source": [
    "run_single_analysis(X, y, test_dict['PCA'])"
   ]
  },
  {
   "cell_type": "code",
   "execution_count": null,
   "id": "f722e5fa-2b2a-4159-88de-ac59132c30bd",
   "metadata": {},
   "outputs": [],
   "source": []
  }
 ],
 "metadata": {
  "kernelspec": {
   "display_name": "Python 3 (ipykernel)",
   "language": "python",
   "name": "python3"
  },
  "language_info": {
   "codemirror_mode": {
    "name": "ipython",
    "version": 3
   },
   "file_extension": ".py",
   "mimetype": "text/x-python",
   "name": "python",
   "nbconvert_exporter": "python",
   "pygments_lexer": "ipython3",
   "version": "3.11.7"
  }
 },
 "nbformat": 4,
 "nbformat_minor": 5
}
