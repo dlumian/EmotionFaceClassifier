{
 "cells": [
  {
   "cell_type": "markdown",
   "id": "04f75a45-c8e2-4158-b9cb-4e630c8cc0c7",
   "metadata": {},
   "source": [
    "# Vectorized Models\n",
    "\n",
    "## Emotion Face Classifier Notebook 2\n",
    "\n",
    "Vectorized models for 2-D image classification is simpler and less computationally expensive than more sophisticated image models (e.g., deep learning, CNNs). \n",
    "\n",
    "This notebook generates a numpy array from the data and applies vectorized models to the data. \n",
    "\n",
    "See `README.md` for more details on approach benefits and disadvantages. "
   ]
  },
  {
   "cell_type": "code",
   "execution_count": 2,
   "id": "463ccc68-7f15-4cfd-b45a-27b7a87d2763",
   "metadata": {},
   "outputs": [],
   "source": [
    "import os\n",
    "import pandas as pd\n",
    "import plotly.express as px\n",
    "\n",
    "from skimpy import skim_get_figure"
   ]
  },
  {
   "cell_type": "code",
   "execution_count": 3,
   "id": "32585afb-ebf9-49f1-b896-29d3c1f068fc",
   "metadata": {},
   "outputs": [],
   "source": [
    "def check_directory_name(target_name) -> bool:\n",
    "    \"\"\"\n",
    "    Check if the current directory name matches the target_name.\n",
    "    If not, move up a directory and repeat the check.\n",
    "    \n",
    "    Args:\n",
    "        target_name (str): The directory name to match.\n",
    "        \n",
    "    Returns:\n",
    "        bool: True if the current directory name matches the target_name, False otherwise.\n",
    "    \"\"\"\n",
    "    # Get the current directory path\n",
    "    current_dir = os.getcwd()\n",
    "    # Extract the directory name from the path\n",
    "    current_dir_name = os.path.basename(current_dir)    \n",
    "    # Check if the current directory name matches the target_name\n",
    "    if current_dir_name == target_name:\n",
    "        print(f'Directory set to {current_dir}, matches target dir sting {target_name}.')\n",
    "        return True\n",
    "    else:\n",
    "        # Move up a directory\n",
    "        os.chdir('..')\n",
    "        # Check if we have reached the root directory\n",
    "        if os.getcwd() == current_dir:\n",
    "            return False\n",
    "        # Recursively call the function to check the parent directory\n",
    "        return check_directory_name(target_name)"
   ]
  },
  {
   "cell_type": "code",
   "execution_count": 4,
   "id": "d5459675-10ea-4aef-9b32-c23077ea16c3",
   "metadata": {},
   "outputs": [
    {
     "name": "stdout",
     "output_type": "stream",
     "text": [
      "Directory set to /Users/dsl/Documents/GitHub/EmotionFaceClassifier, matches target dir sting EmotionFaceClassifier.\n"
     ]
    },
    {
     "data": {
      "text/plain": [
       "True"
      ]
     },
     "execution_count": 4,
     "metadata": {},
     "output_type": "execute_result"
    }
   ],
   "source": [
    "main_dir = 'EmotionFaceClassifier'\n",
    "check_directory_name(main_dir)"
   ]
  },
  {
   "cell_type": "code",
   "execution_count": 5,
   "id": "abfd44a1-1a22-4791-ae00-529e7c50f463",
   "metadata": {},
   "outputs": [],
   "source": [
    "from utils.helpers import (\n",
    "    load_config\n",
    ")\n",
    "\n",
    "from utils.data_ingest_eda import (\n",
    "    generate_file_dataframe,\n",
    "    emotion_count_piv,\n",
    "    piv_stacked_bar,\n",
    "    waffle_chart,\n",
    "    show_example_images,\n",
    "    convert_pixels_to_array,\n",
    "    create_img\n",
    ")"
   ]
  }
 ],
 "metadata": {
  "kernelspec": {
   "display_name": "Python 3 (ipykernel)",
   "language": "python",
   "name": "python3"
  },
  "language_info": {
   "codemirror_mode": {
    "name": "ipython",
    "version": 3
   },
   "file_extension": ".py",
   "mimetype": "text/x-python",
   "name": "python",
   "nbconvert_exporter": "python",
   "pygments_lexer": "ipython3",
   "version": "3.11.7"
  }
 },
 "nbformat": 4,
 "nbformat_minor": 5
}
