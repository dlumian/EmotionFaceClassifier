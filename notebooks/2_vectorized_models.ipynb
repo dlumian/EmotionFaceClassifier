{
 "cells": [
  {
   "cell_type": "markdown",
   "id": "04f75a45-c8e2-4158-b9cb-4e630c8cc0c7",
   "metadata": {},
   "source": [
    "# Vectorized Models\n",
    "\n",
    "## Emotion Face Classifier Notebook 2\n",
    "\n",
    "Vectorized models for 2-D image classification is simpler and less computationally expensive than more sophisticated image models (e.g., deep learning, CNNs). \n",
    "\n",
    "This notebook generates a numpy array from the data and applies vectorized models to the data. \n",
    "\n",
    "See `README.md` for more details on approach benefits and disadvantages. "
   ]
  },
  {
   "cell_type": "code",
   "execution_count": 3,
   "id": "463ccc68-7f15-4cfd-b45a-27b7a87d2763",
   "metadata": {},
   "outputs": [],
   "source": [
    "import os\n",
    "import numpy as np\n",
    "import pandas as pd\n",
    "from sklearn.preprocessing import LabelEncoder"
   ]
  },
  {
   "cell_type": "code",
   "execution_count": 4,
   "id": "32585afb-ebf9-49f1-b896-29d3c1f068fc",
   "metadata": {},
   "outputs": [],
   "source": [
    "def check_directory_name(target_name) -> bool:\n",
    "    \"\"\"\n",
    "    Check if the current directory name matches the target_name.\n",
    "    If not, move up a directory and repeat the check.\n",
    "    \n",
    "    Args:\n",
    "        target_name (str): The directory name to match.\n",
    "        \n",
    "    Returns:\n",
    "        bool: True if the current directory name matches the target_name, False otherwise.\n",
    "    \"\"\"\n",
    "    # Get the current directory path\n",
    "    current_dir = os.getcwd()\n",
    "    # Extract the directory name from the path\n",
    "    current_dir_name = os.path.basename(current_dir)    \n",
    "    # Check if the current directory name matches the target_name\n",
    "    if current_dir_name == target_name:\n",
    "        print(f'Directory set to {current_dir}, matches target dir sting {target_name}.')\n",
    "        return True\n",
    "    else:\n",
    "        # Move up a directory\n",
    "        os.chdir('..')\n",
    "        # Check if we have reached the root directory\n",
    "        if os.getcwd() == current_dir:\n",
    "            return False\n",
    "        # Recursively call the function to check the parent directory\n",
    "        return check_directory_name(target_name)"
   ]
  },
  {
   "cell_type": "code",
   "execution_count": 5,
   "id": "d5459675-10ea-4aef-9b32-c23077ea16c3",
   "metadata": {},
   "outputs": [
    {
     "name": "stdout",
     "output_type": "stream",
     "text": [
      "Directory set to /Users/dsl/Documents/GitHub/EmotionFaceClassifier, matches target dir sting EmotionFaceClassifier.\n"
     ]
    },
    {
     "data": {
      "text/plain": [
       "True"
      ]
     },
     "execution_count": 5,
     "metadata": {},
     "output_type": "execute_result"
    }
   ],
   "source": [
    "main_dir = 'EmotionFaceClassifier'\n",
    "check_directory_name(main_dir)"
   ]
  },
  {
   "cell_type": "code",
   "execution_count": 6,
   "id": "5ad6f6cd-dcc4-4462-9643-ffa1e11ebba4",
   "metadata": {},
   "outputs": [],
   "source": [
    "from utils.helpers import (\n",
    "    load_config\n",
    ")\n",
    "\n",
    "from utils.helpers import (\n",
    "    load_images_and_labels\n",
    ")"
   ]
  },
  {
   "cell_type": "markdown",
   "id": "d01e3ea8-fe64-427f-8b7d-f9ee111173eb",
   "metadata": {},
   "source": [
    "# Create Numpy Arrays"
   ]
  },
  {
   "cell_type": "code",
   "execution_count": 11,
   "id": "fb4c605b-929c-4cb8-99c0-98b1e9cbaf89",
   "metadata": {},
   "outputs": [],
   "source": [
    "# Load FER 2013 data\n",
    "fer2013_train_imgs, fer2013_train_lbls = load_images_and_labels('data/fer2013/Training')\n",
    "fer2013_test_imgs, fer2013_test_lbls = load_images_and_labels('data/fer2013/Testing')"
   ]
  },
  {
   "cell_type": "code",
   "execution_count": 13,
   "id": "c4fa6e68-9836-457b-ae69-2a793edefc60",
   "metadata": {},
   "outputs": [],
   "source": [
    "# Load FRD 2020 dataset\n",
    "frd2020_train_imgs, frd2020_train_lbls = load_images_and_labels('data/frd2020/Training')\n",
    "frd2020_test_imgs, frd2020_test_lbls = load_images_and_labels('data/frd2020/Testing')"
   ]
  },
  {
   "cell_type": "code",
   "execution_count": 14,
   "id": "1d07a9d5-d011-4356-95b7-dafefda8922e",
   "metadata": {},
   "outputs": [],
   "source": [
    "# Combine image datasets\n",
    "combined_train_images = np.concatenate((fer2013_train_imgs, frd2020_train_imgs), axis=0)\n",
    "combined_test_images = np.concatenate((fer2013_test_imgs, frd2020_test_imgs), axis=0)"
   ]
  },
  {
   "cell_type": "code",
   "execution_count": 15,
   "id": "aa9919c6-1bdc-4c38-97e3-2a5e5a5cdef7",
   "metadata": {},
   "outputs": [],
   "source": [
    "# Encode and combine labels\n",
    "le = LabelEncoder()\n",
    "\n",
    "combined_train_labels = np.concatenate((fer2013_train_lbls, frd2020_train_lbls), axis=0)\n",
    "combined_test_labels = np.concatenate((fer2013_test_lbls, frd2020_test_lbls), axis=0)\n",
    "\n",
    "combined_train_labels_enc = le.fit_transform(combined_train_labels)\n",
    "combined_test_labels_enc = le.transform(combined_test_labels)"
   ]
  },
  {
   "cell_type": "code",
   "execution_count": 16,
   "id": "7fcbfeb3-5e6c-4cc1-b42f-baabf3e36f97",
   "metadata": {},
   "outputs": [],
   "source": [
    "# Set output paths\n",
    "intermediate_data_path = os.path.join('data', 'intermediate_data')\n",
    "os.makedirs(intermediate_data_path, exist_ok=True)\n",
    "\n",
    "train_imgs_path = os.path.join(intermediate_data_path, 'combined_train_images.npy')\n",
    "train_labels_path = os.path.join(intermediate_data_path, 'combined_train_labels.npy')\n",
    "\n",
    "test_imgs_path = os.path.join(intermediate_data_path, 'combined_test_images.npy')\n",
    "test_labels_path = os.path.join(intermediate_data_path, 'combined_test_labels.npy')"
   ]
  },
  {
   "cell_type": "code",
   "execution_count": 17,
   "id": "d52ce8c9-227e-4039-92c2-c200c586a2fd",
   "metadata": {},
   "outputs": [],
   "source": [
    "# Save the combined datasets\n",
    "np.save(train_imgs_path, combined_train_images)\n",
    "np.save(train_labels_path, combined_train_labels_enc)\n",
    "np.save(test_imgs_path, combined_test_images)\n",
    "np.save(test_labels_path, combined_test_labels_enc)"
   ]
  },
  {
   "cell_type": "code",
   "execution_count": 18,
   "id": "435da9de-a3ff-4243-8c32-1e31eafcba6e",
   "metadata": {},
   "outputs": [],
   "source": [
    "# # Example load data\n",
    "# train_images = np.load('combined_train_images.npy')\n",
    "# train_labels = np.load('combined_train_labels.npy')\n",
    "# test_images = np.load('combined_test_images.npy')\n",
    "# test_labels = np.load('combined_test_labels.npy')"
   ]
  },
  {
   "cell_type": "markdown",
   "id": "6641051b-b67f-4ca1-8c00-6c1172a3f9bc",
   "metadata": {},
   "source": [
    "# Vectorized Model Training"
   ]
  },
  {
   "cell_type": "code",
   "execution_count": 20,
   "id": "a5abe3dd-b012-48a0-a6d0-793e24b6b5b7",
   "metadata": {},
   "outputs": [],
   "source": [
    "from sklearn.model_selection import train_test_split\n",
    "from sklearn.tree import DecisionTreeClassifier \n",
    "from sklearn.ensemble import RandomForestClassifier\n",
    "from sklearn.metrics import ConfusionMatrixDisplay"
   ]
  },
  {
   "cell_type": "code",
   "execution_count": 21,
   "id": "67c2046f-17f7-4ece-8d90-c9c60364a94d",
   "metadata": {},
   "outputs": [
    {
     "name": "stdout",
     "output_type": "stream",
     "text": [
      "dict_keys(['LGBM', 'LogisticRegression', 'DecisionTree', 'RandomForest', 'XGBoost'])\n"
     ]
    }
   ],
   "source": [
    "# Load model params from JSON\n",
    "flat_models = load_config('./configs/vectorized_models.json')\n",
    "print(flat_models.keys())"
   ]
  },
  {
   "cell_type": "code",
   "execution_count": 34,
   "id": "acc3e480-f2c0-4777-b89d-3a34434070c1",
   "metadata": {},
   "outputs": [
    {
     "name": "stdout",
     "output_type": "stream",
     "text": [
      "LGBM\n",
      "{'module': 'lightgbm', 'class': 'LGBMClassifier', 'params': {}}\n",
      "LogisticRegression\n",
      "{'module': 'sklearn.linear_model', 'class': 'LogisticRegression', 'params': {'multi_class': 'multinomial', 'max_iter': 500}}\n",
      "DecisionTree\n",
      "{'module': 'sklearn.tree', 'class': 'DecisionTreeClassifier', 'params': {}}\n",
      "RandomForest\n",
      "{'module': 'sklearn.ensemble', 'class': 'RandomForestClassifier', 'params': {}}\n",
      "XGBoost\n",
      "{'module': 'xgboost', 'class': 'XGBClassifier', 'params': {'eval_metric': 'mlogloss'}}\n"
     ]
    }
   ],
   "source": [
    "for label, model in flat_models.items():\n",
    "    print(label)\n",
    "    print(model)"
   ]
  },
  {
   "cell_type": "code",
   "execution_count": null,
   "id": "32bc8233-9d1d-4a56-ba47-a5e857049ce0",
   "metadata": {},
   "outputs": [],
   "source": []
  },
  {
   "cell_type": "code",
   "execution_count": null,
   "id": "34196909-3c48-48cf-97f1-9862c5bd762e",
   "metadata": {},
   "outputs": [],
   "source": []
  },
  {
   "cell_type": "code",
   "execution_count": null,
   "id": "46ec4e62-1364-450c-a721-50e32dceeb73",
   "metadata": {},
   "outputs": [],
   "source": []
  },
  {
   "cell_type": "code",
   "execution_count": null,
   "id": "87a60b92-29d9-46e8-8fa2-aec173b9f9a5",
   "metadata": {},
   "outputs": [],
   "source": [
    "for label, model in models.items():\n",
    "    print(f\"Running {label} model...\")    \n",
    "    # Set dirs and filepaths\n",
    "    model_output_dir = os.path.join(flat_model_dir, label)\n",
    "    model_output_path = os.path.join(model_output_dir, 'mdl.pkl')\n",
    "    metrics_ouput_path = os.path.join(model_output_dir, 'train_metrics.csv')\n",
    "    cm_ouput_path = os.path.join(model_output_dir, 'train_confusion_matrix.png')\n",
    "\n",
    "    os.makedirs(model_output_dir, exist_ok=True)\n",
    "    \n",
    "    # fit, save, predict\n",
    "    model.fit(X_train, y_train)\n",
    "    save_model(model, filename=model_output_path)\n",
    "    model_preds = model.predict(X_train)\n",
    "    model_results = get_classification_metrics(y_train, model_preds)\n",
    "\n",
    "    # Aggregate metrics and save to model dir\n",
    "    pd.DataFrame(model_results, index=[0]).to_csv(metrics_ouput_path)\n",
    "    model_metrics.append({label: model_results})\n",
    "\n",
    "    # Confusion matrix\n",
    "    int_labels = [int(i) for i in emo_dict.keys()]\n",
    "    str_labels = [i for i in emo_dict.values()]\n",
    "    \n",
    "    cm_disp = ConfusionMatrixDisplay.from_predictions(\n",
    "        y_true=y_train,\n",
    "        y_pred=model_preds, \n",
    "        cmap='Blues',\n",
    "        labels=int_labels,\n",
    "        display_labels=str_labels\n",
    "    )    \n",
    "    plt.tight_layout()\n",
    "    plt.savefig(cm_ouput_path, pad_inches=5)"
   ]
  },
  {
   "cell_type": "code",
   "execution_count": null,
   "id": "2fa221e1-cca1-43bf-b6cd-904ccd1a3147",
   "metadata": {},
   "outputs": [],
   "source": []
  }
 ],
 "metadata": {
  "kernelspec": {
   "display_name": "Python 3 (ipykernel)",
   "language": "python",
   "name": "python3"
  },
  "language_info": {
   "codemirror_mode": {
    "name": "ipython",
    "version": 3
   },
   "file_extension": ".py",
   "mimetype": "text/x-python",
   "name": "python",
   "nbconvert_exporter": "python",
   "pygments_lexer": "ipython3",
   "version": "3.11.7"
  }
 },
 "nbformat": 4,
 "nbformat_minor": 5
}
