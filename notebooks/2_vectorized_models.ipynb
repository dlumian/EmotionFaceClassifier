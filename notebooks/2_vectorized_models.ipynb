{
 "cells": [
  {
   "cell_type": "markdown",
   "id": "04f75a45-c8e2-4158-b9cb-4e630c8cc0c7",
   "metadata": {},
   "source": [
    "# Vectorized Models\n",
    "\n",
    "## Emotion Face Classifier Notebook 2\n",
    "\n",
    "Vectorized models for 2-D image classification is simpler and less computationally expensive than more sophisticated image models (e.g., deep learning, CNNs). \n",
    "\n",
    "This notebook generates a numpy array from the data and applies vectorized models to the data. \n",
    "\n",
    "See `README.md` for more details on approach benefits and disadvantages. "
   ]
  },
  {
   "cell_type": "code",
   "execution_count": null,
   "id": "463ccc68-7f15-4cfd-b45a-27b7a87d2763",
   "metadata": {},
   "outputs": [],
   "source": [
    "import os\n",
    "import numpy as np\n",
    "import pandas as pd\n",
    "from sklearn.preprocessing import LabelEncoder\n",
    "from datascifuncs.tidbit_tools import load_json, write_json, check_directory_name"
   ]
  },
  {
   "cell_type": "code",
   "execution_count": null,
   "id": "d5459675-10ea-4aef-9b32-c23077ea16c3",
   "metadata": {},
   "outputs": [],
   "source": [
    "main_dir = 'EmotionFaceClassifier'\n",
    "check_directory_name(main_dir)"
   ]
  },
  {
   "cell_type": "code",
   "execution_count": null,
   "id": "5ad6f6cd-dcc4-4462-9643-ffa1e11ebba4",
   "metadata": {},
   "outputs": [],
   "source": [
    "from utils.helpers import (\n",
    "    load_config,\n",
    "    load_images_and_labels\n",
    ")\n",
    "\n",
    "from utils.vectorized_models import (\n",
    "    create_train_test_splits\n",
    ")"
   ]
  },
  {
   "cell_type": "markdown",
   "id": "d01e3ea8-fe64-427f-8b7d-f9ee111173eb",
   "metadata": {},
   "source": [
    "# Create Numpy Arrays\n",
    "\n",
    "Load and combine data into numpy arrays.\n",
    "\n",
    "Combined data is saved to numpy array files for future reference."
   ]
  },
  {
   "cell_type": "code",
   "execution_count": null,
   "id": "0f40b184-4162-4f21-a768-6cdcb4b5d511",
   "metadata": {},
   "outputs": [],
   "source": [
    "# Load input data paths from JSON\n",
    "input_data_paths = load_config('./configs/input_mappings.json')\n",
    "input_paths = input_data_paths[\"img_directories\"]\n",
    "print(input_paths)"
   ]
  },
  {
   "cell_type": "code",
   "execution_count": null,
   "id": "1fbcec40-51c7-47ec-94ad-f647bb82c8f3",
   "metadata": {},
   "outputs": [],
   "source": [
    "X_train, y_train = create_train_test_splits(input_paths, usage='Training')"
   ]
  },
  {
   "cell_type": "code",
   "execution_count": null,
   "id": "7f378922-0a6e-4ee1-b4a2-a3315c366cb6",
   "metadata": {},
   "outputs": [],
   "source": [
    "X_test, y_test = create_train_test_splits(input_paths, usage='Testing')"
   ]
  },
  {
   "cell_type": "code",
   "execution_count": null,
   "id": "77b7d6ea-4d28-46ca-b738-c5f0add0cc5e",
   "metadata": {},
   "outputs": [],
   "source": [
    "# Some models require encoded y classes\n",
    "le = LabelEncoder()\n",
    "y_train_encoded = le.fit_transform(y_train)\n",
    "y_test_encoded = le.fit_transform(y_test)"
   ]
  },
  {
   "cell_type": "code",
   "execution_count": null,
   "id": "c050ebeb-9f1a-461b-b27d-f356656de734",
   "metadata": {},
   "outputs": [],
   "source": [
    "# Set output paths\n",
    "intermediate_data_path = os.path.join('data', 'intermediate_data')\n",
    "os.makedirs(intermediate_data_path, exist_ok=True)\n",
    "\n",
    "train_imgs_path = os.path.join(intermediate_data_path, 'combined_train_images.npy')\n",
    "train_labels_path = os.path.join(intermediate_data_path, 'combined_train_labels.npy')\n",
    "\n",
    "test_imgs_path = os.path.join(intermediate_data_path, 'combined_test_images.npy')\n",
    "test_labels_path = os.path.join(intermediate_data_path, 'combined_test_labels.npy')"
   ]
  },
  {
   "cell_type": "code",
   "execution_count": null,
   "id": "17a51cf1-1cd2-4e4e-8636-eb31fc83c24f",
   "metadata": {},
   "outputs": [],
   "source": [
    "# Save the combined datasets\n",
    "np.save(train_imgs_path, X_train)\n",
    "np.save(train_labels_path, y_train_encoded)\n",
    "np.save(test_imgs_path, X_test)\n",
    "np.save(test_labels_path, y_test_encoded)"
   ]
  },
  {
   "cell_type": "code",
   "execution_count": null,
   "id": "435da9de-a3ff-4243-8c32-1e31eafcba6e",
   "metadata": {},
   "outputs": [],
   "source": [
    "# # Example load data\n",
    "# train_images = np.load('combined_train_images.npy')\n",
    "# train_labels = np.load('combined_train_labels.npy')\n",
    "# test_images = np.load('combined_test_images.npy')\n",
    "# test_labels = np.load('combined_test_labels.npy')"
   ]
  },
  {
   "cell_type": "markdown",
   "id": "6641051b-b67f-4ca1-8c00-6c1172a3f9bc",
   "metadata": {},
   "source": [
    "# Vectorized Model Training"
   ]
  },
  {
   "cell_type": "code",
   "execution_count": null,
   "id": "a5abe3dd-b012-48a0-a6d0-793e24b6b5b7",
   "metadata": {},
   "outputs": [],
   "source": [
    "# from sklearn.model_selection import train_test_split\n",
    "# from sklearn.tree import DecisionTreeClassifier \n",
    "# from sklearn.ensemble import RandomForestClassifier\n",
    "# from sklearn.metrics import ConfusionMatrixDisplay"
   ]
  },
  {
   "cell_type": "code",
   "execution_count": null,
   "id": "67c2046f-17f7-4ece-8d90-c9c60364a94d",
   "metadata": {},
   "outputs": [],
   "source": [
    "# Load model params from JSON\n",
    "vectorized_models = load_config('./configs/vectorized_models.json')\n",
    "print(vectorized_models.keys())"
   ]
  },
  {
   "cell_type": "code",
   "execution_count": null,
   "id": "19deb914-4597-4d80-ba4b-9cc6217f9e18",
   "metadata": {},
   "outputs": [],
   "source": []
  },
  {
   "cell_type": "code",
   "execution_count": null,
   "id": "cfbe5610-2f42-4826-8043-98d440de74e2",
   "metadata": {},
   "outputs": [],
   "source": [
    "vectorized_models"
   ]
  },
  {
   "cell_type": "code",
   "execution_count": null,
   "id": "fb44917b-70d7-4fb8-9895-5553854b9aa1",
   "metadata": {},
   "outputs": [],
   "source": [
    "vectorized_models['LGBM']"
   ]
  },
  {
   "cell_type": "code",
   "execution_count": null,
   "id": "1c2c9f36-0c60-410c-bd99-4d4c574d60d2",
   "metadata": {},
   "outputs": [],
   "source": []
  },
  {
   "cell_type": "code",
   "execution_count": null,
   "id": "d00a3dbc-418b-4aa9-8212-5b000e74ce7b",
   "metadata": {},
   "outputs": [],
   "source": []
  },
  {
   "cell_type": "code",
   "execution_count": null,
   "id": "acc3e480-f2c0-4777-b89d-3a34434070c1",
   "metadata": {},
   "outputs": [],
   "source": [
    "for label, model in flat_models.items():\n",
    "    print(label)\n",
    "    print(model)"
   ]
  },
  {
   "cell_type": "code",
   "execution_count": null,
   "id": "32bc8233-9d1d-4a56-ba47-a5e857049ce0",
   "metadata": {},
   "outputs": [],
   "source": []
  },
  {
   "cell_type": "code",
   "execution_count": null,
   "id": "34196909-3c48-48cf-97f1-9862c5bd762e",
   "metadata": {},
   "outputs": [],
   "source": []
  },
  {
   "cell_type": "code",
   "execution_count": null,
   "id": "46ec4e62-1364-450c-a721-50e32dceeb73",
   "metadata": {},
   "outputs": [],
   "source": []
  },
  {
   "cell_type": "code",
   "execution_count": null,
   "id": "87a60b92-29d9-46e8-8fa2-aec173b9f9a5",
   "metadata": {},
   "outputs": [],
   "source": [
    "for label, model in models.items():\n",
    "    print(f\"Running {label} model...\")    \n",
    "    # Set dirs and filepaths\n",
    "    model_output_dir = os.path.join(flat_model_dir, label)\n",
    "    model_output_path = os.path.join(model_output_dir, 'mdl.pkl')\n",
    "    metrics_ouput_path = os.path.join(model_output_dir, 'train_metrics.csv')\n",
    "    cm_ouput_path = os.path.join(model_output_dir, 'train_confusion_matrix.png')\n",
    "\n",
    "    os.makedirs(model_output_dir, exist_ok=True)\n",
    "    \n",
    "    # fit, save, predict\n",
    "    model.fit(X_train, y_train)\n",
    "    save_model(model, filename=model_output_path)\n",
    "    model_preds = model.predict(X_train)\n",
    "    model_results = get_classification_metrics(y_train, model_preds)\n",
    "\n",
    "    # Aggregate metrics and save to model dir\n",
    "    pd.DataFrame(model_results, index=[0]).to_csv(metrics_ouput_path)\n",
    "    model_metrics.append({label: model_results})\n",
    "\n",
    "    # Confusion matrix\n",
    "    int_labels = [int(i) for i in emo_dict.keys()]\n",
    "    str_labels = [i for i in emo_dict.values()]\n",
    "    \n",
    "    cm_disp = ConfusionMatrixDisplay.from_predictions(\n",
    "        y_true=y_train,\n",
    "        y_pred=model_preds, \n",
    "        cmap='Blues',\n",
    "        labels=int_labels,\n",
    "        display_labels=str_labels\n",
    "    )    \n",
    "    plt.tight_layout()\n",
    "    plt.savefig(cm_ouput_path, pad_inches=5)"
   ]
  },
  {
   "cell_type": "code",
   "execution_count": null,
   "id": "2fa221e1-cca1-43bf-b6cd-904ccd1a3147",
   "metadata": {},
   "outputs": [],
   "source": []
  }
 ],
 "metadata": {
  "kernelspec": {
   "display_name": "Python 3 (ipykernel)",
   "language": "python",
   "name": "python3"
  },
  "language_info": {
   "codemirror_mode": {
    "name": "ipython",
    "version": 3
   },
   "file_extension": ".py",
   "mimetype": "text/x-python",
   "name": "python",
   "nbconvert_exporter": "python",
   "pygments_lexer": "ipython3",
   "version": "3.11.7"
  }
 },
 "nbformat": 4,
 "nbformat_minor": 5
}
