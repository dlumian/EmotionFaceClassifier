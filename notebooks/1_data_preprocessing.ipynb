{
 "cells": [
  {
   "cell_type": "markdown",
   "id": "9df4f9c7-8cff-4c1e-afcf-b99859f985b6",
   "metadata": {},
   "source": [
    "# Data Preprocessing\n",
    "\n",
    "## Emotion Face Classifier Notebook 1\n",
    "\n",
    "Reads csv data into pandas.\n",
    "\n",
    "Converts string arrays into 2-D matrix, saves images to jpgs by usage and emotion."
   ]
  },
  {
   "cell_type": "code",
   "execution_count": 2,
   "id": "a7bf73d2-366b-44f8-9665-3e58e05094ba",
   "metadata": {},
   "outputs": [],
   "source": [
    "%load_ext autoreload\n",
    "%autoreload 2"
   ]
  },
  {
   "cell_type": "code",
   "execution_count": 3,
   "id": "74f9b3bf-1f39-499b-b436-85f46fab889e",
   "metadata": {},
   "outputs": [],
   "source": [
    "import os\n",
    "import pandas as pd\n",
    "import seaborn as sns\n",
    "import matplotlib.pyplot as plt\n",
    "\n",
    "from datascifuncs.tidbit_tools import load_json, write_json, print_json, check_directory_name"
   ]
  },
  {
   "cell_type": "code",
   "execution_count": 4,
   "id": "6fe08d11-e2c1-4afb-8d08-00e70c7c0634",
   "metadata": {},
   "outputs": [
    {
     "name": "stdout",
     "output_type": "stream",
     "text": [
      "Directory set to /Users/dsl/Documents/GitHub/EmotionFaceClassifier, matches target dir string EmotionFaceClassifier.\n"
     ]
    },
    {
     "data": {
      "text/plain": [
       "True"
      ]
     },
     "execution_count": 4,
     "metadata": {},
     "output_type": "execute_result"
    }
   ],
   "source": [
    "main_dir = 'EmotionFaceClassifier'\n",
    "check_directory_name(main_dir)"
   ]
  },
  {
   "cell_type": "code",
   "execution_count": 5,
   "id": "7176bfac-ea21-4910-97f0-ec5f694d276b",
   "metadata": {},
   "outputs": [],
   "source": [
    "from utils.preprocessing import (\n",
    "    convert_pixels_to_array,\n",
    "    save_image\n",
    ")"
   ]
  },
  {
   "cell_type": "code",
   "execution_count": 6,
   "id": "4c054caa-846a-493b-a070-70c1d442f45b",
   "metadata": {},
   "outputs": [
    {
     "name": "stdout",
     "output_type": "stream",
     "text": [
      "{\n",
      "    \"usage_dict\": {\n",
      "        \"Training\": \"Training\",\n",
      "        \"PublicTest\": \"Testing\",\n",
      "        \"PrivateTest\": \"Testing\"\n",
      "    },\n",
      "    \"emo_dict\": {\n",
      "        \"0\": \"Angry\",\n",
      "        \"1\": \"Disgust\",\n",
      "        \"2\": \"Fear\",\n",
      "        \"3\": \"Happy\",\n",
      "        \"4\": \"Sad\",\n",
      "        \"5\": \"Surprise\",\n",
      "        \"6\": \"Neutral\"\n",
      "    },\n",
      "    \"plotly_styles\": {\n",
      "        \"Training\": {\n",
      "            \"color\": {\n",
      "                \"Angry\": \"red\",\n",
      "                \"Disgust\": \"olive\",\n",
      "                \"Fear\": \"slategray\",\n",
      "                \"Happy\": \"gold\",\n",
      "                \"Sad\": \"blue\",\n",
      "                \"Surprise\": \"darkviolet\",\n",
      "                \"Neutral\": \"sienna\"\n",
      "            },\n",
      "            \"opacity\": 1.0,\n",
      "            \"line\": {\n",
      "                \"color\": \"black\",\n",
      "                \"width\": 0.3\n",
      "            },\n",
      "            \"pattern\": {\n",
      "                \"shape\": \"\"\n",
      "            }\n",
      "        },\n",
      "        \"Testing\": {\n",
      "            \"color\": {\n",
      "                \"Angry\": \"red\",\n",
      "                \"Disgust\": \"olive\",\n",
      "                \"Fear\": \"slategray\",\n",
      "                \"Happy\": \"gold\",\n",
      "                \"Sad\": \"blue\",\n",
      "                \"Surprise\": \"darkviolet\",\n",
      "                \"Neutral\": \"sienna\"\n",
      "            },\n",
      "            \"opacity\": 0.7,\n",
      "            \"line\": {\n",
      "                \"color\": \"grey\",\n",
      "                \"width\": 0.3\n",
      "            },\n",
      "            \"pattern\": {\n",
      "                \"shape\": \"x\"\n",
      "            }\n",
      "        }\n",
      "    }\n",
      "}\n"
     ]
    }
   ],
   "source": [
    "# Load common dicts from json config file\n",
    "common_dicts = load_json('./configs/input_mappings.json')\n",
    "print_json(common_dicts)"
   ]
  },
  {
   "cell_type": "code",
   "execution_count": 7,
   "id": "08a523b6-ff00-400e-b097-c8ff53259c7c",
   "metadata": {},
   "outputs": [
    {
     "name": "stdout",
     "output_type": "stream",
     "text": [
      "{\n",
      "    \"0\": \"Angry\",\n",
      "    \"1\": \"Disgust\",\n",
      "    \"2\": \"Fear\",\n",
      "    \"3\": \"Happy\",\n",
      "    \"4\": \"Sad\",\n",
      "    \"5\": \"Surprise\",\n",
      "    \"6\": \"Neutral\"\n",
      "}\n"
     ]
    }
   ],
   "source": [
    "# Select emotion mapping section of json\n",
    "emo_dict = common_dicts['emo_dict']\n",
    "print_json(emo_dict)"
   ]
  },
  {
   "cell_type": "code",
   "execution_count": 8,
   "id": "39d93b64-4b4d-40dc-8bf8-56155a6aeede",
   "metadata": {},
   "outputs": [
    {
     "name": "stdout",
     "output_type": "stream",
     "text": [
      "{\n",
      "    \"Angry\": \"red\",\n",
      "    \"Disgust\": \"olive\",\n",
      "    \"Fear\": \"slategray\",\n",
      "    \"Happy\": \"gold\",\n",
      "    \"Sad\": \"blue\",\n",
      "    \"Surprise\": \"darkviolet\",\n",
      "    \"Neutral\": \"sienna\"\n",
      "}\n"
     ]
    }
   ],
   "source": [
    "# Select color mappings for emotion categories\n",
    "emo_color_dict = common_dicts['plotly_styles']['Training']['color']\n",
    "print_json(emo_color_dict)"
   ]
  },
  {
   "cell_type": "code",
   "execution_count": 9,
   "id": "cfdccf2a-87d3-48a6-b5a3-e0d8f2004898",
   "metadata": {},
   "outputs": [],
   "source": [
    "# Read in FER 2013 data\n",
    "fer2013_path = 'data/fer2013.csv'\n",
    "fer2013 = pd.read_csv(fer2013_path)"
   ]
  },
  {
   "cell_type": "code",
   "execution_count": 10,
   "id": "0dc945b3-3805-4d29-9e32-bcf0e11c4411",
   "metadata": {},
   "outputs": [
    {
     "name": "stdout",
     "output_type": "stream",
     "text": [
      "Index(['emotion', 'pixels', 'Usage'], dtype='object')\n",
      "(35887, 3)\n"
     ]
    }
   ],
   "source": [
    "# Check column names and shape\n",
    "print(fer2013.columns)\n",
    "print(fer2013.shape)"
   ]
  },
  {
   "cell_type": "code",
   "execution_count": 11,
   "id": "eb41010d-69d6-44f7-80b1-702de5a885fa",
   "metadata": {},
   "outputs": [
    {
     "name": "stdout",
     "output_type": "stream",
     "text": [
      "[0, 1, 2, 3, 4, 5, 6]\n"
     ]
    }
   ],
   "source": [
    "# Check emotion values\n",
    "print(sorted(fer2013['emotion'].unique()))"
   ]
  },
  {
   "cell_type": "code",
   "execution_count": 12,
   "id": "df27738d-078d-46b0-b601-76e759c7131b",
   "metadata": {},
   "outputs": [],
   "source": [
    "# Map emotion labels to values for clarity\n",
    "fer2013 = fer2013.rename(columns={'emotion': 'emotion_id'})\n",
    "fer2013['emotion'] = fer2013['emotion_id'].astype(str).map(emo_dict)"
   ]
  },
  {
   "cell_type": "code",
   "execution_count": 13,
   "id": "a710c0ac-9bd8-409f-b4d2-9ce5dc0940f5",
   "metadata": {},
   "outputs": [],
   "source": [
    "# Pixel data converted to np.array\n",
    "fer2013['image'] = fer2013['pixels'].apply(convert_pixels_to_array)"
   ]
  },
  {
   "cell_type": "code",
   "execution_count": 14,
   "id": "cdcc4b6d-929b-44ec-90bc-69eca16f77aa",
   "metadata": {},
   "outputs": [],
   "source": [
    "# Initial data has 3 usages: train, public test, private test\n",
    "# Mapping reduces to train and test only \n",
    "fer2013['usage']=fer2013['Usage'].map(common_dicts['usage_dict'])"
   ]
  },
  {
   "cell_type": "code",
   "execution_count": 15,
   "id": "5a58a8eb-ce5e-4c47-9d9e-177d8d8c37da",
   "metadata": {},
   "outputs": [
    {
     "name": "stdout",
     "output_type": "stream",
     "text": [
      "    emotion  size\n",
      "0     Angry  4953\n",
      "1   Disgust   547\n",
      "2      Fear  5121\n",
      "3     Happy  8989\n",
      "4   Neutral  6198\n",
      "5       Sad  6077\n",
      "6  Surprise  4002\n"
     ]
    }
   ],
   "source": [
    "# Create groupby counts of each emotion\n",
    "gby = fer2013.groupby(['emotion'], as_index=False).size()\n",
    "print(gby)"
   ]
  },
  {
   "cell_type": "code",
   "execution_count": 16,
   "id": "ffb715cc-d196-4de6-84a9-95032bbe5697",
   "metadata": {},
   "outputs": [
    {
     "data": {
      "text/html": [
       "<div>\n",
       "<style scoped>\n",
       "    .dataframe tbody tr th:only-of-type {\n",
       "        vertical-align: middle;\n",
       "    }\n",
       "\n",
       "    .dataframe tbody tr th {\n",
       "        vertical-align: top;\n",
       "    }\n",
       "\n",
       "    .dataframe thead th {\n",
       "        text-align: right;\n",
       "    }\n",
       "</style>\n",
       "<table border=\"1\" class=\"dataframe\">\n",
       "  <thead>\n",
       "    <tr style=\"text-align: right;\">\n",
       "      <th></th>\n",
       "      <th>emotion</th>\n",
       "      <th>size</th>\n",
       "    </tr>\n",
       "  </thead>\n",
       "  <tbody>\n",
       "    <tr>\n",
       "      <th>0</th>\n",
       "      <td>Angry</td>\n",
       "      <td>4953</td>\n",
       "    </tr>\n",
       "    <tr>\n",
       "      <th>1</th>\n",
       "      <td>Disgust</td>\n",
       "      <td>547</td>\n",
       "    </tr>\n",
       "    <tr>\n",
       "      <th>2</th>\n",
       "      <td>Fear</td>\n",
       "      <td>5121</td>\n",
       "    </tr>\n",
       "    <tr>\n",
       "      <th>3</th>\n",
       "      <td>Happy</td>\n",
       "      <td>8989</td>\n",
       "    </tr>\n",
       "    <tr>\n",
       "      <th>4</th>\n",
       "      <td>Neutral</td>\n",
       "      <td>6198</td>\n",
       "    </tr>\n",
       "    <tr>\n",
       "      <th>5</th>\n",
       "      <td>Sad</td>\n",
       "      <td>6077</td>\n",
       "    </tr>\n",
       "    <tr>\n",
       "      <th>6</th>\n",
       "      <td>Surprise</td>\n",
       "      <td>4002</td>\n",
       "    </tr>\n",
       "  </tbody>\n",
       "</table>\n",
       "</div>"
      ],
      "text/plain": [
       "    emotion  size\n",
       "0     Angry  4953\n",
       "1   Disgust   547\n",
       "2      Fear  5121\n",
       "3     Happy  8989\n",
       "4   Neutral  6198\n",
       "5       Sad  6077\n",
       "6  Surprise  4002"
      ]
     },
     "execution_count": 16,
     "metadata": {},
     "output_type": "execute_result"
    }
   ],
   "source": [
    "gby"
   ]
  },
  {
   "cell_type": "code",
   "execution_count": 17,
   "id": "ed1f3ef3-8e0b-4ae3-ad9f-9c3b506c6d80",
   "metadata": {},
   "outputs": [],
   "source": [
    "# Add a color column to the DataFrame based on the emotion\n",
    "gby['color'] = gby['emotion'].map(emo_color_dict)"
   ]
  },
  {
   "cell_type": "code",
   "execution_count": 18,
   "id": "5c3276cc-b5cd-4b55-af67-19b4ce16b0d9",
   "metadata": {},
   "outputs": [
    {
     "data": {
      "image/png": "[encoded data removed]",
      "text/plain": [
       "<Figure size 1000x600 with 1 Axes>"
      ]
     },
     "metadata": {},
     "output_type": "display_data"
    }
   ],
   "source": [
    "# Plot using Seaborn, and set colors manually after creating the bar plot\n",
    "fig, ax = plt.subplots(figsize=(10, 6))\n",
    "sns.barplot(data=gby, x='emotion', y='size', ax=ax)\n",
    "\n",
    "# Apply colors\n",
    "for bar, color in zip(ax.patches, gby['color']):\n",
    "    bar.set_facecolor(color)\n",
    "\n",
    "plt.xlabel('Emotion')\n",
    "plt.ylabel('Count')\n",
    "plt.title('Emotion Image Counts')\n",
    "plt.show()"
   ]
  },
  {
   "cell_type": "code",
   "execution_count": 19,
   "id": "fa192009-b593-4b02-9ef6-63edda8c00c6",
   "metadata": {},
   "outputs": [],
   "source": [
    "# Creates a numeric index for each usage/emotion group\n",
    "# Value is used as identifier for image\n",
    "fer2013['emo_count_id'] = fer2013.groupby(['usage', 'emotion']).cumcount()+1"
   ]
  },
  {
   "cell_type": "code",
   "execution_count": 20,
   "id": "42f8d172-35f2-4673-a7a4-41bf38403d0f",
   "metadata": {},
   "outputs": [],
   "source": [
    "# Write img arrays to jpg\n",
    "# Add img path to df\n",
    "fer2013['img_path'] = fer2013.apply(save_image, axis=1)"
   ]
  },
  {
   "cell_type": "code",
   "execution_count": 21,
   "id": "03a64a9b-46b6-4a53-afab-6f29ce1c7b53",
   "metadata": {},
   "outputs": [],
   "source": [
    "# Add emotion color tags\n",
    "fer2013['color'] = fer2013['emotion'].map(emo_color_dict)"
   ]
  },
  {
   "cell_type": "code",
   "execution_count": 22,
   "id": "933d347c-8737-48c2-a6d7-ed9f469a5ceb",
   "metadata": {},
   "outputs": [],
   "source": [
    "# Save updated df\n",
    "save_path = os.path.join('data', 'fer2013_paths.csv')\n",
    "fer2013.to_csv(save_path, index=False)"
   ]
  }
 ],
 "metadata": {
  "kernelspec": {
   "display_name": "Python 3 (ipykernel)",
   "language": "python",
   "name": "python3"
  },
  "language_info": {
   "codemirror_mode": {
    "name": "ipython",
    "version": 3
   },
   "file_extension": ".py",
   "mimetype": "text/x-python",
   "name": "python",
   "nbconvert_exporter": "python",
   "pygments_lexer": "ipython3",
   "version": "3.11.7"
  }
 },
 "nbformat": 4,
 "nbformat_minor": 5
}
