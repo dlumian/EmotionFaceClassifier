{
 "cells": [
  {
   "cell_type": "markdown",
   "id": "ea28261c-0b24-4455-8da7-db7aa1051c7c",
   "metadata": {},
   "source": [
    "# Reset Project (Optional)\n",
    "\n",
    "## Emotion Face Classifier Notebook 000\n",
    "\n",
    "Removes existing images and intermediate files for a fresh analysis."
   ]
  },
  {
   "cell_type": "code",
   "execution_count": 2,
   "id": "5c0c7546-8f09-4618-825d-06c2328ae317",
   "metadata": {},
   "outputs": [],
   "source": [
    "from os.path import join\n",
    "from datascifuncs import check_directory_name, remove_files, remove_directories"
   ]
  },
  {
   "cell_type": "code",
   "execution_count": 3,
   "id": "c8195337-810e-4811-b7d6-f6c506cd8c2a",
   "metadata": {},
   "outputs": [
    {
     "name": "stdout",
     "output_type": "stream",
     "text": [
      "Directory set to /Users/dsl/Documents/GitHub/EmotionFaceClassifier, matches target dir string EmotionFaceClassifier.\n"
     ]
    },
    {
     "data": {
      "text/plain": [
       "True"
      ]
     },
     "execution_count": 3,
     "metadata": {},
     "output_type": "execute_result"
    }
   ],
   "source": [
    "# Ensure working directory for correct filepaths\n",
    "main_dir = 'EmotionFaceClassifier'\n",
    "check_directory_name(main_dir)"
   ]
  },
  {
   "cell_type": "markdown",
   "id": "af4ff6d3-e5e7-4b27-8f65-c617c56943d7",
   "metadata": {},
   "source": [
    "### Remove Filepaths\n",
    "Set a list of file patterns to be matched using glob."
   ]
  },
  {
   "cell_type": "code",
   "execution_count": 5,
   "id": "cb56e77f-4525-42de-b7dd-e5e338a40295",
   "metadata": {},
   "outputs": [],
   "source": [
    "remove_files(file_patterns=['data/*_paths.csv'])"
   ]
  },
  {
   "cell_type": "markdown",
   "id": "d23f626f-d815-47ba-9545-4bfde7f0f6cc",
   "metadata": {},
   "source": [
    "### Remove Directories\n",
    "Create list of dirs and remove them."
   ]
  },
  {
   "cell_type": "code",
   "execution_count": 7,
   "id": "874593f4-5e5e-4164-b8fc-88110d014e65",
   "metadata": {},
   "outputs": [],
   "source": [
    "# Base directories\n",
    "img_dir = 'imgs'\n",
    "data_dir = 'data'\n",
    "model_dir = 'models'"
   ]
  },
  {
   "cell_type": "code",
   "execution_count": 8,
   "id": "7a1efea1-1854-445e-addc-52d09487fbc8",
   "metadata": {},
   "outputs": [],
   "source": [
    "# Joined dir paths\n",
    "intermediate_data = join(data_dir, 'intermediate')\n",
    "training_data = join(data_dir, 'Training')\n",
    "testing_data = join(data_dir, 'Testing')"
   ]
  },
  {
   "cell_type": "code",
   "execution_count": 9,
   "id": "b4be72f9-e484-44c5-b1d9-d7bb72891c03",
   "metadata": {},
   "outputs": [],
   "source": [
    "# Create full list\n",
    "remove_list =[img_dir, intermediate_data, training_data, testing_data, model_dir]"
   ]
  },
  {
   "cell_type": "code",
   "execution_count": 10,
   "id": "f19ba0af-dde5-4020-9b94-a979f9a1d430",
   "metadata": {},
   "outputs": [
    {
     "name": "stdout",
     "output_type": "stream",
     "text": [
      "Error removing directory imgs: [Errno 2] No such file or directory: 'imgs'\n",
      "Error removing directory data/intermediate: [Errno 2] No such file or directory: 'data/intermediate'\n",
      "Error removing directory data/Training: [Errno 2] No such file or directory: 'data/Training'\n",
      "Error removing directory data/Testing: [Errno 2] No such file or directory: 'data/Testing'\n",
      "Error removing directory models: [Errno 2] No such file or directory: 'models'\n"
     ]
    }
   ],
   "source": [
    "# Remove all dirs in list\n",
    "remove_directories(directories=remove_list)"
   ]
  },
  {
   "cell_type": "code",
   "execution_count": 11,
   "id": "0b1c5a12-845c-4ce2-9087-b02cbd279d1c",
   "metadata": {},
   "outputs": [
    {
     "name": "stdout",
     "output_type": "stream",
     "text": [
      "Removals complete!\n"
     ]
    }
   ],
   "source": [
    "print('Removals complete!')"
   ]
  }
 ],
 "metadata": {
  "kernelspec": {
   "display_name": "Python 3 (ipykernel)",
   "language": "python",
   "name": "python3"
  },
  "language_info": {
   "codemirror_mode": {
    "name": "ipython",
    "version": 3
   },
   "file_extension": ".py",
   "mimetype": "text/x-python",
   "name": "python",
   "nbconvert_exporter": "python",
   "pygments_lexer": "ipython3",
   "version": "3.11.7"
  }
 },
 "nbformat": 4,
 "nbformat_minor": 5
}
