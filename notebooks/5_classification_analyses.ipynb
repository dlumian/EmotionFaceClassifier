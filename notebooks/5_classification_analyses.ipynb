{
 "cells": [
  {
   "cell_type": "markdown",
   "id": "c2c4b7b0-80c5-45a3-8f5d-53b01f303286",
   "metadata": {},
   "source": [
    "# Classification Analyses\n",
    "\n",
    "## Emotion Face Classifier Notebook 5\n",
    "\n",
    "Trains and evalutes supervised classification methods."
   ]
  },
  {
   "cell_type": "code",
   "execution_count": null,
   "id": "7b51e8ba-761a-43fe-8002-c6cb44e47915",
   "metadata": {},
   "outputs": [],
   "source": []
  }
 ],
 "metadata": {
  "kernelspec": {
   "display_name": "Python 3 (ipykernel)",
   "language": "python",
   "name": "python3"
  },
  "language_info": {
   "codemirror_mode": {
    "name": "ipython",
    "version": 3
   },
   "file_extension": ".py",
   "mimetype": "text/x-python",
   "name": "python",
   "nbconvert_exporter": "python",
   "pygments_lexer": "ipython3",
   "version": "3.11.7"
  }
 },
 "nbformat": 4,
 "nbformat_minor": 5
}
