{
 "cells": [
  {
   "cell_type": "code",
   "execution_count": null,
   "id": "c4c76f83-0992-42e6-84d8-c8738b4cc4d8",
   "metadata": {},
   "outputs": [],
   "source": [
    "import seaborn as sns\n",
    "import matplotlib.pyplot as plt\n",
    "\n",
    "# Set palette using viridis\n",
    "# sns.set_palette('deep')\n",
    "# sns.set_palette('Spectral')\n",
    "\n",
    "sns.set_palette(sns.cubehelix_palette(start=2.8, rot=-0.5, dark=0.3, light=0.7))\n",
    "\n",
    "df = sns.load_dataset('tips')\n",
    "sns.countplot(x='day', data=df)\n",
    "plt.title('Countplot with Viridis Palette')\n",
    "plt.show()\n"
   ]
  },
  {
   "cell_type": "code",
   "execution_count": null,
   "id": "060c024d-a416-4f8d-b444-d791ceef779f",
   "metadata": {},
   "outputs": [],
   "source": [
    "import plotly.express as px\n",
    "\n",
    "# Load dataset\n",
    "df = px.data.tips()\n",
    "\n",
    "# Create a bar chart with more categories and a solid colorscale\n",
    "fig = px.bar(\n",
    "    df, \n",
    "    x='day', \n",
    "    y='total_bill', \n",
    "    color='time',  # More categories than 'sex', such as 'Lunch' and 'Dinner'\n",
    "    barmode='stack', \n",
    "    title='Stacked Bar Chart with Viridis Colorscale'\n",
    ")\n",
    "\n",
    "# Update the trace to use a more defined colorscale and make the colors solid\n",
    "fig.update_traces(marker=dict(colorscale='Portland', line=dict(width=0)))\n",
    "\n",
    "# Display the figure\n",
    "fig.show()\n"
   ]
  },
  {
   "cell_type": "code",
   "execution_count": null,
   "id": "969bfaeb-e55d-4c01-bce5-a76642190982",
   "metadata": {},
   "outputs": [],
   "source": []
  }
 ],
 "metadata": {
  "kernelspec": {
   "display_name": "Python 3 (ipykernel)",
   "language": "python",
   "name": "python3"
  },
  "language_info": {
   "codemirror_mode": {
    "name": "ipython",
    "version": 3
   },
   "file_extension": ".py",
   "mimetype": "text/x-python",
   "name": "python",
   "nbconvert_exporter": "python",
   "pygments_lexer": "ipython3",
   "version": "3.11.7"
  }
 },
 "nbformat": 4,
 "nbformat_minor": 5
}
