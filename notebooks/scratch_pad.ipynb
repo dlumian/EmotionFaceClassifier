{
 "cells": [
  {
   "cell_type": "code",
   "execution_count": null,
   "id": "60c9e463-f51c-49f4-9086-ef35d17cd131",
   "metadata": {},
   "outputs": [],
   "source": [
    "import os\n",
    "import numpy as np\n",
    "import pandas as pd\n",
    "from sklearn.preprocessing import LabelEncoder"
   ]
  },
  {
   "cell_type": "code",
   "execution_count": 4,
   "id": "f33335ab-46b9-4cd1-9738-b3391aeca7b9",
   "metadata": {},
   "outputs": [],
   "source": [
    "def check_directory_name(target_name) -> bool:\n",
    "    \"\"\"\n",
    "    Check if the current directory name matches the target_name.\n",
    "    If not, move up a directory and repeat the check.\n",
    "    \n",
    "    Args:\n",
    "        target_name (str): The directory name to match.\n",
    "        \n",
    "    Returns:\n",
    "        bool: True if the current directory name matches the target_name, False otherwise.\n",
    "    \"\"\"\n",
    "    # Get the current directory path\n",
    "    current_dir = os.getcwd()\n",
    "    # Extract the directory name from the path\n",
    "    current_dir_name = os.path.basename(current_dir)    \n",
    "    # Check if the current directory name matches the target_name\n",
    "    if current_dir_name == target_name:\n",
    "        print(f'Directory set to {current_dir}, matches target dir sting {target_name}.')\n",
    "        return True\n",
    "    else:\n",
    "        # Move up a directory\n",
    "        os.chdir('..')\n",
    "        # Check if we have reached the root directory\n",
    "        if os.getcwd() == current_dir:\n",
    "            return False\n",
    "        # Recursively call the function to check the parent directory\n",
    "        return check_directory_name(target_name)"
   ]
  },
  {
   "cell_type": "code",
   "execution_count": null,
   "id": "dbfd3342-2d39-4ad8-b008-c6994cae9a5e",
   "metadata": {},
   "outputs": [],
   "source": [
    "main_dir = 'EmotionFaceClassifier'\n",
    "check_directory_name(main_dir)"
   ]
  },
  {
   "cell_type": "code",
   "execution_count": null,
   "id": "ae691511-c2d3-4f3e-81b5-d16fc7bae2cf",
   "metadata": {},
   "outputs": [],
   "source": [
    "from utils.helpers import (\n",
    "    load_config\n",
    ")\n",
    "\n",
    "from utils.helpers import (\n",
    "    load_images_and_labels\n",
    ")"
   ]
  },
  {
   "cell_type": "code",
   "execution_count": null,
   "id": "291a694d-48b4-4bcf-bba1-9063baa7c0e5",
   "metadata": {},
   "outputs": [],
   "source": []
  },
  {
   "cell_type": "code",
   "execution_count": null,
   "id": "5fc6edcc-40dd-487f-a3be-c5581eb5f75c",
   "metadata": {},
   "outputs": [],
   "source": []
  },
  {
   "cell_type": "code",
   "execution_count": null,
   "id": "7699a6ce-ba80-49e8-9e77-fef1c4fa7aa4",
   "metadata": {},
   "outputs": [],
   "source": []
  },
  {
   "cell_type": "code",
   "execution_count": null,
   "id": "302d2db1-b621-4a9b-a68d-a127a04564b0",
   "metadata": {},
   "outputs": [],
   "source": []
  }
 ],
 "metadata": {
  "kernelspec": {
   "display_name": "Python 3 (ipykernel)",
   "language": "python",
   "name": "python3"
  },
  "language_info": {
   "codemirror_mode": {
    "name": "ipython",
    "version": 3
   },
   "file_extension": ".py",
   "mimetype": "text/x-python",
   "name": "python",
   "nbconvert_exporter": "python",
   "pygments_lexer": "ipython3",
   "version": "3.11.7"
  }
 },
 "nbformat": 4,
 "nbformat_minor": 5
}
