{
 "cells": [
  {
   "cell_type": "markdown",
   "id": "7f8a83bc-00a7-402c-8728-795013a683df",
   "metadata": {},
   "source": [
    "# Vectorized Classification\n",
    "\n",
    "## Emotion Face Classifier Notebook 5\n",
    "\n",
    "Load model parameters from vectorized_models.json.\n",
    "\n",
    "Iterative through model options for training and evaluation.\n",
    "\n",
    "Outputs from each run saves to dir based on model settings-existing dirs will be skipped."
   ]
  },
  {
   "cell_type": "code",
   "execution_count": null,
   "id": "96d84f94-6103-43b9-bdbc-0238ac5161df",
   "metadata": {},
   "outputs": [],
   "source": [
    "%load_ext autoreload\n",
    "%autoreload 2"
   ]
  },
  {
   "cell_type": "code",
   "execution_count": null,
   "id": "7d6a2d84-11d9-44d9-a40d-f480df890da1",
   "metadata": {},
   "outputs": [],
   "source": [
    "import os\n",
    "import pandas as pd"
   ]
  },
  {
   "cell_type": "code",
   "execution_count": null,
   "id": "985e55ec-ac48-4be3-b734-4f8b480c1dab",
   "metadata": {},
   "outputs": [],
   "source": [
    "from datascifuncs.tidbit_tools import load_json, print_json, check_directory_name"
   ]
  },
  {
   "cell_type": "code",
   "execution_count": null,
   "id": "8c1b8a4f-3f4f-4f40-890b-f5a503f1223e",
   "metadata": {},
   "outputs": [],
   "source": [
    "main_dir = 'EmotionFaceClassifier'\n",
    "check_directory_name(main_dir)"
   ]
  },
  {
   "cell_type": "code",
   "execution_count": null,
   "id": "ed7c3867-ac81-4621-b382-83e72c64299c",
   "metadata": {},
   "outputs": [],
   "source": [
    "from utils.preprocessing import preprocess_images"
   ]
  },
  {
   "cell_type": "code",
   "execution_count": null,
   "id": "23798c72-087e-486d-9d7b-319c713ec6e7",
   "metadata": {},
   "outputs": [],
   "source": [
    "# from utils.classification_analysis import"
   ]
  },
  {
   "cell_type": "markdown",
   "id": "38d7a63f-5881-4566-99f3-ca20276f8c1a",
   "metadata": {},
   "source": [
    "### Load Configs and Data\n",
    "\n",
    "Read in json with model parameters.\n",
    "\n",
    "Read in data and select training data for analysis."
   ]
  },
  {
   "cell_type": "code",
   "execution_count": null,
   "id": "1be8cb13-062e-45b3-9e75-0fe4e904f759",
   "metadata": {},
   "outputs": [],
   "source": [
    "# Read in FER 2013 data\n",
    "fer2013_path = 'data/fer2013_paths.csv'\n",
    "fer2013 = pd.read_csv(fer2013_path)"
   ]
  },
  {
   "cell_type": "code",
   "execution_count": null,
   "id": "924f0a6b-404c-4d48-b7f6-1b519a9f8d79",
   "metadata": {},
   "outputs": [],
   "source": [
    "fer2013.head()"
   ]
  },
  {
   "cell_type": "code",
   "execution_count": null,
   "id": "a3add3a5-6e5e-4d79-ada8-f4248329521a",
   "metadata": {},
   "outputs": [],
   "source": [
    "# Load common dicts from json config file\n",
    "common_dicts = load_json('./configs/input_mappings.json')"
   ]
  },
  {
   "cell_type": "code",
   "execution_count": null,
   "id": "32d5cd93-9a9d-47cd-afe3-e2c0c5769170",
   "metadata": {},
   "outputs": [],
   "source": [
    "# Get subset of emo-color mappings\n",
    "color_dict = common_dicts['color_dict']\n",
    "color_dict"
   ]
  },
  {
   "cell_type": "code",
   "execution_count": null,
   "id": "f67d9c4d-a609-49ad-b5df-f73aad527123",
   "metadata": {},
   "outputs": [],
   "source": [
    "X_train, y_train = preprocess_images(fer2013, usage='Training', flatten=True)"
   ]
  },
  {
   "cell_type": "code",
   "execution_count": null,
   "id": "a9f9d11b-f2cc-4422-b31b-eea95b9cd3be",
   "metadata": {},
   "outputs": [],
   "source": [
    "model_dict = load_json('configs/vectorized_models.json')"
   ]
  },
  {
   "cell_type": "code",
   "execution_count": null,
   "id": "f593a24e-e523-45cc-a698-92db5e704154",
   "metadata": {},
   "outputs": [],
   "source": [
    "model_dict"
   ]
  },
  {
   "cell_type": "markdown",
   "id": "6ee7c81a-509f-4970-a8a8-857a15425672",
   "metadata": {},
   "source": [
    "### Run Analyses\n",
    "\n",
    "For each model, skip if results exist or run analysis.\n",
    "\n",
    "Model details saved for each iteration. "
   ]
  },
  {
   "cell_type": "code",
   "execution_count": null,
   "id": "50c817b3-07ba-4495-a942-14109c16e784",
   "metadata": {},
   "outputs": [],
   "source": [
    "# for model_name, model_details in model_dict.items():\n",
    "    # analysis_details = generate_analysis_paths(model_details)\n",
    "    # analysis_details['color_map'] = color_dict\n",
    "    # run_single_analysis(X_train, y_train, analysis_details)"
   ]
  },
  {
   "cell_type": "code",
   "execution_count": null,
   "id": "25a45373-d5cb-43e0-8dd8-93185a5a65f6",
   "metadata": {},
   "outputs": [],
   "source": [
    "print('Vectorized classification complete!')"
   ]
  }
 ],
 "metadata": {
  "kernelspec": {
   "display_name": "Python 3 (ipykernel)",
   "language": "python",
   "name": "python3"
  },
  "language_info": {
   "codemirror_mode": {
    "name": "ipython",
    "version": 3
   },
   "file_extension": ".py",
   "mimetype": "text/x-python",
   "name": "python",
   "nbconvert_exporter": "python",
   "pygments_lexer": "ipython3",
   "version": "3.11.7"
  }
 },
 "nbformat": 4,
 "nbformat_minor": 5
}
