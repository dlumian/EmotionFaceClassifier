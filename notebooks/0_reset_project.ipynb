{
 "cells": [
  {
   "cell_type": "markdown",
   "id": "ea28261c-0b24-4455-8da7-db7aa1051c7c",
   "metadata": {},
   "source": [
    "# Reset Project (Optional)\n",
    "\n",
    "## Emotion Face Classifier Notebook 0\n",
    "\n",
    "Removes existing images and intermediate files for a fresh analysis.\n",
    "\n",
    "#### NOTE: This notebook completely removes data including images, models, and results. If you are not sure, do NOT use this notebook. Remove unwanted files by hand if needed."
   ]
  },
  {
   "cell_type": "code",
   "execution_count": 2,
   "id": "5c0c7546-8f09-4618-825d-06c2328ae317",
   "metadata": {},
   "outputs": [],
   "source": [
    "from os.path import join\n",
    "from datascifuncs.tidbit_tools import check_directory_name\n",
    "from datascifuncs.reset_project import remove_files, remove_directories, reset_notebooks"
   ]
  },
  {
   "cell_type": "code",
   "execution_count": 3,
   "id": "c8195337-810e-4811-b7d6-f6c506cd8c2a",
   "metadata": {},
   "outputs": [
    {
     "name": "stdout",
     "output_type": "stream",
     "text": [
      "Directory set to /Users/dsl/Documents/GitHub/EmotionFaceClassifier, matches target dir string EmotionFaceClassifier.\n"
     ]
    },
    {
     "data": {
      "text/plain": [
       "True"
      ]
     },
     "execution_count": 3,
     "metadata": {},
     "output_type": "execute_result"
    }
   ],
   "source": [
    "# Ensure working directory for correct filepaths\n",
    "main_dir = 'EmotionFaceClassifier'\n",
    "check_directory_name(main_dir)"
   ]
  },
  {
   "cell_type": "markdown",
   "id": "af4ff6d3-e5e7-4b27-8f65-c617c56943d7",
   "metadata": {},
   "source": [
    "### Remove Filepaths\n",
    "Set a list of file patterns to be matched using glob.\n",
    "\n",
    "remove_files will remove all files matching any of the patterns."
   ]
  },
  {
   "cell_type": "code",
   "execution_count": 5,
   "id": "cb56e77f-4525-42de-b7dd-e5e338a40295",
   "metadata": {},
   "outputs": [
    {
     "name": "stdout",
     "output_type": "stream",
     "text": [
      "Removed file: data/fer2013_paths.csv\n"
     ]
    }
   ],
   "source": [
    "remove_files(file_patterns=['data/*_paths.csv'])"
   ]
  },
  {
   "cell_type": "markdown",
   "id": "d23f626f-d815-47ba-9545-4bfde7f0f6cc",
   "metadata": {},
   "source": [
    "### Remove Directories\n",
    "\n",
    "Create a list of directories to be removed.\n",
    "\n",
    "Each of those directories will be removed entirely. "
   ]
  },
  {
   "cell_type": "code",
   "execution_count": 7,
   "id": "7a1efea1-1854-445e-addc-52d09487fbc8",
   "metadata": {},
   "outputs": [],
   "source": [
    "img_dir = 'imgs'\n",
    "data_dir = 'data'\n",
    "model_dir = 'models'\n",
    "\n",
    "# Directory with pivot and summary data tables\n",
    "intermediate_data = join(data_dir, 'intermediate')\n",
    "\n",
    "# Directories with image files extracted from initial csv file\n",
    "training_data = join(data_dir, 'Training')\n",
    "testing_data = join(data_dir, 'Testing')"
   ]
  },
  {
   "cell_type": "code",
   "execution_count": 8,
   "id": "b4be72f9-e484-44c5-b1d9-d7bb72891c03",
   "metadata": {},
   "outputs": [],
   "source": [
    "remove_list =[img_dir, intermediate_data, training_data, testing_data, model_dir]"
   ]
  },
  {
   "cell_type": "code",
   "execution_count": 9,
   "id": "f19ba0af-dde5-4020-9b94-a979f9a1d430",
   "metadata": {},
   "outputs": [
    {
     "name": "stdout",
     "output_type": "stream",
     "text": [
      "Error removing directory imgs: [Errno 2] No such file or directory: 'imgs'\n",
      "Error removing directory data/intermediate: [Errno 2] No such file or directory: 'data/intermediate'\n",
      "Removed directory: data/Training\n",
      "Removed directory: data/Testing\n",
      "Error removing directory models: [Errno 2] No such file or directory: 'models'\n"
     ]
    }
   ],
   "source": [
    "remove_directories(directories=remove_list)"
   ]
  },
  {
   "cell_type": "markdown",
   "id": "ab20f645-152f-4fd7-8b74-c8037b89bf56",
   "metadata": {},
   "source": [
    "### Reset Jupyter Notebooks\n",
    "Reset notebooks in the specified directory (\"notebooks\").\n",
    "\n",
    "Exclude current notebook to avoid issues due to modifying an open file.\n",
    "\n",
    "    Note: excluded_notebooks accepts a list so that additional notebooks can be skipped."
   ]
  },
  {
   "cell_type": "code",
   "execution_count": 11,
   "id": "cb74bb99-bcbf-4d1b-b485-6490bb3b131f",
   "metadata": {},
   "outputs": [
    {
     "name": "stdout",
     "output_type": "stream",
     "text": [
      "Cleared output in notebook: notebooks/3_eda_image_properties.ipynb\n",
      "Cleared output in notebook: notebooks/1_data_preprocessing.ipynb\n",
      "Cleared output in notebook: notebooks/2_eda_overview.ipynb\n",
      "Cleared output in notebook: notebooks/5_classification_analyses.ipynb\n",
      "Cleared output in notebook: notebooks/4_unsupervised_feature_extraction.ipynb\n"
     ]
    }
   ],
   "source": [
    "excluded_notebooks = ['notebooks/0_reset_project.ipynb']\n",
    "reset_notebooks(notebook_dir='notebooks', excluded_notebooks=excluded_notebooks)"
   ]
  }
 ],
 "metadata": {
  "kernelspec": {
   "display_name": "Python 3 (ipykernel)",
   "language": "python",
   "name": "python3"
  },
  "language_info": {
   "codemirror_mode": {
    "name": "ipython",
    "version": 3
   },
   "file_extension": ".py",
   "mimetype": "text/x-python",
   "name": "python",
   "nbconvert_exporter": "python",
   "pygments_lexer": "ipython3",
   "version": "3.11.7"
  }
 },
 "nbformat": 4,
 "nbformat_minor": 5
}
