{
 "cells": [
  {
   "cell_type": "markdown",
   "id": "ea28261c-0b24-4455-8da7-db7aa1051c7c",
   "metadata": {},
   "source": [
    "# Reset Project (Optional)\n",
    "\n",
    "## Emotion Face Classifier Notebook 0\n",
    "\n",
    "Removes existing images and intermediate files for a fresh analysis."
   ]
  },
  {
   "cell_type": "code",
   "execution_count": 2,
   "id": "5c0c7546-8f09-4618-825d-06c2328ae317",
   "metadata": {},
   "outputs": [],
   "source": [
    "from os.path import join\n",
    "from datascifuncs.tidbit_tools import check_directory_name\n",
    "from datascifuncs.reset_project import remove_files, remove_directories, reset_notebooks"
   ]
  },
  {
   "cell_type": "code",
   "execution_count": 3,
   "id": "c8195337-810e-4811-b7d6-f6c506cd8c2a",
   "metadata": {},
   "outputs": [
    {
     "name": "stdout",
     "output_type": "stream",
     "text": [
      "Directory set to /Users/dsl/Documents/GitHub/EmotionFaceClassifier, matches target dir string EmotionFaceClassifier.\n"
     ]
    },
    {
     "data": {
      "text/plain": [
       "True"
      ]
     },
     "execution_count": 3,
     "metadata": {},
     "output_type": "execute_result"
    }
   ],
   "source": [
    "# Ensure working directory for correct filepaths\n",
    "main_dir = 'EmotionFaceClassifier'\n",
    "check_directory_name(main_dir)"
   ]
  },
  {
   "cell_type": "code",
   "execution_count": 4,
   "id": "f19ba0af-dde5-4020-9b94-a979f9a1d430",
   "metadata": {},
   "outputs": [
    {
     "name": "stdout",
     "output_type": "stream",
     "text": [
      "Removed file: data/fer2013_paths.csv\n",
      "Removed directory: imgs\n",
      "Removed directory: data/intermediate\n",
      "Removed directory: data/Training\n",
      "Removed directory: data/Testing\n",
      "Removed directory: mlruns\n",
      "Cleared output in notebook: notebooks/Untitled.ipynb\n",
      "Cleared output in notebook: notebooks/3_image_processing-Copy1.ipynb\n",
      "Cleared output in notebook: notebooks/1_data_preprocessing.ipynb\n",
      "Cleared output in notebook: notebooks/2_eda_overview.ipynb\n",
      "Cleared output in notebook: notebooks/3_image_processing.ipynb\n"
     ]
    }
   ],
   "source": [
    "### Remove given filepaths using glob matching\n",
    "remove_files(['data/*_paths.csv'])\n",
    "\n",
    "# Remove specific directories\n",
    "img_dir = 'imgs'\n",
    "data_dir = 'data'\n",
    "mlruns_dir = 'mlruns'\n",
    "# Dir with pivot and summary data tables\n",
    "inter_data = join(data_dir, 'intermediate')\n",
    "# img directories\n",
    "training_data = join(data_dir, 'Training')\n",
    "testing_data = join(data_dir, 'Testing')\n",
    "\n",
    "rm_list =[img_dir, inter_data, training_data, testing_data, mlruns_dir]\n",
    "\n",
    "remove_directories(rm_list)\n",
    "\n",
    "# Reset notebooks in the specified directory\n",
    "# Optionally, exclude current notebook to avoid overwriting open file\n",
    "excluded_notebooks = ['notebooks/0_reset_project.ipynb']\n",
    "reset_notebooks('notebooks', excluded_notebooks=excluded_notebooks)"
   ]
  },
  {
   "cell_type": "code",
   "execution_count": null,
   "id": "cb74bb99-bcbf-4d1b-b485-6490bb3b131f",
   "metadata": {},
   "outputs": [],
   "source": []
  }
 ],
 "metadata": {
  "kernelspec": {
   "display_name": "Python 3 (ipykernel)",
   "language": "python",
   "name": "python3"
  },
  "language_info": {
   "codemirror_mode": {
    "name": "ipython",
    "version": 3
   },
   "file_extension": ".py",
   "mimetype": "text/x-python",
   "name": "python",
   "nbconvert_exporter": "python",
   "pygments_lexer": "ipython3",
   "version": "3.11.7"
  }
 },
 "nbformat": 4,
 "nbformat_minor": 5
}
