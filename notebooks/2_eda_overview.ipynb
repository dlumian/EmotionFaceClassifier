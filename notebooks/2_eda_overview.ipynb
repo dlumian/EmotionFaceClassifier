{
 "cells": [
  {
   "cell_type": "markdown",
   "id": "3e77f146-b900-4430-898c-f1b50a9aa0ac",
   "metadata": {},
   "source": [
    "# Exploratory Data Analysis (EDA) Overview\n",
    "\n",
    "## Emotion Face Classifier Notebook 2\n",
    "\n",
    "Generates summary and visuals of counts of emotion by usage.\n",
    "\n",
    "This notebook focuses on data proportions and counts, next notebook explores image properties such as pixel density."
   ]
  },
  {
   "cell_type": "code",
   "execution_count": null,
   "id": "37745572-4b0b-429b-a7fa-3cdbe83feb9f",
   "metadata": {},
   "outputs": [],
   "source": [
    "%load_ext autoreload\n",
    "%autoreload 2"
   ]
  },
  {
   "cell_type": "code",
   "execution_count": null,
   "id": "44cba53c-cb2e-4c95-99ef-442f4f760639",
   "metadata": {},
   "outputs": [],
   "source": [
    "import os\n",
    "import pandas as pd"
   ]
  },
  {
   "cell_type": "code",
   "execution_count": null,
   "id": "1b59f1e6-06fb-4768-9086-a8ff438277a6",
   "metadata": {},
   "outputs": [],
   "source": [
    "from datascifuncs.tidbit_tools import load_json, write_json, print_json, check_directory_name"
   ]
  },
  {
   "cell_type": "code",
   "execution_count": null,
   "id": "71acb85a-ef3a-4ff6-b822-454ebc8ca161",
   "metadata": {},
   "outputs": [],
   "source": [
    "# Ensure working directory for correct filepaths\n",
    "main_dir = 'EmotionFaceClassifier'\n",
    "check_directory_name(main_dir)"
   ]
  },
  {
   "cell_type": "code",
   "execution_count": null,
   "id": "5308118f-19ee-4deb-814c-f019d3d67811",
   "metadata": {},
   "outputs": [],
   "source": [
    "from utils.eda import plot_emotion_counts, plot_emotion_waffle"
   ]
  },
  {
   "cell_type": "markdown",
   "id": "cfa7da44-049e-400c-b626-1cc0ce74adb3",
   "metadata": {},
   "source": [
    "### Set Paths and Load Data\n",
    "\n",
    "Defines paths for imports and exports.\n",
    "\n",
    "Imports json details for plotting styles."
   ]
  },
  {
   "cell_type": "code",
   "execution_count": null,
   "id": "b833924a-5ad6-49df-b51b-cd252d626674",
   "metadata": {},
   "outputs": [],
   "source": [
    "intermediate_data = os.path.join('data', 'intermediate')\n",
    "os.makedirs(intermediate_data, exist_ok=True)"
   ]
  },
  {
   "cell_type": "code",
   "execution_count": null,
   "id": "1b460e1a-2cb9-477d-afbd-e58643e6dcff",
   "metadata": {},
   "outputs": [],
   "source": [
    "image_dir = './images'\n",
    "os.makedirs(image_dir, exist_ok=True)"
   ]
  },
  {
   "cell_type": "code",
   "execution_count": null,
   "id": "3984e359-a4a3-443c-9f4e-c990682fffee",
   "metadata": {},
   "outputs": [],
   "source": [
    "gby_df_path = os.path.join(intermediate_data, 'count_pivot.csv')"
   ]
  },
  {
   "cell_type": "code",
   "execution_count": null,
   "id": "8603b10f-141e-471e-b7dd-73c035488e0c",
   "metadata": {},
   "outputs": [],
   "source": [
    "common_dicts = load_json('./configs/input_mappings.json')\n",
    "print_json(common_dicts)"
   ]
  },
  {
   "cell_type": "code",
   "execution_count": null,
   "id": "fe895c00-6ca0-456b-be24-959e33b7c885",
   "metadata": {},
   "outputs": [],
   "source": [
    "# Select emotion mapping section of json\n",
    "emo_dict = common_dicts['emo_dict']\n",
    "print_json(emo_dict)"
   ]
  },
  {
   "cell_type": "code",
   "execution_count": null,
   "id": "07068e0e-6d7f-48e3-b4aa-3cc51dd3236a",
   "metadata": {},
   "outputs": [],
   "source": [
    "# Style settings for plotly \n",
    "style_dict = common_dicts['plotly_styles']\n",
    "print_json(style_dict)"
   ]
  },
  {
   "cell_type": "code",
   "execution_count": null,
   "id": "f1d303db-7236-459e-8a5b-2053b8476d4b",
   "metadata": {},
   "outputs": [],
   "source": [
    "# Get subset of emo-color mappings\n",
    "color_dict = common_dicts['color_dict']\n",
    "color_dict"
   ]
  },
  {
   "cell_type": "code",
   "execution_count": null,
   "id": "f54963ec-dd2d-4f47-aaa5-4eecde2d27a8",
   "metadata": {},
   "outputs": [],
   "source": [
    "# Category ordering\n",
    "category_order = common_dicts['category_order']"
   ]
  },
  {
   "cell_type": "code",
   "execution_count": null,
   "id": "7cf86d1a-2478-493b-a3d6-93dd9854fe96",
   "metadata": {},
   "outputs": [],
   "source": [
    "style_dict['Training']['color']=color_dict\n",
    "style_dict['Testing']['color']=color_dict"
   ]
  },
  {
   "cell_type": "markdown",
   "id": "5b22c6a8-d5b8-40c9-bb7d-8466de4e8f81",
   "metadata": {},
   "source": [
    "### Load and Explore Data\n",
    "\n",
    "Loads data, explores features, and generates counts df for plotting."
   ]
  },
  {
   "cell_type": "code",
   "execution_count": null,
   "id": "2c8cb1fb-5198-43e4-815e-c803c73376f3",
   "metadata": {},
   "outputs": [],
   "source": [
    "# Read in FER 2013 data\n",
    "fer2013_path = 'data/fer2013_paths.csv'\n",
    "fer2013 = pd.read_csv(fer2013_path)"
   ]
  },
  {
   "cell_type": "code",
   "execution_count": null,
   "id": "b9094b19-2d6a-409c-b2e6-bb9e78b78902",
   "metadata": {},
   "outputs": [],
   "source": [
    "# Check column names and shape\n",
    "print(fer2013.columns)\n",
    "print(fer2013.shape)"
   ]
  },
  {
   "cell_type": "code",
   "execution_count": null,
   "id": "21b6db85-392e-49d9-a34b-af184edc23ec",
   "metadata": {},
   "outputs": [],
   "source": [
    "# Check emotion values\n",
    "print(sorted(fer2013['emotion'].unique()))"
   ]
  },
  {
   "cell_type": "code",
   "execution_count": null,
   "id": "646684e7-a75a-478b-8425-f8afcb662a9e",
   "metadata": {},
   "outputs": [],
   "source": [
    "# Create groupby counts of each emotion\n",
    "gby = fer2013.groupby(['emotion', 'usage'], as_index=False).size()\n",
    "gby"
   ]
  },
  {
   "cell_type": "code",
   "execution_count": null,
   "id": "27f78620-dd7a-44a5-95dc-9354a5f6ff6e",
   "metadata": {},
   "outputs": [],
   "source": [
    "# Sort df for consistency\n",
    "gby.sort_values(by=['usage'], ascending=False, inplace=True)\n",
    "gby"
   ]
  },
  {
   "cell_type": "code",
   "execution_count": null,
   "id": "45530018-a417-4664-a230-f5e94562dadf",
   "metadata": {},
   "outputs": [],
   "source": [
    "# Rename size column to Count for plots\n",
    "gby = gby.rename(columns={'size':'Count'})\n",
    "gby"
   ]
  },
  {
   "cell_type": "code",
   "execution_count": null,
   "id": "a31310be-950b-419d-8288-72d71037680f",
   "metadata": {},
   "outputs": [],
   "source": [
    "# Map colors to emotions\n",
    "gby['color'] = gby['emotion'].map(color_dict)\n",
    "gby"
   ]
  },
  {
   "cell_type": "code",
   "execution_count": null,
   "id": "5295d847-f8bc-4fbd-8f0d-259c877ed216",
   "metadata": {},
   "outputs": [],
   "source": [
    "# Map opacity by usage for plots (Train=1, Test=.5)\n",
    "gby['opacity'] = gby['usage'].apply(lambda x: 1.0 if x == 'Training' else 0.5)\n",
    "gby"
   ]
  },
  {
   "cell_type": "code",
   "execution_count": null,
   "id": "9f2ad3df-213b-457e-ae83-8983b1c7ded3",
   "metadata": {},
   "outputs": [],
   "source": [
    "# Save df to path set above\n",
    "gby.to_csv(gby_df_path, index=False)"
   ]
  },
  {
   "cell_type": "markdown",
   "id": "44e529d3-aa77-4386-bebf-08f2c73055dd",
   "metadata": {},
   "source": [
    "## Data Count Visualizations\n",
    "\n",
    "Plots display both usage and emotion in multiple formats to show data distrubtion."
   ]
  },
  {
   "cell_type": "markdown",
   "id": "68945bbe-c23a-45e0-941a-a0babb275ef4",
   "metadata": {},
   "source": [
    "### Bar Plots\n",
    "\n",
    "Key options for customization of bar plots include:\n",
    "    - output_path: If None will not save, otherwise saves to given path\n",
    "    - is_stacked: Boolean, if True stack usage, otherwise group\n",
    "    - auto_text: Boolean, default False. If True, adds counts as text above data\n",
    "    - legend_note: If not None, text will be displayed in a box. Used for additional details as needed."
   ]
  },
  {
   "cell_type": "code",
   "execution_count": null,
   "id": "956e7d92-8834-43f1-9314-4253b052b26d",
   "metadata": {},
   "outputs": [],
   "source": [
    "# Set order of categories to consistency across plots\n",
    "filtered_order = [cat for cat in category_order if cat in gby['emotion'].unique()]"
   ]
  },
  {
   "cell_type": "code",
   "execution_count": null,
   "id": "89b4e0c0-6543-4705-9a42-060b424ea3a2",
   "metadata": {},
   "outputs": [],
   "source": [
    "annotation_text = \"\"\"\n",
    "Train Images: Solid color   Test Images: 0.5 opacity with 'x' pattern\n",
    "\"\"\""
   ]
  },
  {
   "cell_type": "code",
   "execution_count": null,
   "id": "d45783c7-d22e-4fcd-b727-fd3d327a6174",
   "metadata": {},
   "outputs": [],
   "source": [
    "# key settings: stacked, totals displayed\n",
    "fig = plot_emotion_counts(\n",
    "    dataframe=gby, \n",
    "    x_axis='emotion', \n",
    "    y_axis='Count',\n",
    "    color_by='usage', \n",
    "    plot_title='Emotion Counts by Usage (Train/Test)', \n",
    "    output_path=os.path.join(image_dir, 'emotion_usage_count_bar.png'),\n",
    "    is_stacked=True,\n",
    "    styling_dict=style_dict,\n",
    "    legend_note=annotation_text,\n",
    "    auto_text=True,\n",
    "    order_categories=filtered_order    \n",
    ")\n",
    "fig.show()"
   ]
  },
  {
   "cell_type": "markdown",
   "id": "d3405673-09fb-43cb-8331-ca4be3e51785",
   "metadata": {},
   "source": [
    "## Waffle Graph\n",
    "\n",
    "This type of visual is helpful for classification proportion assessment.\n",
    "\n",
    "Data will be reduced to the specified number of points and displayed by color."
   ]
  },
  {
   "cell_type": "code",
   "execution_count": null,
   "id": "eaaf7d2c-30c5-40f7-a046-31edb40c916a",
   "metadata": {},
   "outputs": [],
   "source": [
    "waffle_path = os.path.join(image_dir, 'waffle_side_by_side.png')"
   ]
  },
  {
   "cell_type": "code",
   "execution_count": null,
   "id": "4a8e3c64-71be-4ae8-a4f6-bd3f09c5e865",
   "metadata": {},
   "outputs": [],
   "source": [
    "plot_emotion_waffle(\n",
    "        dataframe=gby,\n",
    "        count_column='Count', \n",
    "        group_column='emotion', \n",
    "        split_column='usage',\n",
    "        color_column='color',\n",
    "        rows=20, \n",
    "        columns=20,\n",
    "        output_path=waffle_path)"
   ]
  }
 ],
 "metadata": {
  "kernelspec": {
   "display_name": "Python 3 (ipykernel)",
   "language": "python",
   "name": "python3"
  },
  "language_info": {
   "codemirror_mode": {
    "name": "ipython",
    "version": 3
   },
   "file_extension": ".py",
   "mimetype": "text/x-python",
   "name": "python",
   "nbconvert_exporter": "python",
   "pygments_lexer": "ipython3",
   "version": "3.11.7"
  }
 },
 "nbformat": 4,
 "nbformat_minor": 5
}
