{
 "cells": [
  {
   "cell_type": "markdown",
   "id": "3e77f146-b900-4430-898c-f1b50a9aa0ac",
   "metadata": {},
   "source": [
    "# Exploratory Data Analysis (EDA)\n",
    "\n",
    "## Emotion Face Classifier Notebook 2\n",
    "\n",
    "Generates summary and visuals of counts of emotion by usage."
   ]
  },
  {
   "cell_type": "code",
   "execution_count": 3,
   "id": "37745572-4b0b-429b-a7fa-3cdbe83feb9f",
   "metadata": {},
   "outputs": [],
   "source": [
    "%load_ext autoreload\n",
    "%autoreload 2"
   ]
  },
  {
   "cell_type": "code",
   "execution_count": 4,
   "id": "44cba53c-cb2e-4c95-99ef-442f4f760639",
   "metadata": {},
   "outputs": [],
   "source": [
    "import os\n",
    "import pandas as pd\n",
    "import seaborn as sns\n",
    "import plotly.express as px\n",
    "import matplotlib.pyplot as plt\n",
    "\n",
    "from datascifuncs.tidbit_tools import load_json, write_json, print_json, check_directory_name"
   ]
  },
  {
   "cell_type": "code",
   "execution_count": 5,
   "id": "71acb85a-ef3a-4ff6-b822-454ebc8ca161",
   "metadata": {},
   "outputs": [
    {
     "name": "stdout",
     "output_type": "stream",
     "text": [
      "Directory set to /Users/dsl/Documents/GitHub/EmotionFaceClassifier, matches target dir string EmotionFaceClassifier.\n"
     ]
    },
    {
     "data": {
      "text/plain": [
       "True"
      ]
     },
     "execution_count": 5,
     "metadata": {},
     "output_type": "execute_result"
    }
   ],
   "source": [
    "main_dir = 'EmotionFaceClassifier'\n",
    "check_directory_name(main_dir)"
   ]
  },
  {
   "cell_type": "code",
   "execution_count": 6,
   "id": "5308118f-19ee-4deb-814c-f019d3d67811",
   "metadata": {},
   "outputs": [],
   "source": [
    "from utils.eda import (\n",
    "    plot_emotion_counts_plotly\n",
    ")"
   ]
  },
  {
   "cell_type": "code",
   "execution_count": 7,
   "id": "d728cf60-7774-4347-954e-c6e7089e1be9",
   "metadata": {},
   "outputs": [],
   "source": [
    "os.makedirs('imgs', exist_ok=True)"
   ]
  },
  {
   "cell_type": "code",
   "execution_count": 8,
   "id": "c4edfba8-4c4b-4ac3-b974-456153519d86",
   "metadata": {},
   "outputs": [
    {
     "name": "stdout",
     "output_type": "stream",
     "text": [
      "{\n",
      "    \"usage_dict\": {\n",
      "        \"Training\": \"Training\",\n",
      "        \"PublicTest\": \"Testing\",\n",
      "        \"PrivateTest\": \"Testing\"\n",
      "    },\n",
      "    \"emo_dict\": {\n",
      "        \"0\": \"Angry\",\n",
      "        \"1\": \"Disgust\",\n",
      "        \"2\": \"Fear\",\n",
      "        \"3\": \"Happy\",\n",
      "        \"4\": \"Sad\",\n",
      "        \"5\": \"Surprise\",\n",
      "        \"6\": \"Neutral\"\n",
      "    },\n",
      "    \"emo_color_dict\": {\n",
      "        \"Angry\": \"red\",\n",
      "        \"Disgust\": \"olive\",\n",
      "        \"Fear\": \"black\",\n",
      "        \"Happy\": \"gold\",\n",
      "        \"Sad\": \"blue\",\n",
      "        \"Surprise\": \"darkviolet\",\n",
      "        \"Neutral\": \"slategray\"\n",
      "    },\n",
      "    \"style_dict\": {\n",
      "        \"Angry\": {\n",
      "            \"color\": \"red\",\n",
      "            \"Training\": 1.0,\n",
      "            \"Testing\": 0.5\n",
      "        },\n",
      "        \"Disgust\": {\n",
      "            \"color\": \"olive\",\n",
      "            \"Training\": 1.0,\n",
      "            \"Testing\": 0.5\n",
      "        },\n",
      "        \"Fear\": {\n",
      "            \"color\": \"black\",\n",
      "            \"Training\": 1.0,\n",
      "            \"Testing\": 0.5\n",
      "        },\n",
      "        \"Happy\": {\n",
      "            \"color\": \"gold\",\n",
      "            \"Training\": 1.0,\n",
      "            \"Testing\": 0.5\n",
      "        },\n",
      "        \"Sad\": {\n",
      "            \"color\": \"blue\",\n",
      "            \"Training\": 1.0,\n",
      "            \"Testing\": 0.5\n",
      "        },\n",
      "        \"Surprised\": {\n",
      "            \"color\": \"darkviolet\",\n",
      "            \"Training\": 1.0,\n",
      "            \"Testing\": 0.5\n",
      "        },\n",
      "        \"Neutral\": {\n",
      "            \"color\": \"slategray\",\n",
      "            \"Training\": 1.0,\n",
      "            \"Testing\": 0.5\n",
      "        }\n",
      "    }\n",
      "}\n"
     ]
    }
   ],
   "source": [
    "# Load common dicts from json config file\n",
    "common_dicts = load_json('./configs/input_mappings.json')\n",
    "print_json(common_dicts)"
   ]
  },
  {
   "cell_type": "code",
   "execution_count": 9,
   "id": "fe895c00-6ca0-456b-be24-959e33b7c885",
   "metadata": {},
   "outputs": [
    {
     "name": "stdout",
     "output_type": "stream",
     "text": [
      "{\n",
      "    \"0\": \"Angry\",\n",
      "    \"1\": \"Disgust\",\n",
      "    \"2\": \"Fear\",\n",
      "    \"3\": \"Happy\",\n",
      "    \"4\": \"Sad\",\n",
      "    \"5\": \"Surprise\",\n",
      "    \"6\": \"Neutral\"\n",
      "}\n"
     ]
    }
   ],
   "source": [
    "# Select emotion mapping section of json\n",
    "emo_dict = common_dicts['emo_dict']\n",
    "print_json(emo_dict)"
   ]
  },
  {
   "cell_type": "code",
   "execution_count": 10,
   "id": "07068e0e-6d7f-48e3-b4aa-3cc51dd3236a",
   "metadata": {},
   "outputs": [
    {
     "name": "stdout",
     "output_type": "stream",
     "text": [
      "{\n",
      "    \"Angry\": \"red\",\n",
      "    \"Disgust\": \"olive\",\n",
      "    \"Fear\": \"black\",\n",
      "    \"Happy\": \"gold\",\n",
      "    \"Sad\": \"blue\",\n",
      "    \"Surprise\": \"darkviolet\",\n",
      "    \"Neutral\": \"slategray\"\n",
      "}\n"
     ]
    }
   ],
   "source": [
    "# Select color mappings for emotion categories\n",
    "emo_color_dict = common_dicts['emo_color_dict']\n",
    "print_json(emo_color_dict)"
   ]
  },
  {
   "cell_type": "code",
   "execution_count": 11,
   "id": "0d0728fb-92a5-416f-99c3-cb9a7248aadd",
   "metadata": {},
   "outputs": [
    {
     "name": "stdout",
     "output_type": "stream",
     "text": [
      "{\n",
      "    \"Angry\": {\n",
      "        \"color\": \"red\",\n",
      "        \"Training\": 1.0,\n",
      "        \"Testing\": 0.5\n",
      "    },\n",
      "    \"Disgust\": {\n",
      "        \"color\": \"olive\",\n",
      "        \"Training\": 1.0,\n",
      "        \"Testing\": 0.5\n",
      "    },\n",
      "    \"Fear\": {\n",
      "        \"color\": \"black\",\n",
      "        \"Training\": 1.0,\n",
      "        \"Testing\": 0.5\n",
      "    },\n",
      "    \"Happy\": {\n",
      "        \"color\": \"gold\",\n",
      "        \"Training\": 1.0,\n",
      "        \"Testing\": 0.5\n",
      "    },\n",
      "    \"Sad\": {\n",
      "        \"color\": \"blue\",\n",
      "        \"Training\": 1.0,\n",
      "        \"Testing\": 0.5\n",
      "    },\n",
      "    \"Surprised\": {\n",
      "        \"color\": \"darkviolet\",\n",
      "        \"Training\": 1.0,\n",
      "        \"Testing\": 0.5\n",
      "    },\n",
      "    \"Neutral\": {\n",
      "        \"color\": \"slategray\",\n",
      "        \"Training\": 1.0,\n",
      "        \"Testing\": 0.5\n",
      "    }\n",
      "}\n"
     ]
    }
   ],
   "source": [
    "# Style dict\n",
    "style_dict = common_dicts['style_dict']\n",
    "print_json(style_dict)"
   ]
  },
  {
   "cell_type": "code",
   "execution_count": 12,
   "id": "2c8cb1fb-5198-43e4-815e-c803c73376f3",
   "metadata": {},
   "outputs": [],
   "source": [
    "# Read in FER 2013 data\n",
    "fer2013_path = 'data/fer2013_paths.csv'\n",
    "fer2013 = pd.read_csv(fer2013_path)"
   ]
  },
  {
   "cell_type": "code",
   "execution_count": 13,
   "id": "b9094b19-2d6a-409c-b2e6-bb9e78b78902",
   "metadata": {},
   "outputs": [
    {
     "name": "stdout",
     "output_type": "stream",
     "text": [
      "Index(['emotion_id', 'pixels', 'Usage', 'emotion', 'image', 'usage',\n",
      "       'emo_count_id', 'img_path', 'color'],\n",
      "      dtype='object')\n",
      "(35887, 9)\n"
     ]
    }
   ],
   "source": [
    "# Check column names and shape\n",
    "print(fer2013.columns)\n",
    "print(fer2013.shape)"
   ]
  },
  {
   "cell_type": "code",
   "execution_count": 14,
   "id": "21b6db85-392e-49d9-a34b-af184edc23ec",
   "metadata": {},
   "outputs": [
    {
     "name": "stdout",
     "output_type": "stream",
     "text": [
      "['Angry', 'Disgust', 'Fear', 'Happy', 'Neutral', 'Sad', 'Surprise']\n"
     ]
    }
   ],
   "source": [
    "# Check emotion values\n",
    "print(sorted(fer2013['emotion'].unique()))"
   ]
  },
  {
   "cell_type": "code",
   "execution_count": 15,
   "id": "646684e7-a75a-478b-8425-f8afcb662a9e",
   "metadata": {},
   "outputs": [
    {
     "name": "stdout",
     "output_type": "stream",
     "text": [
      "     emotion     usage  size\n",
      "0      Angry   Testing   958\n",
      "1      Angry  Training  3995\n",
      "2    Disgust   Testing   111\n",
      "3    Disgust  Training   436\n",
      "4       Fear   Testing  1024\n",
      "5       Fear  Training  4097\n",
      "6      Happy   Testing  1774\n",
      "7      Happy  Training  7215\n",
      "8    Neutral   Testing  1233\n",
      "9    Neutral  Training  4965\n",
      "10       Sad   Testing  1247\n",
      "11       Sad  Training  4830\n",
      "12  Surprise   Testing   831\n",
      "13  Surprise  Training  3171\n"
     ]
    }
   ],
   "source": [
    "# Create groupby counts of each emotion\n",
    "gby = fer2013.groupby(['emotion', 'usage'], as_index=False).size()\n",
    "print(gby)"
   ]
  },
  {
   "cell_type": "code",
   "execution_count": 16,
   "id": "27f78620-dd7a-44a5-95dc-9354a5f6ff6e",
   "metadata": {},
   "outputs": [],
   "source": [
    "gby.sort_values(by=['usage'], ascending=False, inplace=True)"
   ]
  },
  {
   "cell_type": "code",
   "execution_count": 17,
   "id": "be5ddac9-43ef-49d9-ae2c-0b3de7066a22",
   "metadata": {},
   "outputs": [
    {
     "data": {
      "text/html": [
       "<div>\n",
       "<style scoped>\n",
       "    .dataframe tbody tr th:only-of-type {\n",
       "        vertical-align: middle;\n",
       "    }\n",
       "\n",
       "    .dataframe tbody tr th {\n",
       "        vertical-align: top;\n",
       "    }\n",
       "\n",
       "    .dataframe thead th {\n",
       "        text-align: right;\n",
       "    }\n",
       "</style>\n",
       "<table border=\"1\" class=\"dataframe\">\n",
       "  <thead>\n",
       "    <tr style=\"text-align: right;\">\n",
       "      <th></th>\n",
       "      <th>emotion</th>\n",
       "      <th>usage</th>\n",
       "      <th>size</th>\n",
       "    </tr>\n",
       "  </thead>\n",
       "  <tbody>\n",
       "    <tr>\n",
       "      <th>1</th>\n",
       "      <td>Angry</td>\n",
       "      <td>Training</td>\n",
       "      <td>3995</td>\n",
       "    </tr>\n",
       "    <tr>\n",
       "      <th>3</th>\n",
       "      <td>Disgust</td>\n",
       "      <td>Training</td>\n",
       "      <td>436</td>\n",
       "    </tr>\n",
       "    <tr>\n",
       "      <th>5</th>\n",
       "      <td>Fear</td>\n",
       "      <td>Training</td>\n",
       "      <td>4097</td>\n",
       "    </tr>\n",
       "    <tr>\n",
       "      <th>7</th>\n",
       "      <td>Happy</td>\n",
       "      <td>Training</td>\n",
       "      <td>7215</td>\n",
       "    </tr>\n",
       "    <tr>\n",
       "      <th>9</th>\n",
       "      <td>Neutral</td>\n",
       "      <td>Training</td>\n",
       "      <td>4965</td>\n",
       "    </tr>\n",
       "    <tr>\n",
       "      <th>11</th>\n",
       "      <td>Sad</td>\n",
       "      <td>Training</td>\n",
       "      <td>4830</td>\n",
       "    </tr>\n",
       "    <tr>\n",
       "      <th>13</th>\n",
       "      <td>Surprise</td>\n",
       "      <td>Training</td>\n",
       "      <td>3171</td>\n",
       "    </tr>\n",
       "    <tr>\n",
       "      <th>0</th>\n",
       "      <td>Angry</td>\n",
       "      <td>Testing</td>\n",
       "      <td>958</td>\n",
       "    </tr>\n",
       "    <tr>\n",
       "      <th>2</th>\n",
       "      <td>Disgust</td>\n",
       "      <td>Testing</td>\n",
       "      <td>111</td>\n",
       "    </tr>\n",
       "    <tr>\n",
       "      <th>4</th>\n",
       "      <td>Fear</td>\n",
       "      <td>Testing</td>\n",
       "      <td>1024</td>\n",
       "    </tr>\n",
       "    <tr>\n",
       "      <th>6</th>\n",
       "      <td>Happy</td>\n",
       "      <td>Testing</td>\n",
       "      <td>1774</td>\n",
       "    </tr>\n",
       "    <tr>\n",
       "      <th>8</th>\n",
       "      <td>Neutral</td>\n",
       "      <td>Testing</td>\n",
       "      <td>1233</td>\n",
       "    </tr>\n",
       "    <tr>\n",
       "      <th>10</th>\n",
       "      <td>Sad</td>\n",
       "      <td>Testing</td>\n",
       "      <td>1247</td>\n",
       "    </tr>\n",
       "    <tr>\n",
       "      <th>12</th>\n",
       "      <td>Surprise</td>\n",
       "      <td>Testing</td>\n",
       "      <td>831</td>\n",
       "    </tr>\n",
       "  </tbody>\n",
       "</table>\n",
       "</div>"
      ],
      "text/plain": [
       "     emotion     usage  size\n",
       "1      Angry  Training  3995\n",
       "3    Disgust  Training   436\n",
       "5       Fear  Training  4097\n",
       "7      Happy  Training  7215\n",
       "9    Neutral  Training  4965\n",
       "11       Sad  Training  4830\n",
       "13  Surprise  Training  3171\n",
       "0      Angry   Testing   958\n",
       "2    Disgust   Testing   111\n",
       "4       Fear   Testing  1024\n",
       "6      Happy   Testing  1774\n",
       "8    Neutral   Testing  1233\n",
       "10       Sad   Testing  1247\n",
       "12  Surprise   Testing   831"
      ]
     },
     "execution_count": 17,
     "metadata": {},
     "output_type": "execute_result"
    }
   ],
   "source": [
    "gby"
   ]
  },
  {
   "cell_type": "code",
   "execution_count": 18,
   "id": "45530018-a417-4664-a230-f5e94562dadf",
   "metadata": {},
   "outputs": [],
   "source": [
    "gby = gby.rename(columns={'size':'Count'})"
   ]
  },
  {
   "cell_type": "code",
   "execution_count": 19,
   "id": "3ea9d6dd-aa4b-4fdd-8034-b750a06cbddc",
   "metadata": {},
   "outputs": [
    {
     "data": {
      "text/plain": [
       "{'Angry': 'red',\n",
       " 'Disgust': 'olive',\n",
       " 'Fear': 'black',\n",
       " 'Happy': 'gold',\n",
       " 'Sad': 'blue',\n",
       " 'Surprise': 'darkviolet',\n",
       " 'Neutral': 'slategray'}"
      ]
     },
     "execution_count": 19,
     "metadata": {},
     "output_type": "execute_result"
    }
   ],
   "source": [
    "emo_color_dict"
   ]
  },
  {
   "cell_type": "code",
   "execution_count": 20,
   "id": "5295d847-f8bc-4fbd-8f0d-259c877ed216",
   "metadata": {},
   "outputs": [
    {
     "data": {
      "text/html": [
       "<div>\n",
       "<style scoped>\n",
       "    .dataframe tbody tr th:only-of-type {\n",
       "        vertical-align: middle;\n",
       "    }\n",
       "\n",
       "    .dataframe tbody tr th {\n",
       "        vertical-align: top;\n",
       "    }\n",
       "\n",
       "    .dataframe thead th {\n",
       "        text-align: right;\n",
       "    }\n",
       "</style>\n",
       "<table border=\"1\" class=\"dataframe\">\n",
       "  <thead>\n",
       "    <tr style=\"text-align: right;\">\n",
       "      <th></th>\n",
       "      <th>emotion</th>\n",
       "      <th>usage</th>\n",
       "      <th>Count</th>\n",
       "      <th>color</th>\n",
       "      <th>opacity</th>\n",
       "    </tr>\n",
       "  </thead>\n",
       "  <tbody>\n",
       "    <tr>\n",
       "      <th>1</th>\n",
       "      <td>Angry</td>\n",
       "      <td>Training</td>\n",
       "      <td>3995</td>\n",
       "      <td>red</td>\n",
       "      <td>1.0</td>\n",
       "    </tr>\n",
       "    <tr>\n",
       "      <th>3</th>\n",
       "      <td>Disgust</td>\n",
       "      <td>Training</td>\n",
       "      <td>436</td>\n",
       "      <td>olive</td>\n",
       "      <td>1.0</td>\n",
       "    </tr>\n",
       "    <tr>\n",
       "      <th>5</th>\n",
       "      <td>Fear</td>\n",
       "      <td>Training</td>\n",
       "      <td>4097</td>\n",
       "      <td>black</td>\n",
       "      <td>1.0</td>\n",
       "    </tr>\n",
       "    <tr>\n",
       "      <th>7</th>\n",
       "      <td>Happy</td>\n",
       "      <td>Training</td>\n",
       "      <td>7215</td>\n",
       "      <td>gold</td>\n",
       "      <td>1.0</td>\n",
       "    </tr>\n",
       "    <tr>\n",
       "      <th>9</th>\n",
       "      <td>Neutral</td>\n",
       "      <td>Training</td>\n",
       "      <td>4965</td>\n",
       "      <td>slategray</td>\n",
       "      <td>1.0</td>\n",
       "    </tr>\n",
       "    <tr>\n",
       "      <th>11</th>\n",
       "      <td>Sad</td>\n",
       "      <td>Training</td>\n",
       "      <td>4830</td>\n",
       "      <td>blue</td>\n",
       "      <td>1.0</td>\n",
       "    </tr>\n",
       "    <tr>\n",
       "      <th>13</th>\n",
       "      <td>Surprise</td>\n",
       "      <td>Training</td>\n",
       "      <td>3171</td>\n",
       "      <td>darkviolet</td>\n",
       "      <td>1.0</td>\n",
       "    </tr>\n",
       "    <tr>\n",
       "      <th>0</th>\n",
       "      <td>Angry</td>\n",
       "      <td>Testing</td>\n",
       "      <td>958</td>\n",
       "      <td>red</td>\n",
       "      <td>0.5</td>\n",
       "    </tr>\n",
       "    <tr>\n",
       "      <th>2</th>\n",
       "      <td>Disgust</td>\n",
       "      <td>Testing</td>\n",
       "      <td>111</td>\n",
       "      <td>olive</td>\n",
       "      <td>0.5</td>\n",
       "    </tr>\n",
       "    <tr>\n",
       "      <th>4</th>\n",
       "      <td>Fear</td>\n",
       "      <td>Testing</td>\n",
       "      <td>1024</td>\n",
       "      <td>black</td>\n",
       "      <td>0.5</td>\n",
       "    </tr>\n",
       "    <tr>\n",
       "      <th>6</th>\n",
       "      <td>Happy</td>\n",
       "      <td>Testing</td>\n",
       "      <td>1774</td>\n",
       "      <td>gold</td>\n",
       "      <td>0.5</td>\n",
       "    </tr>\n",
       "    <tr>\n",
       "      <th>8</th>\n",
       "      <td>Neutral</td>\n",
       "      <td>Testing</td>\n",
       "      <td>1233</td>\n",
       "      <td>slategray</td>\n",
       "      <td>0.5</td>\n",
       "    </tr>\n",
       "    <tr>\n",
       "      <th>10</th>\n",
       "      <td>Sad</td>\n",
       "      <td>Testing</td>\n",
       "      <td>1247</td>\n",
       "      <td>blue</td>\n",
       "      <td>0.5</td>\n",
       "    </tr>\n",
       "    <tr>\n",
       "      <th>12</th>\n",
       "      <td>Surprise</td>\n",
       "      <td>Testing</td>\n",
       "      <td>831</td>\n",
       "      <td>darkviolet</td>\n",
       "      <td>0.5</td>\n",
       "    </tr>\n",
       "  </tbody>\n",
       "</table>\n",
       "</div>"
      ],
      "text/plain": [
       "     emotion     usage  Count       color  opacity\n",
       "1      Angry  Training   3995         red      1.0\n",
       "3    Disgust  Training    436       olive      1.0\n",
       "5       Fear  Training   4097       black      1.0\n",
       "7      Happy  Training   7215        gold      1.0\n",
       "9    Neutral  Training   4965   slategray      1.0\n",
       "11       Sad  Training   4830        blue      1.0\n",
       "13  Surprise  Training   3171  darkviolet      1.0\n",
       "0      Angry   Testing    958         red      0.5\n",
       "2    Disgust   Testing    111       olive      0.5\n",
       "4       Fear   Testing   1024       black      0.5\n",
       "6      Happy   Testing   1774        gold      0.5\n",
       "8    Neutral   Testing   1233   slategray      0.5\n",
       "10       Sad   Testing   1247        blue      0.5\n",
       "12  Surprise   Testing    831  darkviolet      0.5"
      ]
     },
     "execution_count": 20,
     "metadata": {},
     "output_type": "execute_result"
    }
   ],
   "source": [
    "gby['color'] = gby['emotion'].map(emo_color_dict)\n",
    "\n",
    "gby['opacity'] = gby['usage'].apply(lambda x: 1.0 if x == 'Training' else 0.5)\n",
    "gby"
   ]
  },
  {
   "cell_type": "markdown",
   "id": "44e529d3-aa77-4386-bebf-08f2c73055dd",
   "metadata": {},
   "source": [
    "# Data Summary and Count Visualizations"
   ]
  },
  {
   "cell_type": "code",
   "execution_count": 22,
   "id": "f9dde28b-8886-45c9-93e4-25f6af7545b4",
   "metadata": {},
   "outputs": [],
   "source": [
    "import plotly.express as px"
   ]
  },
  {
   "cell_type": "code",
   "execution_count": 77,
   "id": "ae54fe70-d826-4a57-8177-4aed66562a45",
   "metadata": {},
   "outputs": [
    {
     "data": {
      "text/plain": [
       "{'Angry': 'red',\n",
       " 'Disgust': 'olive',\n",
       " 'Fear': 'black',\n",
       " 'Happy': 'gold',\n",
       " 'Sad': 'blue',\n",
       " 'Surprise': 'darkviolet',\n",
       " 'Neutral': 'slategray'}"
      ]
     },
     "execution_count": 77,
     "metadata": {},
     "output_type": "execute_result"
    }
   ],
   "source": [
    "emo_color_dict"
   ]
  },
  {
   "cell_type": "code",
   "execution_count": 81,
   "id": "613189f8-610d-4246-91af-719a4a7df2c7",
   "metadata": {},
   "outputs": [
    {
     "data": {
      "application/vnd.plotly.v1+json": {
       "config": {
        "plotlyServerURL": "https://plot.ly"
       },
       "data": [
        {
         "alignmentgroup": "True",
         "hovertemplate": "usage=Training<br>emotion=%{x}<br>Count=%{y}<extra></extra>",
         "legendgroup": "Training",
         "marker": {
          "color": [
           "red",
           "olive",
           "black",
           "gold",
           "slategray",
           "blue",
           "darkviolet"
          ],
          "opacity": 1,
          "pattern": {
           "shape": ""
          }
         },
         "name": "Training",
         "offsetgroup": "Training",
         "orientation": "v",
         "showlegend": true,
         "textposition": "auto",
         "type": "bar",
         "x": [
          "Angry",
          "Disgust",
          "Fear",
          "Happy",
          "Neutral",
          "Sad",
          "Surprise"
         ],
         "xaxis": "x",
         "y": [
          3995,
          436,
          4097,
          7215,
          4965,
          4830,
          3171
         ],
         "yaxis": "y"
        },
        {
         "alignmentgroup": "True",
         "hovertemplate": "usage=Testing<br>emotion=%{x}<br>Count=%{y}<extra></extra>",
         "legendgroup": "Testing",
         "marker": {
          "color": [
           "red",
           "olive",
           "black",
           "gold",
           "slategray",
           "blue",
           "darkviolet"
          ],
          "opacity": 0.5,
          "pattern": {
           "shape": ""
          }
         },
         "name": "Testing",
         "offsetgroup": "Testing",
         "orientation": "v",
         "showlegend": true,
         "textposition": "auto",
         "type": "bar",
         "x": [
          "Angry",
          "Disgust",
          "Fear",
          "Happy",
          "Neutral",
          "Sad",
          "Surprise"
         ],
         "xaxis": "x",
         "y": [
          958,
          111,
          1024,
          1774,
          1233,
          1247,
          831
         ],
         "yaxis": "y"
        }
       ],
       "layout": {
        "autosize": true,
        "barmode": "stack",
        "legend": {
         "title": {
          "text": "usage"
         },
         "tracegroupgap": 0
        },
        "template": {
         "data": {
          "bar": [
           {
            "error_x": {
             "color": "#2a3f5f"
            },
            "error_y": {
             "color": "#2a3f5f"
            },
            "marker": {
             "line": {
              "color": "#E5ECF6",
              "width": 0.5
             },
             "pattern": {
              "fillmode": "overlay",
              "size": 10,
              "solidity": 0.2
             }
            },
            "type": "bar"
           }
          ],
          "barpolar": [
           {
            "marker": {
             "line": {
              "color": "#E5ECF6",
              "width": 0.5
             },
             "pattern": {
              "fillmode": "overlay",
              "size": 10,
              "solidity": 0.2
             }
            },
            "type": "barpolar"
           }
          ],
          "carpet": [
           {
            "aaxis": {
             "endlinecolor": "#2a3f5f",
             "gridcolor": "white",
             "linecolor": "white",
             "minorgridcolor": "white",
             "startlinecolor": "#2a3f5f"
            },
            "baxis": {
             "endlinecolor": "#2a3f5f",
             "gridcolor": "white",
             "linecolor": "white",
             "minorgridcolor": "white",
             "startlinecolor": "#2a3f5f"
            },
            "type": "carpet"
           }
          ],
          "choropleth": [
           {
            "colorbar": {
             "outlinewidth": 0,
             "ticks": ""
            },
            "type": "choropleth"
           }
          ],
          "contour": [
           {
            "colorbar": {
             "outlinewidth": 0,
             "ticks": ""
            },
            "colorscale": [
             [
              0,
              "#0d0887"
             ],
             [
              0.1111111111111111,
              "#46039f"
             ],
             [
              0.2222222222222222,
              "#7201a8"
             ],
             [
              0.3333333333333333,
              "#9c179e"
             ],
             [
              0.4444444444444444,
              "#bd3786"
             ],
             [
              0.5555555555555556,
              "#d8576b"
             ],
             [
              0.6666666666666666,
              "#ed7953"
             ],
             [
              0.7777777777777778,
              "#fb9f3a"
             ],
             [
              0.8888888888888888,
              "#fdca26"
             ],
             [
              1,
              "#f0f921"
             ]
            ],
            "type": "contour"
           }
          ],
          "contourcarpet": [
           {
            "colorbar": {
             "outlinewidth": 0,
             "ticks": ""
            },
            "type": "contourcarpet"
           }
          ],
          "heatmap": [
           {
            "colorbar": {
             "outlinewidth": 0,
             "ticks": ""
            },
            "colorscale": [
             [
              0,
              "#0d0887"
             ],
             [
              0.1111111111111111,
              "#46039f"
             ],
             [
              0.2222222222222222,
              "#7201a8"
             ],
             [
              0.3333333333333333,
              "#9c179e"
             ],
             [
              0.4444444444444444,
              "#bd3786"
             ],
             [
              0.5555555555555556,
              "#d8576b"
             ],
             [
              0.6666666666666666,
              "#ed7953"
             ],
             [
              0.7777777777777778,
              "#fb9f3a"
             ],
             [
              0.8888888888888888,
              "#fdca26"
             ],
             [
              1,
              "#f0f921"
             ]
            ],
            "type": "heatmap"
           }
          ],
          "heatmapgl": [
           {
            "colorbar": {
             "outlinewidth": 0,
             "ticks": ""
            },
            "colorscale": [
             [
              0,
              "#0d0887"
             ],
             [
              0.1111111111111111,
              "#46039f"
             ],
             [
              0.2222222222222222,
              "#7201a8"
             ],
             [
              0.3333333333333333,
              "#9c179e"
             ],
             [
              0.4444444444444444,
              "#bd3786"
             ],
             [
              0.5555555555555556,
              "#d8576b"
             ],
             [
              0.6666666666666666,
              "#ed7953"
             ],
             [
              0.7777777777777778,
              "#fb9f3a"
             ],
             [
              0.8888888888888888,
              "#fdca26"
             ],
             [
              1,
              "#f0f921"
             ]
            ],
            "type": "heatmapgl"
           }
          ],
          "histogram": [
           {
            "marker": {
             "pattern": {
              "fillmode": "overlay",
              "size": 10,
              "solidity": 0.2
             }
            },
            "type": "histogram"
           }
          ],
          "histogram2d": [
           {
            "colorbar": {
             "outlinewidth": 0,
             "ticks": ""
            },
            "colorscale": [
             [
              0,
              "#0d0887"
             ],
             [
              0.1111111111111111,
              "#46039f"
             ],
             [
              0.2222222222222222,
              "#7201a8"
             ],
             [
              0.3333333333333333,
              "#9c179e"
             ],
             [
              0.4444444444444444,
              "#bd3786"
             ],
             [
              0.5555555555555556,
              "#d8576b"
             ],
             [
              0.6666666666666666,
              "#ed7953"
             ],
             [
              0.7777777777777778,
              "#fb9f3a"
             ],
             [
              0.8888888888888888,
              "#fdca26"
             ],
             [
              1,
              "#f0f921"
             ]
            ],
            "type": "histogram2d"
           }
          ],
          "histogram2dcontour": [
           {
            "colorbar": {
             "outlinewidth": 0,
             "ticks": ""
            },
            "colorscale": [
             [
              0,
              "#0d0887"
             ],
             [
              0.1111111111111111,
              "#46039f"
             ],
             [
              0.2222222222222222,
              "#7201a8"
             ],
             [
              0.3333333333333333,
              "#9c179e"
             ],
             [
              0.4444444444444444,
              "#bd3786"
             ],
             [
              0.5555555555555556,
              "#d8576b"
             ],
             [
              0.6666666666666666,
              "#ed7953"
             ],
             [
              0.7777777777777778,
              "#fb9f3a"
             ],
             [
              0.8888888888888888,
              "#fdca26"
             ],
             [
              1,
              "#f0f921"
             ]
            ],
            "type": "histogram2dcontour"
           }
          ],
          "mesh3d": [
           {
            "colorbar": {
             "outlinewidth": 0,
             "ticks": ""
            },
            "type": "mesh3d"
           }
          ],
          "parcoords": [
           {
            "line": {
             "colorbar": {
              "outlinewidth": 0,
              "ticks": ""
             }
            },
            "type": "parcoords"
           }
          ],
          "pie": [
           {
            "automargin": true,
            "type": "pie"
           }
          ],
          "scatter": [
           {
            "fillpattern": {
             "fillmode": "overlay",
             "size": 10,
             "solidity": 0.2
            },
            "type": "scatter"
           }
          ],
          "scatter3d": [
           {
            "line": {
             "colorbar": {
              "outlinewidth": 0,
              "ticks": ""
             }
            },
            "marker": {
             "colorbar": {
              "outlinewidth": 0,
              "ticks": ""
             }
            },
            "type": "scatter3d"
           }
          ],
          "scattercarpet": [
           {
            "marker": {
             "colorbar": {
              "outlinewidth": 0,
              "ticks": ""
             }
            },
            "type": "scattercarpet"
           }
          ],
          "scattergeo": [
           {
            "marker": {
             "colorbar": {
              "outlinewidth": 0,
              "ticks": ""
             }
            },
            "type": "scattergeo"
           }
          ],
          "scattergl": [
           {
            "marker": {
             "colorbar": {
              "outlinewidth": 0,
              "ticks": ""
             }
            },
            "type": "scattergl"
           }
          ],
          "scattermapbox": [
           {
            "marker": {
             "colorbar": {
              "outlinewidth": 0,
              "ticks": ""
             }
            },
            "type": "scattermapbox"
           }
          ],
          "scatterpolar": [
           {
            "marker": {
             "colorbar": {
              "outlinewidth": 0,
              "ticks": ""
             }
            },
            "type": "scatterpolar"
           }
          ],
          "scatterpolargl": [
           {
            "marker": {
             "colorbar": {
              "outlinewidth": 0,
              "ticks": ""
             }
            },
            "type": "scatterpolargl"
           }
          ],
          "scatterternary": [
           {
            "marker": {
             "colorbar": {
              "outlinewidth": 0,
              "ticks": ""
             }
            },
            "type": "scatterternary"
           }
          ],
          "surface": [
           {
            "colorbar": {
             "outlinewidth": 0,
             "ticks": ""
            },
            "colorscale": [
             [
              0,
              "#0d0887"
             ],
             [
              0.1111111111111111,
              "#46039f"
             ],
             [
              0.2222222222222222,
              "#7201a8"
             ],
             [
              0.3333333333333333,
              "#9c179e"
             ],
             [
              0.4444444444444444,
              "#bd3786"
             ],
             [
              0.5555555555555556,
              "#d8576b"
             ],
             [
              0.6666666666666666,
              "#ed7953"
             ],
             [
              0.7777777777777778,
              "#fb9f3a"
             ],
             [
              0.8888888888888888,
              "#fdca26"
             ],
             [
              1,
              "#f0f921"
             ]
            ],
            "type": "surface"
           }
          ],
          "table": [
           {
            "cells": {
             "fill": {
              "color": "#EBF0F8"
             },
             "line": {
              "color": "white"
             }
            },
            "header": {
             "fill": {
              "color": "#C8D4E3"
             },
             "line": {
              "color": "white"
             }
            },
            "type": "table"
           }
          ]
         },
         "layout": {
          "annotationdefaults": {
           "arrowcolor": "#2a3f5f",
           "arrowhead": 0,
           "arrowwidth": 1
          },
          "autotypenumbers": "strict",
          "coloraxis": {
           "colorbar": {
            "outlinewidth": 0,
            "ticks": ""
           }
          },
          "colorscale": {
           "diverging": [
            [
             0,
             "#8e0152"
            ],
            [
             0.1,
             "#c51b7d"
            ],
            [
             0.2,
             "#de77ae"
            ],
            [
             0.3,
             "#f1b6da"
            ],
            [
             0.4,
             "#fde0ef"
            ],
            [
             0.5,
             "#f7f7f7"
            ],
            [
             0.6,
             "#e6f5d0"
            ],
            [
             0.7,
             "#b8e186"
            ],
            [
             0.8,
             "#7fbc41"
            ],
            [
             0.9,
             "#4d9221"
            ],
            [
             1,
             "#276419"
            ]
           ],
           "sequential": [
            [
             0,
             "#0d0887"
            ],
            [
             0.1111111111111111,
             "#46039f"
            ],
            [
             0.2222222222222222,
             "#7201a8"
            ],
            [
             0.3333333333333333,
             "#9c179e"
            ],
            [
             0.4444444444444444,
             "#bd3786"
            ],
            [
             0.5555555555555556,
             "#d8576b"
            ],
            [
             0.6666666666666666,
             "#ed7953"
            ],
            [
             0.7777777777777778,
             "#fb9f3a"
            ],
            [
             0.8888888888888888,
             "#fdca26"
            ],
            [
             1,
             "#f0f921"
            ]
           ],
           "sequentialminus": [
            [
             0,
             "#0d0887"
            ],
            [
             0.1111111111111111,
             "#46039f"
            ],
            [
             0.2222222222222222,
             "#7201a8"
            ],
            [
             0.3333333333333333,
             "#9c179e"
            ],
            [
             0.4444444444444444,
             "#bd3786"
            ],
            [
             0.5555555555555556,
             "#d8576b"
            ],
            [
             0.6666666666666666,
             "#ed7953"
            ],
            [
             0.7777777777777778,
             "#fb9f3a"
            ],
            [
             0.8888888888888888,
             "#fdca26"
            ],
            [
             1,
             "#f0f921"
            ]
           ]
          },
          "colorway": [
           "#636efa",
           "#EF553B",
           "#00cc96",
           "#ab63fa",
           "#FFA15A",
           "#19d3f3",
           "#FF6692",
           "#B6E880",
           "#FF97FF",
           "#FECB52"
          ],
          "font": {
           "color": "#2a3f5f"
          },
          "geo": {
           "bgcolor": "white",
           "lakecolor": "white",
           "landcolor": "#E5ECF6",
           "showlakes": true,
           "showland": true,
           "subunitcolor": "white"
          },
          "hoverlabel": {
           "align": "left"
          },
          "hovermode": "closest",
          "mapbox": {
           "style": "light"
          },
          "paper_bgcolor": "white",
          "plot_bgcolor": "#E5ECF6",
          "polar": {
           "angularaxis": {
            "gridcolor": "white",
            "linecolor": "white",
            "ticks": ""
           },
           "bgcolor": "#E5ECF6",
           "radialaxis": {
            "gridcolor": "white",
            "linecolor": "white",
            "ticks": ""
           }
          },
          "scene": {
           "xaxis": {
            "backgroundcolor": "#E5ECF6",
            "gridcolor": "white",
            "gridwidth": 2,
            "linecolor": "white",
            "showbackground": true,
            "ticks": "",
            "zerolinecolor": "white"
           },
           "yaxis": {
            "backgroundcolor": "#E5ECF6",
            "gridcolor": "white",
            "gridwidth": 2,
            "linecolor": "white",
            "showbackground": true,
            "ticks": "",
            "zerolinecolor": "white"
           },
           "zaxis": {
            "backgroundcolor": "#E5ECF6",
            "gridcolor": "white",
            "gridwidth": 2,
            "linecolor": "white",
            "showbackground": true,
            "ticks": "",
            "zerolinecolor": "white"
           }
          },
          "shapedefaults": {
           "line": {
            "color": "#2a3f5f"
           }
          },
          "ternary": {
           "aaxis": {
            "gridcolor": "white",
            "linecolor": "white",
            "ticks": ""
           },
           "baxis": {
            "gridcolor": "white",
            "linecolor": "white",
            "ticks": ""
           },
           "bgcolor": "#E5ECF6",
           "caxis": {
            "gridcolor": "white",
            "linecolor": "white",
            "ticks": ""
           }
          },
          "title": {
           "x": 0.05
          },
          "xaxis": {
           "automargin": true,
           "gridcolor": "white",
           "linecolor": "white",
           "ticks": "",
           "title": {
            "standoff": 15
           },
           "zerolinecolor": "white",
           "zerolinewidth": 2
          },
          "yaxis": {
           "automargin": true,
           "gridcolor": "white",
           "linecolor": "white",
           "ticks": "",
           "title": {
            "standoff": 15
           },
           "zerolinecolor": "white",
           "zerolinewidth": 2
          }
         }
        },
        "title": {
         "text": "Emotion Counts by Usage"
        },
        "xaxis": {
         "anchor": "y",
         "autorange": true,
         "domain": [
          0,
          1
         ],
         "range": [
          -0.5,
          6.5
         ],
         "title": {
          "text": "emotion"
         },
         "type": "category"
        },
        "yaxis": {
         "anchor": "x",
         "autorange": true,
         "domain": [
          0,
          1
         ],
         "range": [
          0,
          9462.105263157895
         ],
         "title": {
          "text": "Count"
         },
         "type": "linear"
        }
       }
      },
      "image/png": "[encoded data removed]",
      "text/html": [
       "<div>                            <div id=\"41847ee1-bb22-417e-b5ee-bd3f47670739\" class=\"plotly-graph-div\" style=\"height:525px; width:100%;\"></div>            <script type=\"text/javascript\">                require([\"plotly\"], function(Plotly) {                    window.PLOTLYENV=window.PLOTLYENV || {};                                    if (document.getElementById(\"41847ee1-bb22-417e-b5ee-bd3f47670739\")) {                    Plotly.newPlot(                        \"41847ee1-bb22-417e-b5ee-bd3f47670739\",                        [{\"alignmentgroup\":\"True\",\"hovertemplate\":\"usage=Training<br>emotion=%{x}<br>Count=%{y}<extra></extra>\",\"legendgroup\":\"Training\",\"marker\":{\"color\":[\"red\",\"olive\",\"black\",\"gold\",\"slategray\",\"blue\",\"darkviolet\"],\"pattern\":{\"shape\":\"\"},\"opacity\":1.0},\"name\":\"Training\",\"offsetgroup\":\"Training\",\"orientation\":\"v\",\"showlegend\":true,\"textposition\":\"auto\",\"x\":[\"Angry\",\"Disgust\",\"Fear\",\"Happy\",\"Neutral\",\"Sad\",\"Surprise\"],\"xaxis\":\"x\",\"y\":[3995,436,4097,7215,4965,4830,3171],\"yaxis\":\"y\",\"type\":\"bar\"},{\"alignmentgroup\":\"True\",\"hovertemplate\":\"usage=Testing<br>emotion=%{x}<br>Count=%{y}<extra></extra>\",\"legendgroup\":\"Testing\",\"marker\":{\"color\":[\"red\",\"olive\",\"black\",\"gold\",\"slategray\",\"blue\",\"darkviolet\"],\"pattern\":{\"shape\":\"\"},\"opacity\":0.5},\"name\":\"Testing\",\"offsetgroup\":\"Testing\",\"orientation\":\"v\",\"showlegend\":true,\"textposition\":\"auto\",\"x\":[\"Angry\",\"Disgust\",\"Fear\",\"Happy\",\"Neutral\",\"Sad\",\"Surprise\"],\"xaxis\":\"x\",\"y\":[958,111,1024,1774,1233,1247,831],\"yaxis\":\"y\",\"type\":\"bar\"}],                        {\"template\":{\"data\":{\"histogram2dcontour\":[{\"type\":\"histogram2dcontour\",\"colorbar\":{\"outlinewidth\":0,\"ticks\":\"\"},\"colorscale\":[[0.0,\"#0d0887\"],[0.1111111111111111,\"#46039f\"],[0.2222222222222222,\"#7201a8\"],[0.3333333333333333,\"#9c179e\"],[0.4444444444444444,\"#bd3786\"],[0.5555555555555556,\"#d8576b\"],[0.6666666666666666,\"#ed7953\"],[0.7777777777777778,\"#fb9f3a\"],[0.8888888888888888,\"#fdca26\"],[1.0,\"#f0f921\"]]}],\"choropleth\":[{\"type\":\"choropleth\",\"colorbar\":{\"outlinewidth\":0,\"ticks\":\"\"}}],\"histogram2d\":[{\"type\":\"histogram2d\",\"colorbar\":{\"outlinewidth\":0,\"ticks\":\"\"},\"colorscale\":[[0.0,\"#0d0887\"],[0.1111111111111111,\"#46039f\"],[0.2222222222222222,\"#7201a8\"],[0.3333333333333333,\"#9c179e\"],[0.4444444444444444,\"#bd3786\"],[0.5555555555555556,\"#d8576b\"],[0.6666666666666666,\"#ed7953\"],[0.7777777777777778,\"#fb9f3a\"],[0.8888888888888888,\"#fdca26\"],[1.0,\"#f0f921\"]]}],\"heatmap\":[{\"type\":\"heatmap\",\"colorbar\":{\"outlinewidth\":0,\"ticks\":\"\"},\"colorscale\":[[0.0,\"#0d0887\"],[0.1111111111111111,\"#46039f\"],[0.2222222222222222,\"#7201a8\"],[0.3333333333333333,\"#9c179e\"],[0.4444444444444444,\"#bd3786\"],[0.5555555555555556,\"#d8576b\"],[0.6666666666666666,\"#ed7953\"],[0.7777777777777778,\"#fb9f3a\"],[0.8888888888888888,\"#fdca26\"],[1.0,\"#f0f921\"]]}],\"heatmapgl\":[{\"type\":\"heatmapgl\",\"colorbar\":{\"outlinewidth\":0,\"ticks\":\"\"},\"colorscale\":[[0.0,\"#0d0887\"],[0.1111111111111111,\"#46039f\"],[0.2222222222222222,\"#7201a8\"],[0.3333333333333333,\"#9c179e\"],[0.4444444444444444,\"#bd3786\"],[0.5555555555555556,\"#d8576b\"],[0.6666666666666666,\"#ed7953\"],[0.7777777777777778,\"#fb9f3a\"],[0.8888888888888888,\"#fdca26\"],[1.0,\"#f0f921\"]]}],\"contourcarpet\":[{\"type\":\"contourcarpet\",\"colorbar\":{\"outlinewidth\":0,\"ticks\":\"\"}}],\"contour\":[{\"type\":\"contour\",\"colorbar\":{\"outlinewidth\":0,\"ticks\":\"\"},\"colorscale\":[[0.0,\"#0d0887\"],[0.1111111111111111,\"#46039f\"],[0.2222222222222222,\"#7201a8\"],[0.3333333333333333,\"#9c179e\"],[0.4444444444444444,\"#bd3786\"],[0.5555555555555556,\"#d8576b\"],[0.6666666666666666,\"#ed7953\"],[0.7777777777777778,\"#fb9f3a\"],[0.8888888888888888,\"#fdca26\"],[1.0,\"#f0f921\"]]}],\"surface\":[{\"type\":\"surface\",\"colorbar\":{\"outlinewidth\":0,\"ticks\":\"\"},\"colorscale\":[[0.0,\"#0d0887\"],[0.1111111111111111,\"#46039f\"],[0.2222222222222222,\"#7201a8\"],[0.3333333333333333,\"#9c179e\"],[0.4444444444444444,\"#bd3786\"],[0.5555555555555556,\"#d8576b\"],[0.6666666666666666,\"#ed7953\"],[0.7777777777777778,\"#fb9f3a\"],[0.8888888888888888,\"#fdca26\"],[1.0,\"#f0f921\"]]}],\"mesh3d\":[{\"type\":\"mesh3d\",\"colorbar\":{\"outlinewidth\":0,\"ticks\":\"\"}}],\"scatter\":[{\"fillpattern\":{\"fillmode\":\"overlay\",\"size\":10,\"solidity\":0.2},\"type\":\"scatter\"}],\"parcoords\":[{\"type\":\"parcoords\",\"line\":{\"colorbar\":{\"outlinewidth\":0,\"ticks\":\"\"}}}],\"scatterpolargl\":[{\"type\":\"scatterpolargl\",\"marker\":{\"colorbar\":{\"outlinewidth\":0,\"ticks\":\"\"}}}],\"bar\":[{\"error_x\":{\"color\":\"#2a3f5f\"},\"error_y\":{\"color\":\"#2a3f5f\"},\"marker\":{\"line\":{\"color\":\"#E5ECF6\",\"width\":0.5},\"pattern\":{\"fillmode\":\"overlay\",\"size\":10,\"solidity\":0.2}},\"type\":\"bar\"}],\"scattergeo\":[{\"type\":\"scattergeo\",\"marker\":{\"colorbar\":{\"outlinewidth\":0,\"ticks\":\"\"}}}],\"scatterpolar\":[{\"type\":\"scatterpolar\",\"marker\":{\"colorbar\":{\"outlinewidth\":0,\"ticks\":\"\"}}}],\"histogram\":[{\"marker\":{\"pattern\":{\"fillmode\":\"overlay\",\"size\":10,\"solidity\":0.2}},\"type\":\"histogram\"}],\"scattergl\":[{\"type\":\"scattergl\",\"marker\":{\"colorbar\":{\"outlinewidth\":0,\"ticks\":\"\"}}}],\"scatter3d\":[{\"type\":\"scatter3d\",\"line\":{\"colorbar\":{\"outlinewidth\":0,\"ticks\":\"\"}},\"marker\":{\"colorbar\":{\"outlinewidth\":0,\"ticks\":\"\"}}}],\"scattermapbox\":[{\"type\":\"scattermapbox\",\"marker\":{\"colorbar\":{\"outlinewidth\":0,\"ticks\":\"\"}}}],\"scatterternary\":[{\"type\":\"scatterternary\",\"marker\":{\"colorbar\":{\"outlinewidth\":0,\"ticks\":\"\"}}}],\"scattercarpet\":[{\"type\":\"scattercarpet\",\"marker\":{\"colorbar\":{\"outlinewidth\":0,\"ticks\":\"\"}}}],\"carpet\":[{\"aaxis\":{\"endlinecolor\":\"#2a3f5f\",\"gridcolor\":\"white\",\"linecolor\":\"white\",\"minorgridcolor\":\"white\",\"startlinecolor\":\"#2a3f5f\"},\"baxis\":{\"endlinecolor\":\"#2a3f5f\",\"gridcolor\":\"white\",\"linecolor\":\"white\",\"minorgridcolor\":\"white\",\"startlinecolor\":\"#2a3f5f\"},\"type\":\"carpet\"}],\"table\":[{\"cells\":{\"fill\":{\"color\":\"#EBF0F8\"},\"line\":{\"color\":\"white\"}},\"header\":{\"fill\":{\"color\":\"#C8D4E3\"},\"line\":{\"color\":\"white\"}},\"type\":\"table\"}],\"barpolar\":[{\"marker\":{\"line\":{\"color\":\"#E5ECF6\",\"width\":0.5},\"pattern\":{\"fillmode\":\"overlay\",\"size\":10,\"solidity\":0.2}},\"type\":\"barpolar\"}],\"pie\":[{\"automargin\":true,\"type\":\"pie\"}]},\"layout\":{\"autotypenumbers\":\"strict\",\"colorway\":[\"#636efa\",\"#EF553B\",\"#00cc96\",\"#ab63fa\",\"#FFA15A\",\"#19d3f3\",\"#FF6692\",\"#B6E880\",\"#FF97FF\",\"#FECB52\"],\"font\":{\"color\":\"#2a3f5f\"},\"hovermode\":\"closest\",\"hoverlabel\":{\"align\":\"left\"},\"paper_bgcolor\":\"white\",\"plot_bgcolor\":\"#E5ECF6\",\"polar\":{\"bgcolor\":\"#E5ECF6\",\"angularaxis\":{\"gridcolor\":\"white\",\"linecolor\":\"white\",\"ticks\":\"\"},\"radialaxis\":{\"gridcolor\":\"white\",\"linecolor\":\"white\",\"ticks\":\"\"}},\"ternary\":{\"bgcolor\":\"#E5ECF6\",\"aaxis\":{\"gridcolor\":\"white\",\"linecolor\":\"white\",\"ticks\":\"\"},\"baxis\":{\"gridcolor\":\"white\",\"linecolor\":\"white\",\"ticks\":\"\"},\"caxis\":{\"gridcolor\":\"white\",\"linecolor\":\"white\",\"ticks\":\"\"}},\"coloraxis\":{\"colorbar\":{\"outlinewidth\":0,\"ticks\":\"\"}},\"colorscale\":{\"sequential\":[[0.0,\"#0d0887\"],[0.1111111111111111,\"#46039f\"],[0.2222222222222222,\"#7201a8\"],[0.3333333333333333,\"#9c179e\"],[0.4444444444444444,\"#bd3786\"],[0.5555555555555556,\"#d8576b\"],[0.6666666666666666,\"#ed7953\"],[0.7777777777777778,\"#fb9f3a\"],[0.8888888888888888,\"#fdca26\"],[1.0,\"#f0f921\"]],\"sequentialminus\":[[0.0,\"#0d0887\"],[0.1111111111111111,\"#46039f\"],[0.2222222222222222,\"#7201a8\"],[0.3333333333333333,\"#9c179e\"],[0.4444444444444444,\"#bd3786\"],[0.5555555555555556,\"#d8576b\"],[0.6666666666666666,\"#ed7953\"],[0.7777777777777778,\"#fb9f3a\"],[0.8888888888888888,\"#fdca26\"],[1.0,\"#f0f921\"]],\"diverging\":[[0,\"#8e0152\"],[0.1,\"#c51b7d\"],[0.2,\"#de77ae\"],[0.3,\"#f1b6da\"],[0.4,\"#fde0ef\"],[0.5,\"#f7f7f7\"],[0.6,\"#e6f5d0\"],[0.7,\"#b8e186\"],[0.8,\"#7fbc41\"],[0.9,\"#4d9221\"],[1,\"#276419\"]]},\"xaxis\":{\"gridcolor\":\"white\",\"linecolor\":\"white\",\"ticks\":\"\",\"title\":{\"standoff\":15},\"zerolinecolor\":\"white\",\"automargin\":true,\"zerolinewidth\":2},\"yaxis\":{\"gridcolor\":\"white\",\"linecolor\":\"white\",\"ticks\":\"\",\"title\":{\"standoff\":15},\"zerolinecolor\":\"white\",\"automargin\":true,\"zerolinewidth\":2},\"scene\":{\"xaxis\":{\"backgroundcolor\":\"#E5ECF6\",\"gridcolor\":\"white\",\"linecolor\":\"white\",\"showbackground\":true,\"ticks\":\"\",\"zerolinecolor\":\"white\",\"gridwidth\":2},\"yaxis\":{\"backgroundcolor\":\"#E5ECF6\",\"gridcolor\":\"white\",\"linecolor\":\"white\",\"showbackground\":true,\"ticks\":\"\",\"zerolinecolor\":\"white\",\"gridwidth\":2},\"zaxis\":{\"backgroundcolor\":\"#E5ECF6\",\"gridcolor\":\"white\",\"linecolor\":\"white\",\"showbackground\":true,\"ticks\":\"\",\"zerolinecolor\":\"white\",\"gridwidth\":2}},\"shapedefaults\":{\"line\":{\"color\":\"#2a3f5f\"}},\"annotationdefaults\":{\"arrowcolor\":\"#2a3f5f\",\"arrowhead\":0,\"arrowwidth\":1},\"geo\":{\"bgcolor\":\"white\",\"landcolor\":\"#E5ECF6\",\"subunitcolor\":\"white\",\"showland\":true,\"showlakes\":true,\"lakecolor\":\"white\"},\"title\":{\"x\":0.05},\"mapbox\":{\"style\":\"light\"}}},\"xaxis\":{\"anchor\":\"y\",\"domain\":[0.0,1.0],\"title\":{\"text\":\"emotion\"}},\"yaxis\":{\"anchor\":\"x\",\"domain\":[0.0,1.0],\"title\":{\"text\":\"Count\"}},\"legend\":{\"title\":{\"text\":\"usage\"},\"tracegroupgap\":0},\"title\":{\"text\":\"Emotion Counts by Usage\"},\"barmode\":\"stack\"},                        {\"responsive\": true}                    ).then(function(){\n",
       "                            \n",
       "var gd = document.getElementById('41847ee1-bb22-417e-b5ee-bd3f47670739');\n",
       "var x = new MutationObserver(function (mutations, observer) {{\n",
       "        var display = window.getComputedStyle(gd).display;\n",
       "        if (!display || display === 'none') {{\n",
       "            console.log([gd, 'removed!']);\n",
       "            Plotly.purge(gd);\n",
       "            observer.disconnect();\n",
       "        }}\n",
       "}});\n",
       "\n",
       "// Listen for the removal of the full notebook cells\n",
       "var notebookContainer = gd.closest('#notebook-container');\n",
       "if (notebookContainer) {{\n",
       "    x.observe(notebookContainer, {childList: true});\n",
       "}}\n",
       "\n",
       "// Listen for the clearing of the current output cell\n",
       "var outputEl = gd.closest('.output');\n",
       "if (outputEl) {{\n",
       "    x.observe(outputEl, {childList: true});\n",
       "}}\n",
       "\n",
       "                        })                };                });            </script>        </div>"
      ]
     },
     "metadata": {},
     "output_type": "display_data"
    }
   ],
   "source": [
    "fig = px.bar(\n",
    "    data_frame=gby, \n",
    "    x='emotion', \n",
    "    y='Count',\n",
    "    color='usage', \n",
    "    barmode='stack', \n",
    "    title='Emotion Counts by Usage'\n",
    ")\n",
    "\n",
    "# Update traces using the style dictionary for color and opacity\n",
    "for trace in fig.data:\n",
    "    dataset_type = trace.name  # The name will be 'Train' or 'Test'\n",
    "    \n",
    "    # Extract the corresponding color for each emotion and set the opacity based on 'Train' or 'Test'\n",
    "    colors = [emo_color_dict[emotion] for emotion in trace.x]  # Get color for each corresponding emotion in x values\n",
    "    opacity = 1.0 if dataset_type == 'Training' else 0.7  # Set opacity based on dataset type\n",
    "\n",
    "    # Update the trace with custom colors and opacity\n",
    "    trace.update(marker=dict(color=colors, opacity=opacity))\n",
    "\n",
    "fig.show()"
   ]
  },
  {
   "cell_type": "code",
   "execution_count": null,
   "id": "0e042c1a-dada-4676-bc16-471e15d5a20e",
   "metadata": {},
   "outputs": [],
   "source": []
  },
  {
   "cell_type": "code",
   "execution_count": 63,
   "id": "64f47b38-d44b-4809-82f6-747ff6480cea",
   "metadata": {},
   "outputs": [
    {
     "name": "stdout",
     "output_type": "stream",
     "text": [
      "emo is: Angry.\n",
      "Training\n",
      "emo is: Angry.\n",
      "Testing\n"
     ]
    }
   ],
   "source": [
    "for trace in fig.data:\n",
    "    emo = trace.x[0]\n",
    "    print(f'emo is: {emo}.')\n",
    "    print(trace.name)"
   ]
  },
  {
   "cell_type": "code",
   "execution_count": 65,
   "id": "a4f6c879-ea60-4a43-b677-f5e6c03f91fb",
   "metadata": {},
   "outputs": [
    {
     "data": {
      "text/plain": [
       "array(['Angry', 'Disgust', 'Fear', 'Happy', 'Neutral', 'Sad', 'Surprise'],\n",
       "      dtype=object)"
      ]
     },
     "execution_count": 65,
     "metadata": {},
     "output_type": "execute_result"
    }
   ],
   "source": [
    "trace.x"
   ]
  },
  {
   "cell_type": "code",
   "execution_count": null,
   "id": "32e76064-3212-47ef-a8eb-4afbd4caec0f",
   "metadata": {},
   "outputs": [],
   "source": []
  },
  {
   "cell_type": "code",
   "execution_count": 67,
   "id": "36b1fac1-e58f-49eb-9d24-48b6589d473a",
   "metadata": {},
   "outputs": [
    {
     "name": "stdout",
     "output_type": "stream",
     "text": [
      "emotion is: Training\n",
      "usage is: Training.\n",
      "emotion is: Testing\n",
      "usage is: Testing.\n"
     ]
    }
   ],
   "source": [
    "# Update traces using the style dictionary\n",
    "for trace in fig.data:\n",
    "    emotion = trace.legendgroup  # Use legendgroup to identify the emotion associated with the trace\n",
    "    dataset_type = trace.name    # The name will be 'Train' or 'Test'\n",
    "\n",
    "    print(f'emotion is: {emotion}')\n",
    "    print(f'usage is: {dataset_type}.')\n",
    "    \n",
    "    # # Set color and opacity using the style dictionary\n",
    "    # if emotion in style_dict and dataset_type in ['Train', 'Test']:\n",
    "    #     trace.update(\n",
    "    #         marker_color=style_dict[emotion]['color'],\n",
    "    #         opacity=style_dict[emotion][dataset_type]\n",
    "    #     )"
   ]
  },
  {
   "cell_type": "code",
   "execution_count": 69,
   "id": "2d887a9b-f638-4806-a8af-498e21521091",
   "metadata": {},
   "outputs": [
    {
     "data": {
      "text/plain": [
       "'Testing'"
      ]
     },
     "execution_count": 69,
     "metadata": {},
     "output_type": "execute_result"
    }
   ],
   "source": [
    "trace.legendgroup"
   ]
  },
  {
   "cell_type": "code",
   "execution_count": 75,
   "id": "e5346545-4ed8-47e4-921a-cef28a6b381a",
   "metadata": {},
   "outputs": [
    {
     "data": {
      "text/plain": [
       "2"
      ]
     },
     "execution_count": 75,
     "metadata": {},
     "output_type": "execute_result"
    }
   ],
   "source": [
    "len(fig.data)"
   ]
  },
  {
   "cell_type": "code",
   "execution_count": 71,
   "id": "1eef7bde-34fb-4818-b632-ae1ce0481f64",
   "metadata": {},
   "outputs": [
    {
     "data": {
      "text/plain": [
       "Bar({\n",
       "    'alignmentgroup': 'True',\n",
       "    'hovertemplate': 'usage=Testing<br>emotion=%{x}<br>Count=%{y}<extra></extra>',\n",
       "    'legendgroup': 'Testing',\n",
       "    'marker': {'color': 'red', 'pattern': {'shape': ''}},\n",
       "    'name': 'Testing',\n",
       "    'offsetgroup': 'Testing',\n",
       "    'opacity': 0.5,\n",
       "    'orientation': 'v',\n",
       "    'showlegend': True,\n",
       "    'textposition': 'auto',\n",
       "    'x': array(['Angry', 'Disgust', 'Fear', 'Happy', 'Neutral', 'Sad', 'Surprise'],\n",
       "               dtype=object),\n",
       "    'xaxis': 'x',\n",
       "    'y': array([ 958,  111, 1024, 1774, 1233, 1247,  831]),\n",
       "    'yaxis': 'y'\n",
       "})"
      ]
     },
     "execution_count": 71,
     "metadata": {},
     "output_type": "execute_result"
    }
   ],
   "source": [
    "trace"
   ]
  },
  {
   "cell_type": "code",
   "execution_count": 83,
   "id": "1b730ff5-529c-4b6f-bf48-45102c67346d",
   "metadata": {},
   "outputs": [
    {
     "data": {
      "text/plain": [
       "plotly.graph_objs._bar.Bar"
      ]
     },
     "execution_count": 83,
     "metadata": {},
     "output_type": "execute_result"
    }
   ],
   "source": [
    "type(trace)"
   ]
  },
  {
   "cell_type": "code",
   "execution_count": null,
   "id": "e2d625a7-b749-4f6e-9dda-9c72a885d751",
   "metadata": {},
   "outputs": [],
   "source": []
  },
  {
   "cell_type": "code",
   "execution_count": 24,
   "id": "0e418978-72f7-48d0-9e5e-e30742154c6c",
   "metadata": {},
   "outputs": [],
   "source": [
    "# # ,\n",
    "# #     color_discrete_sequence=px.colors.qualitative.Plotly)\n",
    "\n",
    "# # Manually update traces to apply colors from the dataframe\n",
    "# fig.for_each_trace(lambda trace: trace.update(marker_color=df[df['emotion'] == trace.name]['color'].iloc[0], opacity=df[df['usage'] == trace.name]['opacity'].iloc[0]))\n",
    "\n",
    "# fig = apply_plotly_formatting(fig, title=title, xlabel='Emotion', ylabel='Count')\n",
    "\n",
    "# # Update the layout to capitalize the legend title\n",
    "# fig.update_layout(legend_title_text=color.capitalize())\n",
    "\n",
    "# # Save the plot if save_path is provided\n",
    "# if save_path:\n",
    "#     fig.write_image(save_path)\n",
    "\n",
    "# # Display the plot\n",
    "# fig.show()"
   ]
  },
  {
   "cell_type": "code",
   "execution_count": null,
   "id": "d4fe74f3-fb9f-4632-a2e4-b8782cff0fbd",
   "metadata": {},
   "outputs": [],
   "source": []
  },
  {
   "cell_type": "code",
   "execution_count": null,
   "id": "85309e21-e31e-4b3b-be81-8f956e637831",
   "metadata": {},
   "outputs": [],
   "source": []
  },
  {
   "cell_type": "code",
   "execution_count": 25,
   "id": "81d13b5f-274b-4ed4-ab07-bbb1919f7822",
   "metadata": {},
   "outputs": [],
   "source": [
    "# plot_emotion_counts_plotly(\n",
    "#     df=gby, \n",
    "#     x='emotion',\n",
    "#     y='Count',\n",
    "#     color='usage', \n",
    "#     title='Emotion Counts Split by Usage (Train/Test)',\n",
    "#     save_path=os.path.join('imgs', 'emotion_counts_plotly.png'),\n",
    "#     stacked=False\n",
    "# )"
   ]
  },
  {
   "cell_type": "code",
   "execution_count": 26,
   "id": "02a66c33-16ef-400d-bb1d-4f8b1dfcd905",
   "metadata": {},
   "outputs": [],
   "source": [
    "# plot_emotion_counts_plotly(\n",
    "#     df=gby, \n",
    "#     x='emotion',\n",
    "#     y='Count',\n",
    "#     color='usage', \n",
    "#     title='Emotion Counts Split by Usage (Train/Test)',\n",
    "#     save_path=os.path.join('imgs', 'emotion_counts_plotly.png'),\n",
    "#     stacked=True\n",
    "# )"
   ]
  },
  {
   "cell_type": "markdown",
   "id": "1bab44be-3af9-4d17-ab03-0a165b979187",
   "metadata": {},
   "source": [
    "## Pivots grouped by Emotion and Usage"
   ]
  },
  {
   "cell_type": "code",
   "execution_count": 28,
   "id": "6118b5e8-3612-4c26-b81a-96ded53f4d96",
   "metadata": {},
   "outputs": [],
   "source": [
    "# # skim will generate and save a file with basic descriptives\n",
    "# for df_str, pd_df in df_dict.items():\n",
    "#     piv_df = emotion_count_piv(\n",
    "#         df=pd_df,\n",
    "#         gby_cols=['emotion', 'train_test_split'], \n",
    "#         agg_col='Filename',\n",
    "#         count_cols=['Training', 'Testing']\n",
    "#     )\n",
    "\n",
    "#     # Skim package for a nice overview, saved to save_path below\n",
    "#     out_path = os.path.join('imgs', f'{df_str}_counts_skim.svg')\n",
    "#     skim_get_figure(piv_df, save_path=out_path)\n",
    "\n",
    "#     # Bar plot of emotion image counts\n",
    "#     piv_stacked_bar(df=piv_df, label=df_str)\n",
    "\n",
    "#     # Waffle plot of distribution\n",
    "#     waffle_path = os.path.join('imgs', f'{df_str}_waffle_chart.png')\n",
    "#     waffle_chart(\n",
    "#         df=piv_df, group_col='Emotion', data_col='TotalImages', \n",
    "#         save_path=waffle_path, display=False, total_squares=100,\n",
    "#         color_dict=emo_color_dict\n",
    "#     )\n",
    "\n",
    "#     # Save pivoted data\n",
    "#     intermediate_data_dir = os.path.join('data', 'intermediate_data')\n",
    "#     os.makedirs(intermediate_data_dir, exist_ok=True)\n",
    "#     piv_save_path = os.path.join(intermediate_data_dir, f'{df_str}_emo_piv.csv')\n",
    "#     piv_df.to_csv(piv_save_path)"
   ]
  },
  {
   "cell_type": "markdown",
   "id": "3a0075ab-5048-49b9-abb1-69a52581468e",
   "metadata": {},
   "source": [
    "## Example Images"
   ]
  },
  {
   "cell_type": "code",
   "execution_count": 30,
   "id": "53bb0aa6-09af-4e0a-b49f-14fd98fdb72c",
   "metadata": {},
   "outputs": [],
   "source": [
    "# display_images=False\n",
    "# for df_str, pd_df in df_dict.items():\n",
    "#     # Creates image with 1 example face/emotion\n",
    "#     fig, axes = show_example_images(\n",
    "#         df=pd_df, group_col='emotion', image_col='Full Path', \n",
    "#         save_path=f'./imgs/{df_str}_examples_1.png', samples=1,\n",
    "#         display=display_images)\n",
    "\n",
    "#     # Creates image with 3 example face/emotion\n",
    "#     fig, axes = show_example_images(\n",
    "#         df=pd_df, group_col='emotion', image_col='Full Path', \n",
    "#         save_path=f'./imgs/{df_str}_examples_3.png', samples=3,\n",
    "#         display=display_images)"
   ]
  },
  {
   "cell_type": "code",
   "execution_count": null,
   "id": "6013711d-d8a2-4b04-8c49-202ae08fe470",
   "metadata": {},
   "outputs": [],
   "source": []
  },
  {
   "cell_type": "code",
   "execution_count": null,
   "id": "b139a809-18ca-41f1-9973-b1437db6942b",
   "metadata": {},
   "outputs": [],
   "source": []
  },
  {
   "cell_type": "code",
   "execution_count": null,
   "id": "9363aa3b-9bd9-4729-a054-86b3d45476a7",
   "metadata": {},
   "outputs": [],
   "source": []
  }
 ],
 "metadata": {
  "kernelspec": {
   "display_name": "Python 3 (ipykernel)",
   "language": "python",
   "name": "python3"
  },
  "language_info": {
   "codemirror_mode": {
    "name": "ipython",
    "version": 3
   },
   "file_extension": ".py",
   "mimetype": "text/x-python",
   "name": "python",
   "nbconvert_exporter": "python",
   "pygments_lexer": "ipython3",
   "version": "3.11.7"
  }
 },
 "nbformat": 4,
 "nbformat_minor": 5
}
