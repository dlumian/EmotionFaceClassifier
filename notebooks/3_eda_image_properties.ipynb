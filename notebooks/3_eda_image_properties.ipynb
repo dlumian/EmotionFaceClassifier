{
 "cells": [
  {
   "cell_type": "markdown",
   "id": "d98395bb-0d3a-49ec-ba40-fac12ec8e4cb",
   "metadata": {},
   "source": [
    "# Exploratory Data Analysis (EDA) Image Properties \n",
    "\n",
    "## Emotion Face Classifier Notebook 3\n",
    "\n",
    "Creates multiple visualizations of images by emotional category including:\n",
    "- Sample images\n",
    "- Pixel intensity histograms\n",
    "- Composite images (average and median)"
   ]
  },
  {
   "cell_type": "code",
   "execution_count": null,
   "id": "da3fff04-a244-4eb8-9ad9-d85add89babf",
   "metadata": {},
   "outputs": [],
   "source": [
    "%load_ext autoreload\n",
    "%autoreload 2"
   ]
  },
  {
   "cell_type": "code",
   "execution_count": null,
   "id": "604fa63a-c6ca-4f48-a76e-495a40b8162e",
   "metadata": {},
   "outputs": [],
   "source": [
    "import os\n",
    "import itertools\n",
    "import pandas as pd"
   ]
  },
  {
   "cell_type": "code",
   "execution_count": null,
   "id": "319a611c-f030-4418-8f4a-951728d61ec8",
   "metadata": {},
   "outputs": [],
   "source": [
    "from datascifuncs.tidbit_tools import load_json, write_json, print_json, check_directory_name"
   ]
  },
  {
   "cell_type": "code",
   "execution_count": null,
   "id": "ab48ca30-9e70-4257-b8fb-510f903b3a45",
   "metadata": {},
   "outputs": [],
   "source": [
    "main_dir = 'EmotionFaceClassifier'\n",
    "check_directory_name(main_dir)"
   ]
  },
  {
   "cell_type": "code",
   "execution_count": null,
   "id": "db33d99c-4e5f-453a-a52f-23803368cdf1",
   "metadata": {},
   "outputs": [],
   "source": [
    "from utils.preprocessing import (\n",
    "    preprocess_images,\n",
    "    plot_face_matrix\n",
    ")"
   ]
  },
  {
   "cell_type": "code",
   "execution_count": null,
   "id": "2b999844-c249-4477-a491-290c447a6f6f",
   "metadata": {},
   "outputs": [],
   "source": [
    "from utils.image_properties import (\n",
    "    generate_sample_images,\n",
    "    generate_pixel_intensities,\n",
    "    generate_composite_faces\n",
    ")"
   ]
  },
  {
   "cell_type": "markdown",
   "id": "6fb22e5b-3581-4a15-89ac-db54b2d4bafa",
   "metadata": {},
   "source": [
    "### Load and split data\n",
    "\n",
    "Read in data from csv.\n",
    "\n",
    "Select only the training portion of the data.\n",
    "\n",
    "Load in project configuration file."
   ]
  },
  {
   "cell_type": "code",
   "execution_count": null,
   "id": "31be28ff-8aa3-447b-928c-f9e8ebb210ec",
   "metadata": {},
   "outputs": [],
   "source": [
    "# Read in FER 2013 data\n",
    "fer2013_path = 'data/fer2013_paths.csv'\n",
    "fer2013 = pd.read_csv(fer2013_path)"
   ]
  },
  {
   "cell_type": "code",
   "execution_count": null,
   "id": "6a56f969-a42b-43d7-af42-4f910eb960e5",
   "metadata": {},
   "outputs": [],
   "source": [
    "# Check data\n",
    "fer2013.head()"
   ]
  },
  {
   "cell_type": "code",
   "execution_count": null,
   "id": "bc0d3edf-3a11-4318-ac95-53da62dcc1f6",
   "metadata": {},
   "outputs": [],
   "source": [
    "# Select training data\n",
    "# Ensure number of rows drops appropriately\n",
    "print(fer2013.shape)\n",
    "train_df = fer2013[fer2013['usage']=='Training']\n",
    "print(train_df.shape)"
   ]
  },
  {
   "cell_type": "code",
   "execution_count": null,
   "id": "d020ada1-10ba-4fb4-9d0c-5a2193b5d2bf",
   "metadata": {},
   "outputs": [],
   "source": [
    "# Load common dicts from json config file\n",
    "common_dicts = load_json('./configs/input_mappings.json')"
   ]
  },
  {
   "cell_type": "code",
   "execution_count": null,
   "id": "b63b2d88-d358-4438-b1e1-77f094febe1c",
   "metadata": {},
   "outputs": [],
   "source": [
    "# Get subset of emo-color mappings\n",
    "color_dict = common_dicts['color_dict']\n",
    "color_dict"
   ]
  },
  {
   "cell_type": "code",
   "execution_count": null,
   "id": "1731adc2-95f3-4460-8093-16ef01227ac4",
   "metadata": {},
   "outputs": [],
   "source": [
    "image_dir = os.path.join('images', 'comparisons')\n",
    "os.makedirs(image_dir, exist_ok=True)"
   ]
  },
  {
   "cell_type": "markdown",
   "id": "d11fbf50-2c5e-4932-a9d9-c86eaf13bce8",
   "metadata": {},
   "source": [
    "### Select and Display Sample Images\n",
    "\n",
    "Randomly sample images from each category.\n",
    "\n",
    "Set output path to save image. "
   ]
  },
  {
   "cell_type": "code",
   "execution_count": null,
   "id": "57c36a63-b5ba-4271-9208-892bdf1930d7",
   "metadata": {},
   "outputs": [],
   "source": [
    "# Create dictionary of n images for each category\n",
    "emo_samples = generate_sample_images(train_df, n=5, cat_col='emotion', path_col='img_path')"
   ]
  },
  {
   "cell_type": "code",
   "execution_count": null,
   "id": "41c99ca1-bae6-4dd5-88cf-c96ebe5a01b1",
   "metadata": {},
   "outputs": [],
   "source": [
    "# Set path to save sample matrix to\n",
    "sample_imgs_save_path = os.path.join(image_dir, 'sample_images.png')"
   ]
  },
  {
   "cell_type": "code",
   "execution_count": null,
   "id": "461f9e93-fb78-4b50-a1a7-bdc9808c4aa4",
   "metadata": {},
   "outputs": [],
   "source": [
    "# Plot sample images\n",
    "plot_face_matrix(\n",
    "    image_dict=emo_samples, \n",
    "    row_labels=None,\n",
    "    group_colors=color_dict, \n",
    "    save_path=sample_imgs_save_path,\n",
    "    main_title='Sample Images'\n",
    ")"
   ]
  },
  {
   "cell_type": "markdown",
   "id": "a374c756-991e-4388-813e-c51a10aa620f",
   "metadata": {},
   "source": [
    "### Visualize Pixel Intensities\n",
    "\n",
    "Convert images into matrix for analysis. \n",
    "\n",
    "Set output path.\n",
    "\n",
    "Save image to path."
   ]
  },
  {
   "cell_type": "code",
   "execution_count": null,
   "id": "d88b6c09-5eff-4a75-aa74-e7ccb6749e01",
   "metadata": {},
   "outputs": [],
   "source": [
    "# Convert data into X and y arrays\n",
    "X_train, y_train = preprocess_images(fer2013, usage='Training')"
   ]
  },
  {
   "cell_type": "code",
   "execution_count": null,
   "id": "6f1254cd-56a2-47dd-b8f2-0f3e11535096",
   "metadata": {},
   "outputs": [],
   "source": [
    "# Set path for output\n",
    "pixel_imgs_save_path = os.path.join(image_dir, 'pixel_intensities.png')"
   ]
  },
  {
   "cell_type": "code",
   "execution_count": null,
   "id": "15a35fe7-83dc-41b8-8df1-41e1eca8b165",
   "metadata": {},
   "outputs": [],
   "source": [
    "# Calculate intensities and save to path\n",
    "generate_pixel_intensities(\n",
    "    X_train, \n",
    "    y_train, \n",
    "    color_dict=color_dict, \n",
    "    save_path=pixel_imgs_save_path\n",
    ")"
   ]
  },
  {
   "cell_type": "markdown",
   "id": "76291c73-9bde-41fb-9713-09e51de0d2a2",
   "metadata": {},
   "source": [
    "### Composite Faces\n",
    "\n",
    "Use mean and median calculations on categories for composite category representations.\n",
    "\n",
    "Plot and save images to file path"
   ]
  },
  {
   "cell_type": "code",
   "execution_count": null,
   "id": "90815309-46c0-4ec9-8278-55d774f96910",
   "metadata": {},
   "outputs": [],
   "source": [
    "# Get dictionary of categories and composite images\n",
    "# List of row labels for axis labels when plotting\n",
    "composite_face_dict, row_labels = generate_composite_faces(X_train, y_train, overall=True)"
   ]
  },
  {
   "cell_type": "code",
   "execution_count": null,
   "id": "ae3701a4-1c94-4622-b2d7-300e2246c6af",
   "metadata": {},
   "outputs": [],
   "source": [
    "# Set output path\n",
    "composite_imgs_save_path = os.path.join(image_dir, 'composite_faces.png')"
   ]
  },
  {
   "cell_type": "code",
   "execution_count": null,
   "id": "89566d0e-cd59-437a-a0fa-4f32cb3167c9",
   "metadata": {},
   "outputs": [],
   "source": [
    "# Create visual and save to path\n",
    "plot_face_matrix(\n",
    "    image_dict=composite_face_dict, \n",
    "    row_labels=row_labels,\n",
    "    group_colors=color_dict, \n",
    "    save_path=composite_imgs_save_path,\n",
    "    main_title='Composite Faces'\n",
    ")"
   ]
  }
 ],
 "metadata": {
  "kernelspec": {
   "display_name": "Python 3 (ipykernel)",
   "language": "python",
   "name": "python3"
  },
  "language_info": {
   "codemirror_mode": {
    "name": "ipython",
    "version": 3
   },
   "file_extension": ".py",
   "mimetype": "text/x-python",
   "name": "python",
   "nbconvert_exporter": "python",
   "pygments_lexer": "ipython3",
   "version": "3.11.7"
  }
 },
 "nbformat": 4,
 "nbformat_minor": 5
}
