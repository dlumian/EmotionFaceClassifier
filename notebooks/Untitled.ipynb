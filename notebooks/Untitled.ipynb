{
 "cells": [
  {
   "cell_type": "code",
   "execution_count": null,
   "id": "4a8e8f44-c4d3-4311-820c-e43f9c9b826a",
   "metadata": {},
   "outputs": [],
   "source": [
    "import numpy as np"
   ]
  },
  {
   "cell_type": "code",
   "execution_count": null,
   "id": "3997b59d-6c73-4c21-8d62-fca2237ec1d0",
   "metadata": {},
   "outputs": [],
   "source": [
    "a2D = np.array([[1, 2, 3, 4], [5, 6, 7, 8]])"
   ]
  },
  {
   "cell_type": "code",
   "execution_count": null,
   "id": "66c92f4d-2016-4f65-a3c4-455a555a8305",
   "metadata": {},
   "outputs": [],
   "source": [
    "a2D"
   ]
  },
  {
   "cell_type": "code",
   "execution_count": null,
   "id": "67af392c-c24c-4ff8-81d5-943b0a57d2fe",
   "metadata": {},
   "outputs": [],
   "source": [
    "a2D[:,:]"
   ]
  },
  {
   "cell_type": "code",
   "execution_count": null,
   "id": "2f675544-d39d-48b7-b046-042d8805b02d",
   "metadata": {},
   "outputs": [],
   "source": [
    "a2D[:,:2]"
   ]
  },
  {
   "cell_type": "code",
   "execution_count": null,
   "id": "089e3c36-3659-4b10-b42d-8417104030eb",
   "metadata": {},
   "outputs": [],
   "source": [
    "a2D[:2,:]"
   ]
  },
  {
   "cell_type": "code",
   "execution_count": null,
   "id": "c7faa7b5-c772-46b3-81a0-abb8cead1c1e",
   "metadata": {},
   "outputs": [],
   "source": [
    "from platform import python_version\n",
    "\n",
    "print(python_version())"
   ]
  },
  {
   "cell_type": "code",
   "execution_count": null,
   "id": "0622cb2b-e580-4fca-85e5-1aaa3249111a",
   "metadata": {},
   "outputs": [],
   "source": [
    "import sys"
   ]
  },
  {
   "cell_type": "code",
   "execution_count": null,
   "id": "2268d3b9-c7f9-455a-ab0a-2b75561fbce9",
   "metadata": {},
   "outputs": [],
   "source": [
    "sys.executable"
   ]
  },
  {
   "cell_type": "code",
   "execution_count": null,
   "id": "e5dfeb44-786b-48b6-be9b-217673021e80",
   "metadata": {},
   "outputs": [],
   "source": [
    "arr =np.array([0, 1, 2, 3,], [4, 5, 6,7])"
   ]
  },
  {
   "cell_type": "code",
   "execution_count": null,
   "id": "31688827-2de3-4435-87ba-cee03f63fc9a",
   "metadata": {},
   "outputs": [],
   "source": [
    "from PIL import Image"
   ]
  },
  {
   "cell_type": "code",
   "execution_count": null,
   "id": "331ba813-f7fd-4f59-846a-47ddec93d1d7",
   "metadata": {},
   "outputs": [],
   "source": [
    "img_path = '../data/Training/Angry/Angry-1.jpg'"
   ]
  },
  {
   "cell_type": "code",
   "execution_count": null,
   "id": "ea0a7286-2278-4dd2-9e01-1d83330ed640",
   "metadata": {},
   "outputs": [],
   "source": [
    "img = Image.open(img_path)"
   ]
  },
  {
   "cell_type": "code",
   "execution_count": null,
   "id": "0f34b469-e639-442b-8189-e35370476d87",
   "metadata": {},
   "outputs": [],
   "source": [
    "img"
   ]
  },
  {
   "cell_type": "code",
   "execution_count": null,
   "id": "01ec99b7-3058-4fc5-b8ff-66e051711174",
   "metadata": {},
   "outputs": [],
   "source": [
    "type(img)"
   ]
  },
  {
   "cell_type": "code",
   "execution_count": null,
   "id": "97bd2404-d7a2-4ae9-be85-493d4abf5953",
   "metadata": {},
   "outputs": [],
   "source": [
    "np.array(img)"
   ]
  },
  {
   "cell_type": "code",
   "execution_count": null,
   "id": "96ad588a-821e-467d-b1f3-320f18791e4c",
   "metadata": {},
   "outputs": [],
   "source": [
    "np.array(img).shape"
   ]
  },
  {
   "cell_type": "code",
   "execution_count": null,
   "id": "4622a0bd-1443-4093-8237-a72528d53778",
   "metadata": {},
   "outputs": [],
   "source": []
  },
  {
   "cell_type": "code",
   "execution_count": null,
   "id": "17b0712f-54f1-4b5b-b0c4-163944aa54ea",
   "metadata": {},
   "outputs": [],
   "source": []
  },
  {
   "cell_type": "code",
   "execution_count": null,
   "id": "0c354cb3-8629-4af4-9244-0d8fb70755b4",
   "metadata": {},
   "outputs": [],
   "source": []
  },
  {
   "cell_type": "code",
   "execution_count": null,
   "id": "6e14fed8-9bd4-45c7-a8d2-154eba179d48",
   "metadata": {},
   "outputs": [],
   "source": [
    "from datascifuncs.tidbit_tools import load_json, write_json, print_json, check_directory_name"
   ]
  },
  {
   "cell_type": "code",
   "execution_count": null,
   "id": "c5197dff-3610-484c-9253-a08f2a7604c6",
   "metadata": {},
   "outputs": [],
   "source": []
  },
  {
   "cell_type": "code",
   "execution_count": null,
   "id": "f6de726a-658e-41ba-ba38-5f5bcdda7042",
   "metadata": {},
   "outputs": [],
   "source": [
    "decomp_models = load_json('../configs/unsupervised_models.json')"
   ]
  },
  {
   "cell_type": "code",
   "execution_count": null,
   "id": "ecf4f7e7-8647-4232-b3d8-aa3f5e198586",
   "metadata": {},
   "outputs": [],
   "source": [
    "decomp_models"
   ]
  },
  {
   "cell_type": "code",
   "execution_count": null,
   "id": "cd788bae-838d-4b29-8c3a-3ba3654b79ed",
   "metadata": {},
   "outputs": [],
   "source": [
    "decomp_models.keys()"
   ]
  },
  {
   "cell_type": "code",
   "execution_count": null,
   "id": "fa3d5abb-c192-48dc-9155-766bb4481bfe",
   "metadata": {},
   "outputs": [],
   "source": [
    "analyses = decomp_models['Analyses']"
   ]
  },
  {
   "cell_type": "code",
   "execution_count": null,
   "id": "f372b679-fa59-46dd-bfcd-ff02e17c047f",
   "metadata": {},
   "outputs": [],
   "source": [
    "analyses"
   ]
  },
  {
   "cell_type": "code",
   "execution_count": null,
   "id": "49b635f7-0c77-46da-8968-aa1cf30e327c",
   "metadata": {},
   "outputs": [],
   "source": [
    "run_settings = {}"
   ]
  },
  {
   "cell_type": "code",
   "execution_count": null,
   "id": "57aecce4-89ee-41c4-887a-8f075f334f6c",
   "metadata": {},
   "outputs": [],
   "source": [
    "for a in analyses:\n",
    "    for norm in a['normalization']:\n",
    "        print(a['type'], norm)\n",
    "        type = a['type']\n",
    "        print(decomp_models[type])"
   ]
  },
  {
   "cell_type": "code",
   "execution_count": null,
   "id": "40ca1702-697e-48de-8b92-469feec29c4a",
   "metadata": {},
   "outputs": [],
   "source": []
  }
 ],
 "metadata": {
  "kernelspec": {
   "display_name": "Python 3 (ipykernel)",
   "language": "python",
   "name": "python3"
  },
  "language_info": {
   "codemirror_mode": {
    "name": "ipython",
    "version": 3
   },
   "file_extension": ".py",
   "mimetype": "text/x-python",
   "name": "python",
   "nbconvert_exporter": "python",
   "pygments_lexer": "ipython3",
   "version": "3.11.7"
  }
 },
 "nbformat": 4,
 "nbformat_minor": 5
}
