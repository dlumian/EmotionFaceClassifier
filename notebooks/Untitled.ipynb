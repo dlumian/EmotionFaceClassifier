{
 "cells": [
  {
   "cell_type": "code",
   "execution_count": 1,
   "id": "74a72ce7-5b94-44ce-b7c8-63bfc2887afb",
   "metadata": {},
   "outputs": [],
   "source": [
    "l = ['sad', 'happy', 'angry']"
   ]
  },
  {
   "cell_type": "code",
   "execution_count": 5,
   "id": "4bcf60ba-cf72-4376-a341-ae88661641cb",
   "metadata": {},
   "outputs": [],
   "source": [
    "l2 = ['fear'] + l"
   ]
  },
  {
   "cell_type": "code",
   "execution_count": 7,
   "id": "9308b267-2e30-48a2-8bd4-43dc37f2d8b4",
   "metadata": {},
   "outputs": [
    {
     "data": {
      "text/plain": [
       "['fear', 'sad', 'happy', 'angry']"
      ]
     },
     "execution_count": 7,
     "metadata": {},
     "output_type": "execute_result"
    }
   ],
   "source": [
    "l2"
   ]
  },
  {
   "cell_type": "code",
   "execution_count": null,
   "id": "d82abf86-bac7-44e0-b988-252b2063ba10",
   "metadata": {},
   "outputs": [],
   "source": []
  }
 ],
 "metadata": {
  "kernelspec": {
   "display_name": "Python 3 (ipykernel)",
   "language": "python",
   "name": "python3"
  },
  "language_info": {
   "codemirror_mode": {
    "name": "ipython",
    "version": 3
   },
   "file_extension": ".py",
   "mimetype": "text/x-python",
   "name": "python",
   "nbconvert_exporter": "python",
   "pygments_lexer": "ipython3",
   "version": "3.11.7"
  }
 },
 "nbformat": 4,
 "nbformat_minor": 5
}
